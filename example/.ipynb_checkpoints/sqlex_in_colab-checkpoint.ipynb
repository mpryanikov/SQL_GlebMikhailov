{
 "cells": [
  {
   "cell_type": "markdown",
   "metadata": {
    "colab_type": "text",
    "id": "view-in-github"
   },
   "source": [
    "<a href=\"https://colab.research.google.com/github/glebmikha/sql-course/blob/main/sqlex_in_colab.ipynb\" target=\"_parent\"><img src=\"https://colab.research.google.com/assets/colab-badge.svg\" alt=\"Open In Colab\"/></a>"
   ]
  },
  {
   "cell_type": "markdown",
   "metadata": {
    "id": "z1DozNnT0o01"
   },
   "source": [
    "## SQL-EX в Colab"
   ]
  },
  {
   "cell_type": "markdown",
   "metadata": {
    "id": "qmgKc4H00s-K"
   },
   "source": [
    "Мой канал в телеге: https://t.me/mikhaylovgleb"
   ]
  },
  {
   "cell_type": "markdown",
   "metadata": {
    "id": "q6FFd6UyW7G9"
   },
   "source": [
    "# Создаем базу с данными sql-ex"
   ]
  },
  {
   "cell_type": "markdown",
   "metadata": {
    "id": "Ypa7s6V4e8VO"
   },
   "source": [
    "Ссылка на заготовку для решения задач с sql-ex https://colab.research.google.com/drive/1EMINDbe4DeB-aQEjMeHQ_PKWEvOXjGWw#scrollTo=y8gDnmUme5x8 (это ссылка на этот же ноутбук)"
   ]
  },
  {
   "cell_type": "markdown",
   "metadata": {
    "id": "7qSW3CUTdn5M"
   },
   "source": [
    "## Апгрейдим колаб, чтобы были оконные функции"
   ]
  },
  {
   "cell_type": "markdown",
   "metadata": {
    "id": "xsG36FzSeGAg"
   },
   "source": [
    "Эта ячейка автоматически перезагрузит рантайм -- это необходимо чтобы заработала новая версия sqlite. И что типа вылезла ошибка это так и надо, просто запускай ячейчки дальше."
   ]
  },
  {
   "cell_type": "code",
   "execution_count": null,
   "metadata": {
    "colab": {
     "base_uri": "https://localhost:8080/"
    },
    "id": "TQSfktzcduwK",
    "outputId": "a7ce255f-c544-40af-a5d8-6016b534964a"
   },
   "outputs": [
    {
     "name": "stdout",
     "output_type": "stream",
     "text": [
      "Downloading...\n",
      "From: https://drive.google.com/uc?id=1BSHIKQ7rFw5BpTq5nw1UZfjPK_7Mpnbi\n",
      "To: /content/_sqlite3.cpython-37m-x86_64-linux-gnu.so\n",
      "6.23MB [00:00, 28.9MB/s]\n"
     ]
    }
   ],
   "source": [
    "!gdown --id 1BSHIKQ7rFw5BpTq5nw1UZfjPK_7Mpnbi\n",
    "!mv _sqlite3.cpython-37m-x86_64-linux-gnu.so /usr/lib/python3.7/lib-dynload/\n",
    "import os\n",
    "os.kill(os.getpid(), 9)"
   ]
  },
  {
   "cell_type": "code",
   "execution_count": null,
   "metadata": {
    "id": "yY9jYroCd24s"
   },
   "outputs": [],
   "source": [
    "import sqlite3"
   ]
  },
  {
   "cell_type": "code",
   "execution_count": null,
   "metadata": {
    "colab": {
     "base_uri": "https://localhost:8080/",
     "height": 35
    },
    "id": "72RsPoBXd48r",
    "outputId": "bee5814c-f780-492e-c8b3-3fb0241935c2"
   },
   "outputs": [
    {
     "data": {
      "application/vnd.google.colaboratory.intrinsic+json": {
       "type": "string"
      },
      "text/plain": [
       "'3.34.1'"
      ]
     },
     "execution_count": 3,
     "metadata": {
      "tags": []
     },
     "output_type": "execute_result"
    }
   ],
   "source": [
    "sqlite3.sqlite_version"
   ]
  },
  {
   "cell_type": "code",
   "execution_count": null,
   "metadata": {
    "id": "9TrshySYd4EC"
   },
   "outputs": [],
   "source": [
    "conn = sqlite3.connect('db')\n",
    "cur = conn.cursor()"
   ]
  },
  {
   "cell_type": "markdown",
   "metadata": {
    "id": "_m4jKhM_d5ZG"
   },
   "source": [
    "## Создаем таблицы"
   ]
  },
  {
   "cell_type": "markdown",
   "metadata": {
    "id": "1yx_pU6eXEmn"
   },
   "source": [
    "Этот скрипт можно скачать у них на https://sql-ex.ru/db_script_download.php. Это конкретно https://sql-ex.ru/download/sql-ex-pg.sql, все таблицы одним скриптом для postgres. Чтобы они заработали в sqlite3 я удалил из них часть кода, который создает какие-то служебные штуки специфичные для posgres, какие-то constraints -- я сам не знаю что это такое. Но тут они не нужны и данные все корректные, можно работать."
   ]
  },
  {
   "cell_type": "code",
   "execution_count": null,
   "metadata": {
    "id": "a65W1P8YVkZ_"
   },
   "outputs": [],
   "source": [
    "sql = '''drop table if exists pass_in_trip;\n",
    "drop table if exists trip;\n",
    "drop table if exists passenger;\n",
    "drop table if exists company;\n",
    "\n",
    "--\n",
    "CREATE TABLE Company (\n",
    "\tID_comp int NOT NULL ,\n",
    "\tname char (10) NOT NULL \n",
    ")\n",
    ";\n",
    "\n",
    "CREATE TABLE Pass_in_trip (\n",
    "\ttrip_no int NOT NULL ,\n",
    "\tdate timestamp NOT NULL ,\n",
    "\tID_psg int NOT NULL ,\n",
    "\tplace char (10) NOT NULL \n",
    ")\n",
    ";\n",
    "\n",
    "CREATE TABLE Passenger (\n",
    "\tID_psg int NOT NULL ,\n",
    "\tname char (20) NOT NULL \n",
    ")\n",
    ";\n",
    "\n",
    "CREATE TABLE Trip (\n",
    "\ttrip_no int NOT NULL ,\n",
    "\tID_comp int NOT NULL ,\n",
    "\tplane char (10) NOT NULL ,\n",
    "\ttown_from char (25) NOT NULL ,\n",
    "\ttown_to char (25) NOT NULL ,\n",
    "\ttime_out timestamp NOT NULL ,\n",
    "\ttime_in timestamp NOT NULL \n",
    ")\n",
    ";\n",
    "\n",
    "                                                                                                                                                                                                                                                                 \n",
    "----Company------------------------------------------------------------------------------------------------------------------------------------------------------------------------------------------------------------------------------------------------------------ \n",
    "insert into Company values(1,'Don_avia  ');\n",
    "insert into Company values(2,'Aeroflot  ');\n",
    "insert into Company values(3,'Dale_avia ');\n",
    "insert into Company values(4,'air_France');\n",
    "insert into Company values(5,'British_AW');\n",
    "\n",
    "\n",
    "                                                                                                                                                                                                                                                                 \n",
    "----Passenger------------------------------------------------------------------------------------------------------------------------------------------------------------------------------------------------------------------------------------------------------------ \n",
    "insert into Passenger values(1,'Bruce Willis        ');\n",
    "insert into Passenger values(2,'George Clooney      ');\n",
    "insert into Passenger values(3,'Kevin Costner       ');\n",
    "insert into Passenger values(4,'Donald Sutherland   ');\n",
    "insert into Passenger values(5,'Jennifer Lopez      ');\n",
    "insert into Passenger values(6,'Ray Liotta          ');\n",
    "insert into Passenger values(7,'Samuel L. Jackson   ');\n",
    "insert into Passenger values(8,'Nikole Kidman       ');\n",
    "insert into Passenger values(9,'Alan Rickman        ');\n",
    "insert into Passenger values(10,'Kurt Russell        ');\n",
    "insert into Passenger values(11,'Harrison Ford       ');\n",
    "insert into Passenger values(12,'Russell Crowe       ');\n",
    "insert into Passenger values(13,'Steve Martin        ');\n",
    "insert into Passenger values(14,'Michael Caine       ');\n",
    "insert into Passenger values(15,'Angelina Jolie      ');\n",
    "insert into Passenger values(16,'Mel Gibson          ');\n",
    "insert into Passenger values(17,'Michael Douglas     ');\n",
    "insert into Passenger values(18,'John Travolta       ');\n",
    "insert into Passenger values(19,'Sylvester Stallone  ');\n",
    "insert into Passenger values(20,'Tommy Lee Jones     ');\n",
    "insert into Passenger values(21,'Catherine Zeta-Jones');\n",
    "insert into Passenger values(22,'Antonio Banderas    ');\n",
    "insert into Passenger values(23,'Kim Basinger        ');\n",
    "insert into Passenger values(24,'Sam Neill           ');\n",
    "insert into Passenger values(25,'Gary Oldman         ');\n",
    "insert into Passenger values(26,'Clint Eastwood      ');\n",
    "insert into Passenger values(27,'Brad Pitt           ');\n",
    "insert into Passenger values(28,'Johnny Depp         ');\n",
    "insert into Passenger values(29,'Pierce Brosnan      ');\n",
    "insert into Passenger values(30,'Sean Connery        ');\n",
    "insert into Passenger values(31,'Bruce Willis        ');\n",
    "insert into Passenger values(37,'Mullah Omar         ');\n",
    "\n",
    "\n",
    "\n",
    "                                                                                                                                                                                                                                                                 \n",
    "----Trip------------------------------------------------------------------------------------------------------------------------------------------------------------------------------------------------------------------------------------------------------------ \n",
    "insert into Trip values(1100,4,'Boeing    ','Rostov                   ','Paris                    ','19000101 14:30:00.000','19000101 17:50:00.000');\n",
    "insert into Trip values(1101,4,'Boeing    ','Paris                    ','Rostov                   ','19000101 08:12:00.000','19000101 11:45:00.000');\n",
    "insert into Trip values(1123,3,'TU-154    ','Rostov                   ','Vladivostok              ','19000101 16:20:00.000','19000101 03:40:00.000');\n",
    "insert into Trip values(1124,3,'TU-154    ','Vladivostok              ','Rostov                   ','19000101 09:00:00.000','19000101 19:50:00.000');\n",
    "insert into Trip values(1145,2,'IL-86     ','Moscow                   ','Rostov                   ','19000101 09:35:00.000','19000101 11:23:00.000');\n",
    "insert into Trip values(1146,2,'IL-86     ','Rostov                   ','Moscow                   ','19000101 17:55:00.000','19000101 20:01:00.000');\n",
    "insert into Trip values(1181,1,'TU-134    ','Rostov                   ','Moscow                   ','19000101 06:12:00.000','19000101 08:01:00.000');\n",
    "insert into Trip values(1182,1,'TU-134    ','Moscow                   ','Rostov                   ','19000101 12:35:00.000','19000101 14:30:00.000');\n",
    "insert into Trip values(1187,1,'TU-134    ','Rostov                   ','Moscow                   ','19000101 15:42:00.000','19000101 17:39:00.000');\n",
    "insert into Trip values(1188,1,'TU-134    ','Moscow                   ','Rostov                   ','19000101 22:50:00.000','19000101 00:48:00.000');\n",
    "insert into Trip values(1195,1,'TU-154    ','Rostov                   ','Moscow                   ','19000101 23:30:00.000','19000101 01:11:00.000');\n",
    "insert into Trip values(1196,1,'TU-154    ','Moscow                   ','Rostov                   ','19000101 04:00:00.000','19000101 05:45:00.000');\n",
    "insert into Trip values(7771,5,'Boeing    ','London                   ','Singapore                ','19000101 01:00:00.000','19000101 11:00:00.000');\n",
    "insert into Trip values(7772,5,'Boeing    ','Singapore                ','London                   ','19000101 12:00:00.000','19000101 02:00:00.000');\n",
    "insert into Trip values(7773,5,'Boeing    ','London                   ','Singapore                ','19000101 03:00:00.000','19000101 13:00:00.000');\n",
    "insert into Trip values(7774,5,'Boeing    ','Singapore                ','London                   ','19000101 14:00:00.000','19000101 06:00:00.000');\n",
    "insert into Trip values(7775,5,'Boeing    ','London                   ','Singapore                ','19000101 09:00:00.000','19000101 20:00:00.000');\n",
    "insert into Trip values(7776,5,'Boeing    ','Singapore                ','London                   ','19000101 18:00:00.000','19000101 08:00:00.000');\n",
    "insert into Trip values(7777,5,'Boeing    ','London                   ','Singapore                ','19000101 18:00:00.000','19000101 06:00:00.000');\n",
    "insert into Trip values(7778,5,'Boeing    ','Singapore                ','London                   ','19000101 22:00:00.000','19000101 12:00:00.000');\n",
    "insert into Trip values(8881,5,'Boeing    ','London                   ','Paris                    ','19000101 03:00:00.000','19000101 04:00:00.000');\n",
    "insert into Trip values(8882,5,'Boeing    ','Paris                    ','London                   ','19000101 22:00:00.000','19000101 23:00:00.000');\n",
    "\n",
    "\n",
    "\n",
    "                                                                                                                                                                                                                                                                 \n",
    "----Pass_in_trip------------------------------------------------------------------------------------------------------------------------------------------------------------------------------------------------------------------------------------------------------------ \n",
    "insert into Pass_in_trip values(1100,'20030429 00:00:00.000',1,'1a        ');\n",
    "insert into Pass_in_trip values(1123,'20030405 00:00:00.000',3,'2a        ');\n",
    "insert into Pass_in_trip values(1123,'20030408 00:00:00.000',1,'4c        ');\n",
    "insert into Pass_in_trip values(1123,'20030408 00:00:00.000',6,'4b        ');\n",
    "insert into Pass_in_trip values(1124,'20030402 00:00:00.000',2,'2d        ');\n",
    "insert into Pass_in_trip values(1145,'20030405 00:00:00.000',3,'2c        ');\n",
    "insert into Pass_in_trip values(1181,'20030401 00:00:00.000',1,'1a        ');\n",
    "insert into Pass_in_trip values(1181,'20030401 00:00:00.000',6,'1b        ');\n",
    "insert into Pass_in_trip values(1181,'20030401 00:00:00.000',8,'3c        ');\n",
    "insert into Pass_in_trip values(1181,'20030413 00:00:00.000',5,'1b        ');\n",
    "insert into Pass_in_trip values(1182,'20030413 00:00:00.000',5,'4b        ');\n",
    "insert into Pass_in_trip values(1187,'20030414 00:00:00.000',8,'3a        ');\n",
    "insert into Pass_in_trip values(1188,'20030401 00:00:00.000',8,'3a        ');\n",
    "insert into Pass_in_trip values(1182,'20030413 00:00:00.000',9,'6d        ');\n",
    "insert into Pass_in_trip values(1145,'20030425 00:00:00.000',5,'1d        ');\n",
    "insert into Pass_in_trip values(1187,'20030414 00:00:00.000',10,'3d        ');\n",
    "insert into Pass_in_trip values(8882,'20051106 00:00:00.000',37,'1a        ') ;\n",
    "insert into Pass_in_trip values(7771,'20051107 00:00:00.000',37,'1c        ') ;\n",
    "insert into Pass_in_trip values(7772,'20051107 00:00:00.000',37,'1a        ') ;\n",
    "insert into Pass_in_trip values(8881,'20051108 00:00:00.000',37,'1d        ') ;\n",
    "insert into Pass_in_trip values(7778,'20051105 00:00:00.000',10,'2a        ') ;\n",
    "insert into Pass_in_trip values(7772,'20051129 00:00:00.000',10,'3a        ');\n",
    "insert into Pass_in_trip values(7771,'20051104 00:00:00.000',11,'4a        ');\n",
    "insert into Pass_in_trip values(7771,'20051107 00:00:00.000',11,'1b        ');\n",
    "insert into Pass_in_trip values(7771,'20051109 00:00:00.000',11,'5a        ');\n",
    "insert into Pass_in_trip values(7772,'20051107 00:00:00.000',12,'1d        ');\n",
    "insert into Pass_in_trip values(7773,'20051107 00:00:00.000',13,'2d        ');\n",
    "insert into Pass_in_trip values(7772,'20051129 00:00:00.000',13,'1b        ');\n",
    "insert into Pass_in_trip values(8882,'20051113 00:00:00.000',14,'3d        ');\n",
    "insert into Pass_in_trip values(7771,'20051114 00:00:00.000',14,'4d        ');\n",
    "insert into Pass_in_trip values(7771,'20051116 00:00:00.000',14,'5d        ');\n",
    "insert into Pass_in_trip values(7772,'20051129 00:00:00.000',14,'1c        ');\n",
    "\n",
    "drop table if exists Laptop;\n",
    "drop table if exists PC;\n",
    "drop table if exists Printer;\n",
    "drop table if exists Product;\n",
    "\n",
    "CREATE TABLE Laptop (\n",
    "\tcode int NOT NULL ,\n",
    "\tmodel varchar (50) NOT NULL ,\n",
    "\tspeed smallint NOT NULL ,\n",
    "\tram smallint NOT NULL ,\n",
    "\thd real NOT NULL ,\n",
    "\tprice decimal(12,2) NULL ,\n",
    "\tscreen smallint NOT NULL \n",
    ") \n",
    ";\n",
    "\n",
    "CREATE TABLE PC (\n",
    "\tcode int NOT NULL ,\n",
    "\tmodel varchar (50) NOT NULL ,\n",
    "\tspeed smallint NOT NULL ,\n",
    "\tram smallint NOT NULL ,\n",
    "\thd real NOT NULL ,\n",
    "\tcd varchar (10) NOT NULL ,\n",
    "\tprice decimal(12,2) NULL \n",
    ") \n",
    ";\n",
    "\n",
    "CREATE TABLE Product (\n",
    "\tmaker varchar (10) NOT NULL ,\n",
    "\tmodel varchar (50) NOT NULL ,\n",
    "\ttype varchar (50) NOT NULL \n",
    ") \n",
    ";\n",
    "\n",
    "CREATE TABLE Printer (\n",
    "\tcode int NOT NULL ,\n",
    "\tmodel varchar (50) NOT NULL ,\n",
    "\tcolor char (1) NOT NULL ,\n",
    "\ttype varchar (10) NOT NULL ,\n",
    "\tprice decimal(12,2) NULL \n",
    ") \n",
    ";\n",
    "\n",
    "----Product------------------------------------------------------------------------------------------------------------------------------------------------------------------------------------------------------------------------------------------------------------ \n",
    "insert into Product values('B','1121','PC');\n",
    "insert into Product values('A','1232','PC');\n",
    "insert into Product values('A','1233','PC');\n",
    "insert into Product values('E','1260','PC');\n",
    "insert into Product values('A','1276','Printer');\n",
    "insert into Product values('D','1288','Printer');\n",
    "insert into Product values('A','1298','Laptop');\n",
    "insert into Product values('C','1321','Laptop');\n",
    "insert into Product values('A','1401','Printer');\n",
    "insert into Product values('A','1408','Printer');\n",
    "insert into Product values('D','1433','Printer');\n",
    "insert into Product values('E','1434','Printer');\n",
    "insert into Product values('B','1750','Laptop');\n",
    "insert into Product values('A','1752','Laptop');\n",
    "insert into Product values('E','2113','PC');\n",
    "insert into Product values('E','2112','PC');\n",
    "                                                                                                                                                                                                                                                                 \n",
    "----PC------------------------------------------------------------------------------------------------------------------------------------------------------------------------------------------------------------------------------------------------------------ \n",
    "insert into PC values(1,'1232',500,64,5,'12x','600');\n",
    "insert into PC values(2,'1121',750,128,14,'40x','850');\n",
    "insert into PC values(3,'1233',500,64,5,'12x','600');\n",
    "insert into PC values(4,'1121',600,128,14,'40x','850');\n",
    "insert into PC values(5,'1121',600,128,8,'40x','850');\n",
    "insert into PC values(6,'1233',750,128,20,'50x','950');\n",
    "insert into PC values(7,'1232',500,32,10,'12x','400');\n",
    "insert into PC values(8,'1232',450,64,8,'24x','350');\n",
    "insert into PC values(9,'1232',450,32,10,'24x','350');\n",
    "insert into PC values(10,'1260',500,32,10,'12x','350');\n",
    "insert into PC values(11,'1233',900,128,40,'40x','980');\n",
    "insert into PC values(12,'1233',800,128,20,'50x','970');\n",
    "\n",
    "                                                                                                                                                                                                                                                                 \n",
    "----Laptop------------------------------------------------------------------------------------------------------------------------------------------------------------------------------------------------------------------------------------------------------------ \n",
    "insert into Laptop values(1,'1298',350,32,4,'700',11);\n",
    "insert into Laptop values(2,'1321',500,64,8,'970',12);\n",
    "insert into Laptop values(3,'1750',750,128,12,'1200',14);\n",
    "insert into Laptop values(4,'1298',600,64,10,'1050',15);\n",
    "insert into Laptop values(5,'1752',750,128,10,'1150',14);\n",
    "insert into Laptop values(6,'1298',450,64,10,'950',12);\n",
    "\n",
    "                                                                                                                                                                                                                                                                 \n",
    "----Printer------------------------------------------------------------------------------------------------------------------------------------------------------------------------------------------------------------------------------------------------------------ \n",
    "insert into Printer values(1,'1276','n','Laser','400');\n",
    "insert into Printer values(2,'1433','y','Jet','270');\n",
    "insert into Printer values(3,'1434','y','Jet','290');\n",
    "insert into Printer values(4,'1401','n','Matrix','150');\n",
    "insert into Printer values(5,'1408','n','Matrix','270');\n",
    "insert into Printer values(6,'1288','n','Laser','400');\n",
    "\n",
    "-- select * from income\n",
    "drop table if exists Income;\n",
    "drop table if exists Outcome;\n",
    "drop table if exists Outcome_o;\n",
    "drop table if exists Income_o;\n",
    "\n",
    "CREATE TABLE Income (\n",
    "\tcode int NOT NULL ,\n",
    "\tpoint smallint NOT NULL ,\n",
    "\tdate timestamp NOT NULL ,\n",
    "\tinc decimal(12,2) NOT NULL \n",
    ") \n",
    ";\n",
    "\n",
    "CREATE TABLE Outcome (\n",
    "\tcode int NOT NULL ,\n",
    "\tpoint smallint NOT NULL ,\n",
    "\tdate timestamp NOT NULL ,\n",
    "\tout decimal(12,2) NOT NULL \n",
    ") \n",
    ";\n",
    "\n",
    "CREATE TABLE Income_o (\n",
    "\tpoint smallint NOT NULL ,\n",
    "\tdate timestamp NOT NULL ,\n",
    "\tinc decimal(12,2) NOT NULL \n",
    ") \n",
    ";\n",
    "\n",
    "CREATE TABLE Outcome_o (\n",
    "\tpoint smallint NOT NULL ,\n",
    "\tdate timestamp NOT NULL ,\n",
    "\tout decimal(12,2) NOT NULL \n",
    ") \n",
    ";\n",
    "                                                                                                                                                                                                                                                                 \n",
    "----Income------------------------------------------------------------------------------------------------------------------------------------------------------------------------------------------------------------------------------------------------------------ \n",
    "insert into Income values(1,1,'20010322 00:00:00.000','15000.00');\n",
    "insert into Income values(2,1,'20010323 00:00:00.000','15000.00');\n",
    "insert into Income values(3,1,'20010324 00:00:00.000','3600.00');\n",
    "insert into Income values(4,2,'20010322 00:00:00.000','10000.00');\n",
    "insert into Income values(5,2,'20010324 00:00:00.000','1500.00');\n",
    "insert into Income values(6,1,'20010413 00:00:00.000','5000.00');\n",
    "insert into Income values(7,1,'20010511 00:00:00.000','4500.00');\n",
    "insert into Income values(8,1,'20010322 00:00:00.000','15000.00');\n",
    "insert into Income values(9,2,'20010324 00:00:00.000','1500.00');\n",
    "insert into Income values(10,1,'20010413 00:00:00.000','5000.00');\n",
    "insert into Income values(11,1,'20010324 00:00:00.000','3400.00');\n",
    "insert into Income values(12,3,'20010913 00:00:00.000','1350.00');\n",
    "insert into Income values(13,3,'20010913 00:00:00.000','1750.00');\n",
    "\n",
    "                                                                                                                                                                                                                                                                 \n",
    "---------Outcome-----------------\n",
    "insert into Outcome values(1,1,'20010314 00:00:00.000','15348.00');\n",
    "insert into Outcome values(2,1,'20010324 00:00:00.000','3663.00');\n",
    "insert into Outcome values(3,1,'20010326 00:00:00.000','1221.00');\n",
    "insert into Outcome values(4,1,'20010328 00:00:00.000','2075.00');\n",
    "insert into Outcome values(5,1,'20010329 00:00:00.000','2004.00');\n",
    "insert into Outcome values(6,1,'20010411 00:00:00.000','3195.04');\n",
    "insert into Outcome values(7,1,'20010413 00:00:00.000','4490.00');\n",
    "insert into Outcome values(8,1,'20010427 00:00:00.000','3110.00');\n",
    "insert into Outcome values(9,1,'20010511 00:00:00.000','2530.00');\n",
    "insert into Outcome values(10,2,'20010322 00:00:00.000','1440.00');\n",
    "insert into Outcome values(11,2,'20010329 00:00:00.000','7848.00');\n",
    "insert into Outcome values(12,2,'20010402 00:00:00.000','2040.00');\n",
    "insert into Outcome values(13,1,'20010324 00:00:00.000','3500.00');\n",
    "insert into Outcome values(14,2,'20010322 00:00:00.000','1440.00');\n",
    "insert into Outcome values(15,1,'20010329 00:00:00.000','2006.00');\n",
    "insert into Outcome values(16,3,'20010913 00:00:00.000','1200.00');\n",
    "insert into Outcome values(17,3,'20010913 00:00:00.000','1500.00');\n",
    "insert into Outcome values(18,3,'20010914 00:00:00.000','1150.00');\n",
    "\n",
    "                                                                                                                                                                                                                                                                 \n",
    "--------Income_o --------------\n",
    "insert into Income_o values(1,'20010322 00:00:00.000','15000.00');\n",
    "insert into Income_o values(1,'20010323 00:00:00.000','15000.00');\n",
    "insert into Income_o values(1,'20010324 00:00:00.000','3400.00');\n",
    "insert into Income_o values(1,'20010413 00:00:00.000','5000.00');\n",
    "insert into Income_o values(1,'20010511 00:00:00.000','4500.00');\n",
    "insert into Income_o values(2,'20010322 00:00:00.000','10000.00');\n",
    "insert into Income_o values(2,'20010324 00:00:00.000','1500.00');\n",
    "insert into Income_o values(3,'20010913 00:00:00.000','11500.00');\n",
    "insert into Income_o values(3,'20011002 00:00:00.000','18000.00');\n",
    "\n",
    "\n",
    "                                                                                                                                                                                                                                                                 \n",
    "---------Outcome_o -----------\n",
    "insert into Outcome_o values(1,'20010314 00:00:00.000','15348');\n",
    "insert into Outcome_o values(1,'20010324 00:00:00.000','3663');\n",
    "insert into Outcome_o values(1,'20010326 00:00:00.000','1221');\n",
    "insert into Outcome_o values(1,'20010328 00:00:00.000','2075');\n",
    "insert into Outcome_o values(1,'20010329 00:00:00.000','2004');\n",
    "insert into Outcome_o values(1,'20010411 00:00:00.000','3195.04');\n",
    "insert into Outcome_o values(1,'20010413 00:00:00.000','4490');\n",
    "insert into Outcome_o values(1,'20010427 00:00:00.000','3110');\n",
    "insert into Outcome_o values(1,'20010511 00:00:00.000','2530');\n",
    "insert into Outcome_o values(2,'20010322 00:00:00.000','1440');\n",
    "insert into Outcome_o values(2,'20010329 00:00:00.000','7848');\n",
    "insert into Outcome_o values(2,'20010402 00:00:00.000','2040');\n",
    "insert into Outcome_o values(3,'20010913 00:00:00.000','1500');\n",
    "insert into Outcome_o values(3,'20010914 00:00:00.000','2300');\n",
    "insert into Outcome_o values(3,'20020916 00:00:00.000','2150');\n",
    "\n",
    "\n",
    "drop table if exists utb;\n",
    "drop table if exists utq;\n",
    "drop table if exists utv;\n",
    "--\n",
    "CREATE TABLE utB (\n",
    "\tB_DATETIME timestamp NOT NULL ,\n",
    "\tB_Q_ID int NOT NULL ,\n",
    "\tB_V_ID int NOT NULL ,\n",
    "\tB_VOL smallint NULL \n",
    ") \n",
    ";\n",
    "\n",
    "CREATE TABLE utQ (\n",
    "\tQ_ID int NOT NULL ,\n",
    "\tQ_NAME varchar (35) NOT NULL \n",
    ") \n",
    ";\n",
    "\n",
    "CREATE TABLE utV (\n",
    "\tV_ID int NOT NULL ,\n",
    "\tV_NAME varchar (35) NOT NULL ,\n",
    "\tV_COLOR char (1) NOT NULL \n",
    ") \n",
    ";\n",
    "\n",
    "                                                                                                                                                                                                                                                                \n",
    "----utQ------------------------------------------------------------------------------------------------------------------------------------------------------------------------------------------------------------------------------------------------------------ \n",
    "insert into utQ values(1,'Square # 01');\n",
    "insert into utQ values(2,'Square # 02');\n",
    "insert into utQ values(3,'Square # 03');\n",
    "insert into utQ values(4,'Square # 04');\n",
    "insert into utQ values(5,'Square # 05');\n",
    "insert into utQ values(6,'Square # 06');\n",
    "insert into utQ values(7,'Square # 07');\n",
    "insert into utQ values(8,'Square # 08');\n",
    "insert into utQ values(9,'Square # 09');\n",
    "insert into utQ values(10,'Square # 10');\n",
    "insert into utQ values(11,'Square # 11');\n",
    "insert into utQ values(12,'Square # 12');\n",
    "insert into utQ values(13,'Square # 13');\n",
    "insert into utQ values(14,'Square # 14');\n",
    "insert into utQ values(15,'Square # 15');\n",
    "insert into utQ values(16,'Square # 16');\n",
    "insert into utQ values(17,'Square # 17');\n",
    "insert into utQ values(18,'Square # 18');\n",
    "insert into utQ values(19,'Square # 19');\n",
    "insert into utQ values(20,'Square # 20');\n",
    "insert into utQ values(21,'Square # 21');\n",
    "insert into utQ values(22,'Square # 22');\n",
    "insert into utQ values(23,'Square # 23');\n",
    "insert into utQ values(25,'Square # 25');\n",
    "\n",
    "\n",
    "\n",
    "                                                                                                                                                                                                                                                                 \n",
    "----utV------------------------------------------------------------------------------------------------------------------------------------------------------------------------------------------------------------------------------------------------------------ \n",
    "insert into utV values(1,'Balloon # 01','R');\n",
    "insert into utV values(2,'Balloon # 02','R');\n",
    "insert into utV values(3,'Balloon # 03','R');\n",
    "insert into utV values(4,'Balloon # 04','G');\n",
    "insert into utV values(5,'Balloon # 05','G');\n",
    "insert into utV values(6,'Balloon # 06','G');\n",
    "insert into utV values(7,'Balloon # 07','B');\n",
    "insert into utV values(8,'Balloon # 08','B');\n",
    "insert into utV values(9,'Balloon # 09','B');\n",
    "insert into utV values(10,'Balloon # 10','R');\n",
    "insert into utV values(11,'Balloon # 11','R');\n",
    "insert into utV values(12,'Balloon # 12','R');\n",
    "insert into utV values(13,'Balloon # 13','G');\n",
    "insert into utV values(14,'Balloon # 14','G');\n",
    "insert into utV values(15,'Balloon # 15','B');\n",
    "insert into utV values(16,'Balloon # 16','B');\n",
    "insert into utV values(17,'Balloon # 17','R');\n",
    "insert into utV values(18,'Balloon # 18','G');\n",
    "insert into utV values(19,'Balloon # 19','B');\n",
    "insert into utV values(20,'Balloon # 20','R');\n",
    "insert into utV values(21,'Balloon # 21','G');\n",
    "insert into utV values(22,'Balloon # 22','B');\n",
    "insert into utV values(23,'Balloon # 23','R');\n",
    "insert into utV values(24,'Balloon # 24','G');\n",
    "insert into utV values(25,'Balloon # 25','B');\n",
    "insert into utV values(26,'Balloon # 26','B');\n",
    "insert into utV values(27,'Balloon # 27','R');\n",
    "insert into utV values(28,'Balloon # 28','G');\n",
    "insert into utV values(29,'Balloon # 29','R');\n",
    "insert into utV values(30,'Balloon # 30','G');\n",
    "insert into utV values(31,'Balloon # 31','R');\n",
    "insert into utV values(32,'Balloon # 32','G');\n",
    "insert into utV values(33,'Balloon # 33','B');\n",
    "insert into utV values(34,'Balloon # 34','R');\n",
    "insert into utV values(35,'Balloon # 35','G');\n",
    "insert into utV values(36,'Balloon # 36','B');\n",
    "insert into utV values(37,'Balloon # 37','R');\n",
    "insert into utV values(38,'Balloon # 38','G');\n",
    "insert into utV values(39,'Balloon # 39','B');\n",
    "insert into utV values(40,'Balloon # 40','R');\n",
    "insert into utV values(41,'Balloon # 41','R');\n",
    "insert into utV values(42,'Balloon # 42','G');\n",
    "insert into utV values(43,'Balloon # 43','B');\n",
    "insert into utV values(44,'Balloon # 44','R');\n",
    "insert into utV values(45,'Balloon # 45','G');\n",
    "insert into utV values(46,'Balloon # 46','B');\n",
    "insert into utV values(47,'Balloon # 47','B');\n",
    "insert into utV values(48,'Balloon # 48','G');\n",
    "insert into utV values(49,'Balloon # 49','R');\n",
    "insert into utV values(50,'Balloon # 50','G');\n",
    "insert into utV values(51,'Balloon # 51','B');\n",
    "insert into utV values(52,'Balloon # 52','R');\n",
    "insert into utV values(53,'Balloon # 53','G');\n",
    "insert into utV values(54,'Balloon # 54','B');\n",
    "\n",
    "                                                                                                                                                                                                                                                                 \n",
    "----utB------------------------------------------------------------------------------------------------------------------------------------------------------------------------------------------------------------------------------------------------------------ \n",
    "insert into utB values('20030101 01:12:01.000',1,1,155);\n",
    "insert into utB values('20030623 01:12:02.000',1,1,100);\n",
    "insert into utB values('20030101 01:12:03.000',2,2,255);\n",
    "insert into utB values('20030101 01:12:04.000',3,3,255);\n",
    "insert into utB values('20030101 01:12:05.000',1,4,255);\n",
    "insert into utB values('20030101 01:12:06.000',2,5,255);\n",
    "insert into utB values('20030101 01:12:07.000',3,6,255);\n",
    "insert into utB values('20030101 01:12:08.000',1,7,255);\n",
    "insert into utB values('20030101 01:12:09.000',2,8,255);\n",
    "insert into utB values('20030101 01:12:10.000',3,9,255);\n",
    "insert into utB values('20030101 01:12:11.000',4,10,50);\n",
    "insert into utB values('20030101 01:12:12.000',5,11,100);\n",
    "insert into utB values('20030101 01:12:13.000',5,12,155);\n",
    "insert into utB values('20030101 01:12:14.000',5,13,155);\n",
    "insert into utB values('20030101 01:12:15.000',5,14,100);\n",
    "insert into utB values('20030101 01:12:16.000',5,15,50);\n",
    "insert into utB values('20030101 01:12:17.000',5,16,205);\n",
    "insert into utB values('20030101 01:12:18.000',6,10,155);\n",
    "insert into utB values('20030101 01:12:19.000',6,17,100);\n",
    "insert into utB values('20030101 01:12:20.000',6,18,255);\n",
    "insert into utB values('20030101 01:12:21.000',6,19,255);\n",
    "insert into utB values('20030101 01:12:22.000',7,17,155);\n",
    "insert into utB values('20030101 01:12:23.000',7,20,100);\n",
    "insert into utB values('20030101 01:12:24.000',7,21,255);\n",
    "insert into utB values('20030101 01:12:25.000',7,22,255);\n",
    "insert into utB values('20030101 01:12:26.000',8,10,50);\n",
    "insert into utB values('20030101 01:12:27.000',9,23,255);\n",
    "insert into utB values('20030101 01:12:28.000',9,24,255);\n",
    "insert into utB values('20030101 01:12:29.000',9,25,100);\n",
    "insert into utB values('20030101 01:12:30.000',9,26,155);\n",
    "insert into utB values('20030101 01:12:31.000',10,25,155);\n",
    "insert into utB values('20030101 01:12:31.000',10,26,100);\n",
    "insert into utB values('20030101 01:12:33.000',10,27,10);\n",
    "insert into utB values('20030101 01:12:34.000',10,28,10);\n",
    "insert into utB values('20030101 01:12:35.000',10,29,245);\n",
    "insert into utB values('20030101 01:12:36.000',10,30,245);\n",
    "insert into utB values('20030101 01:12:37.000',11,31,100);\n",
    "insert into utB values('20030101 01:12:38.000',11,32,100);\n",
    "insert into utB values('20030101 01:12:39.000',11,33,100);\n",
    "insert into utB values('20030101 01:12:40.000',11,34,155);\n",
    "insert into utB values('20030101 01:12:41.000',11,35,155);\n",
    "insert into utB values('20030101 01:12:42.000',11,36,155);\n",
    "insert into utB values('20030101 01:12:43.000',12,31,155);\n",
    "insert into utB values('20030101 01:12:44.000',12,32,155);\n",
    "insert into utB values('20030101 01:12:45.000',12,33,155);\n",
    "insert into utB values('20030101 01:12:46.000',12,34,100);\n",
    "insert into utB values('20030101 01:12:47.000',12,35,100);\n",
    "insert into utB values('20030101 01:12:48.000',12,36,100);\n",
    "insert into utB values('20030101 01:13:01.000',4,37,20);\n",
    "insert into utB values('20030101 01:13:02.000',8,38,20);\n",
    "insert into utB values('20030101 01:13:03.000',13,39,123);\n",
    "insert into utB values('20030101 01:13:04.000',14,39,111);\n",
    "insert into utB values('20030101 01:13:05.000',14,40,50);\n",
    "insert into utB values('20030101 01:13:06.000',15,41,50);\n",
    "insert into utB values('20030101 01:13:07.000',15,41,50);\n",
    "insert into utB values('20030101 01:13:08.000',15,42,50);\n",
    "insert into utB values('20030101 01:13:09.000',15,42,50);\n",
    "insert into utB values('20030101 01:13:10.000',16,42,50);\n",
    "insert into utB values('20030101 01:13:11.000',16,42,50);\n",
    "insert into utB values('20030101 01:13:12.000',16,43,50);\n",
    "insert into utB values('20030101 01:13:13.000',16,43,50);\n",
    "insert into utB values('20030101 01:13:14.000',16,47,50);\n",
    "insert into utB values('20030101 01:13:15.000',17,44,10);\n",
    "insert into utB values('20030101 01:13:16.000',17,44,10);\n",
    "insert into utB values('20030101 01:13:17.000',17,45,10);\n",
    "insert into utB values('20030101 01:13:18.000',17,45,10);\n",
    "insert into utB values('20030201 01:13:19.000',18,45,10);\n",
    "insert into utB values('20030301 01:13:20.000',18,45,10);\n",
    "insert into utB values('20030401 01:13:21.000',18,46,10);\n",
    "insert into utB values('20030501 01:13:22.000',18,46,10);\n",
    "insert into utB values('20030611 01:13:23.000',19,44,10);\n",
    "insert into utB values('20030101 01:13:24.000',19,44,10);\n",
    "insert into utB values('20030101 01:13:25.000',19,45,10);\n",
    "insert into utB values('20030101 01:13:26.000',19,45,10);\n",
    "insert into utB values('20030201 01:13:27.000',20,45,10);\n",
    "insert into utB values('20030301 01:13:28.000',20,45,10);\n",
    "insert into utB values('20030401 01:13:29.000',20,46,10);\n",
    "insert into utB values('20030501 01:13:30.000',20,46,10);\n",
    "insert into utB values('20030201 01:13:31.000',21,49,50);\n",
    "insert into utB values('20030202 01:13:32.000',21,49,50);\n",
    "insert into utB values('20030203 01:13:33.000',21,50,50);\n",
    "insert into utB values('20030204 01:13:34.000',21,50,50);\n",
    "insert into utB values('20030205 01:13:35.000',21,48,1);\n",
    "insert into utB values('20000101 01:13:36.000',22,50,50);\n",
    "insert into utB values('20010101 01:13:37.000',22,50,50);\n",
    "insert into utB values('20020101 01:13:38.000',22,51,50);\n",
    "insert into utB values('20020601 01:13:39.000',22,51,50);\n",
    "insert into utB values('20030101 01:13:05.000',4,37,185);\n",
    "\n",
    "drop table if exists outcomes;\n",
    "drop table if exists ships;\n",
    "drop table if exists classes;\n",
    "drop table if exists battles;\n",
    "\n",
    "CREATE TABLE Battles (\n",
    "\tname varchar (20) NOT NULL ,\n",
    "\tdate timestamp NOT NULL \n",
    ") \n",
    ";\n",
    "\n",
    "CREATE TABLE Classes (\n",
    "\tclass varchar (50) NOT NULL ,\n",
    "\ttype varchar (2) NOT NULL ,\n",
    "\tcountry varchar (20) NOT NULL ,\n",
    "\tnumGuns smallint NULL ,\n",
    "\tbore real NULL ,\n",
    "\tdisplacement int NULL \n",
    ") \n",
    ";\n",
    "\n",
    "CREATE TABLE Ships (\n",
    "\tname varchar (50) NOT NULL ,\n",
    "\tclass varchar (50) NOT NULL ,\n",
    "\tlaunched smallint NULL \n",
    ") \n",
    ";\n",
    "\n",
    "CREATE TABLE Outcomes (\n",
    "\tship varchar (50) NOT NULL ,\n",
    "\tbattle varchar (20) NOT NULL ,\n",
    "\tresult varchar (10) NOT NULL \n",
    ") \n",
    ";\n",
    "\n",
    "                                                                                                                                                                                                                                                               \n",
    "----Classes------------------------------------------------------------------------------------------------------------------------------------------------------------------------------------------------------------------------------------------------------------ \n",
    "insert into Classes values('Bismarck','bb','Germany',8,15,42000);\n",
    "insert into Classes values('Iowa','bb','USA',9,16,46000);\n",
    "insert into Classes values('Kongo','bc','Japan',8,14,32000);\n",
    "insert into Classes values('North Carolina','bb','USA',12,16,37000);\n",
    "insert into Classes values('Renown','bc','Gt.Britain',6,15,32000);\n",
    "insert into Classes values('Revenge','bb','Gt.Britain',8,15,29000);\n",
    "insert into Classes values('Tennessee','bb','USA',12,14,32000);\n",
    "insert into Classes values('Yamato','bb','Japan',9,18,65000);\n",
    "\n",
    "\n",
    "\n",
    "                                                                                                                                                                                                                                                                 \n",
    "----Battles------------------------------------------------------------------------------------------------------------------------------------------------------------------------------------------------------------------------------------------------------------ \n",
    "insert into Battles values('Guadalcanal','19421115 00:00:00.000');\n",
    "insert into Battles values('North Atlantic','19410525 00:00:00.000');\n",
    "insert into Battles values('North Cape','19431226 00:00:00.000');\n",
    "insert into Battles values('Surigao Strait','19441025 00:00:00.000');\n",
    "insert into battles values ('#Cuba62a'   , '19621020');\n",
    "insert into battles values ('#Cuba62b'   , '19621025');\n",
    "\n",
    "\n",
    "\n",
    "                                                                                                                                                                                                                                                                 \n",
    "----Ships------------------------------------------------------------------------------------------------------------------------------------------------------------------------------------------------------------------------------------------------------------ \n",
    "insert into Ships values('California','Tennessee',1921);\n",
    "insert into Ships values('Haruna','Kongo',1916);\n",
    "insert into Ships values('Hiei','Kongo',1914);\n",
    "insert into Ships values('Iowa','Iowa',1943);\n",
    "insert into Ships values('Kirishima','Kongo',1915);\n",
    "insert into Ships values('Kongo','Kongo',1913);\n",
    "insert into Ships values('Missouri','Iowa',1944);\n",
    "insert into Ships values('Musashi','Yamato',1942);\n",
    "insert into Ships values('New Jersey','Iowa',1943);\n",
    "insert into Ships values('North Carolina','North Carolina',1941);\n",
    "insert into Ships values('Ramillies','Revenge',1917);\n",
    "insert into Ships values('Renown','Renown',1916);\n",
    "insert into Ships values('Repulse','Renown',1916);\n",
    "insert into Ships values('Resolution','Renown',1916);\n",
    "insert into Ships values('Revenge','Revenge',1916);\n",
    "insert into Ships values('Royal Oak','Revenge',1916);\n",
    "insert into Ships values('Royal Sovereign','Revenge',1916);\n",
    "insert into Ships values('Tennessee','Tennessee',1920);\n",
    "insert into Ships values('Washington','North Carolina',1941);\n",
    "insert into Ships values('Wisconsin','Iowa',1944);\n",
    "insert into Ships values('Yamato','Yamato',1941);\n",
    "insert into Ships values('South Dakota','North Carolina',1941) ;\n",
    "\n",
    "\n",
    "\n",
    "\n",
    "                                                                                                                                                                                                                                                                 \n",
    "----Outcomes------------------------------------------------------------------------------------------------------------------------------------------------------------------------------------------------------------------------------------------------------------ \n",
    "insert into Outcomes values('Bismarck','North Atlantic','sunk');\n",
    "insert into Outcomes values('California','Surigao Strait','OK');\n",
    "insert into Outcomes values('Duke of York','North Cape','OK');\n",
    "insert into Outcomes values('Fuso','Surigao Strait','sunk');\n",
    "insert into Outcomes values('Hood','North Atlantic','sunk');\n",
    "insert into Outcomes values('King George V','North Atlantic','OK');\n",
    "insert into Outcomes values('Kirishima','Guadalcanal','sunk');\n",
    "insert into Outcomes values('Prince of Wales','North Atlantic','damaged');\n",
    "insert into Outcomes values('Rodney','North Atlantic','OK');\n",
    "insert into Outcomes values('Schamhorst','North Cape','sunk');\n",
    "insert into Outcomes values('South Dakota','Guadalcanal','damaged');\n",
    "insert into Outcomes values('Tennessee','Surigao Strait','OK');\n",
    "insert into Outcomes values('Washington','Guadalcanal','OK');\n",
    "insert into Outcomes values('West Virginia','Surigao Strait','OK');\n",
    "insert into Outcomes values('Yamashiro','Surigao Strait','sunk');\n",
    "insert into Outcomes values('California','Guadalcanal','damaged');'''"
   ]
  },
  {
   "cell_type": "code",
   "execution_count": null,
   "metadata": {
    "colab": {
     "base_uri": "https://localhost:8080/"
    },
    "id": "5iYc7XCOXy0p",
    "outputId": "04251bb3-add3-48a1-a029-db76f90c8b94"
   },
   "outputs": [
    {
     "data": {
      "text/plain": [
       "<pysqlite3.dbapi2.Cursor at 0x7f45cfe29e30>"
      ]
     },
     "execution_count": 6,
     "metadata": {
      "tags": []
     },
     "output_type": "execute_result"
    }
   ],
   "source": [
    "cur.executescript(sql)"
   ]
  },
  {
   "cell_type": "markdown",
   "metadata": {
    "id": "R5kFp7-mYcm_"
   },
   "source": [
    "Сделаю еще свою знаменитую функцию select, которая заворачивает пандосовкую функцию. Нужно для того, чтобы каждый раз не писать всю эту авадакедавру, а писать красивенький селект"
   ]
  },
  {
   "cell_type": "code",
   "execution_count": null,
   "metadata": {
    "id": "pwHWvKDVY43E"
   },
   "outputs": [],
   "source": [
    "import pandas as pd"
   ]
  },
  {
   "cell_type": "code",
   "execution_count": null,
   "metadata": {
    "id": "QcDB9yxOYtEU"
   },
   "outputs": [],
   "source": [
    "def select(sql):\n",
    "  return pd.read_sql(sql,conn)"
   ]
  },
  {
   "cell_type": "markdown",
   "metadata": {
    "id": "NnajuWiuX1aV"
   },
   "source": [
    "# Пример решения задачи"
   ]
  },
  {
   "cell_type": "markdown",
   "metadata": {
    "id": "npomPLFNYE0W"
   },
   "source": [
    "Возьмем например это задание https://sql-ex.ru/learn_exercises.php?LN=3"
   ]
  },
  {
   "cell_type": "markdown",
   "metadata": {
    "id": "eoo6FtWCYDqv"
   },
   "source": [
    "Найдите номер модели, объем памяти и размеры экранов ПК-блокнотов, цена которых превышает 1000 дол."
   ]
  },
  {
   "cell_type": "markdown",
   "metadata": {
    "id": "zHLbU36xaJ5r"
   },
   "source": [
    "Сначала глянем на таблу с ПК-блокнотами, ну т.е. ноутбуками"
   ]
  },
  {
   "cell_type": "code",
   "execution_count": null,
   "metadata": {
    "id": "t1MPjEubaISI"
   },
   "outputs": [],
   "source": [
    "sql = '''select * from laptop t'''"
   ]
  },
  {
   "cell_type": "code",
   "execution_count": null,
   "metadata": {
    "colab": {
     "base_uri": "https://localhost:8080/",
     "height": 225
    },
    "id": "J4AB2phgaUST",
    "outputId": "4d8d6586-0bc8-458f-b06c-35dc55dc4ed0"
   },
   "outputs": [
    {
     "data": {
      "text/html": [
       "<div>\n",
       "<style scoped>\n",
       "    .dataframe tbody tr th:only-of-type {\n",
       "        vertical-align: middle;\n",
       "    }\n",
       "\n",
       "    .dataframe tbody tr th {\n",
       "        vertical-align: top;\n",
       "    }\n",
       "\n",
       "    .dataframe thead th {\n",
       "        text-align: right;\n",
       "    }\n",
       "</style>\n",
       "<table border=\"1\" class=\"dataframe\">\n",
       "  <thead>\n",
       "    <tr style=\"text-align: right;\">\n",
       "      <th></th>\n",
       "      <th>code</th>\n",
       "      <th>model</th>\n",
       "      <th>speed</th>\n",
       "      <th>ram</th>\n",
       "      <th>hd</th>\n",
       "      <th>price</th>\n",
       "      <th>screen</th>\n",
       "    </tr>\n",
       "  </thead>\n",
       "  <tbody>\n",
       "    <tr>\n",
       "      <th>0</th>\n",
       "      <td>1</td>\n",
       "      <td>1298</td>\n",
       "      <td>350</td>\n",
       "      <td>32</td>\n",
       "      <td>4.0</td>\n",
       "      <td>700</td>\n",
       "      <td>11</td>\n",
       "    </tr>\n",
       "    <tr>\n",
       "      <th>1</th>\n",
       "      <td>2</td>\n",
       "      <td>1321</td>\n",
       "      <td>500</td>\n",
       "      <td>64</td>\n",
       "      <td>8.0</td>\n",
       "      <td>970</td>\n",
       "      <td>12</td>\n",
       "    </tr>\n",
       "    <tr>\n",
       "      <th>2</th>\n",
       "      <td>3</td>\n",
       "      <td>1750</td>\n",
       "      <td>750</td>\n",
       "      <td>128</td>\n",
       "      <td>12.0</td>\n",
       "      <td>1200</td>\n",
       "      <td>14</td>\n",
       "    </tr>\n",
       "    <tr>\n",
       "      <th>3</th>\n",
       "      <td>4</td>\n",
       "      <td>1298</td>\n",
       "      <td>600</td>\n",
       "      <td>64</td>\n",
       "      <td>10.0</td>\n",
       "      <td>1050</td>\n",
       "      <td>15</td>\n",
       "    </tr>\n",
       "    <tr>\n",
       "      <th>4</th>\n",
       "      <td>5</td>\n",
       "      <td>1752</td>\n",
       "      <td>750</td>\n",
       "      <td>128</td>\n",
       "      <td>10.0</td>\n",
       "      <td>1150</td>\n",
       "      <td>14</td>\n",
       "    </tr>\n",
       "    <tr>\n",
       "      <th>5</th>\n",
       "      <td>6</td>\n",
       "      <td>1298</td>\n",
       "      <td>450</td>\n",
       "      <td>64</td>\n",
       "      <td>10.0</td>\n",
       "      <td>950</td>\n",
       "      <td>12</td>\n",
       "    </tr>\n",
       "  </tbody>\n",
       "</table>\n",
       "</div>"
      ],
      "text/plain": [
       "   code model  speed  ram    hd  price  screen\n",
       "0     1  1298    350   32   4.0    700      11\n",
       "1     2  1321    500   64   8.0    970      12\n",
       "2     3  1750    750  128  12.0   1200      14\n",
       "3     4  1298    600   64  10.0   1050      15\n",
       "4     5  1752    750  128  10.0   1150      14\n",
       "5     6  1298    450   64  10.0    950      12"
      ]
     },
     "execution_count": 16,
     "metadata": {
      "tags": []
     },
     "output_type": "execute_result"
    }
   ],
   "source": [
    "select(sql)"
   ]
  },
  {
   "cell_type": "markdown",
   "metadata": {
    "id": "S_ikWZLCaTq1"
   },
   "source": [
    "Теперь напишем сам запрос"
   ]
  },
  {
   "cell_type": "code",
   "execution_count": null,
   "metadata": {
    "id": "rpIxFIYtYV3i"
   },
   "outputs": [],
   "source": [
    "sql = '''\n",
    "select t.model, t.ram, t.screen from laptop t\n",
    "where t.price > 1000\n",
    "'''"
   ]
  },
  {
   "cell_type": "code",
   "execution_count": null,
   "metadata": {
    "colab": {
     "base_uri": "https://localhost:8080/",
     "height": 136
    },
    "id": "tXg9cBN7Ya44",
    "outputId": "4da0059e-7f45-4fd8-fd92-5a41bf4f80bc"
   },
   "outputs": [
    {
     "data": {
      "text/html": [
       "<div>\n",
       "<style scoped>\n",
       "    .dataframe tbody tr th:only-of-type {\n",
       "        vertical-align: middle;\n",
       "    }\n",
       "\n",
       "    .dataframe tbody tr th {\n",
       "        vertical-align: top;\n",
       "    }\n",
       "\n",
       "    .dataframe thead th {\n",
       "        text-align: right;\n",
       "    }\n",
       "</style>\n",
       "<table border=\"1\" class=\"dataframe\">\n",
       "  <thead>\n",
       "    <tr style=\"text-align: right;\">\n",
       "      <th></th>\n",
       "      <th>model</th>\n",
       "      <th>ram</th>\n",
       "      <th>screen</th>\n",
       "    </tr>\n",
       "  </thead>\n",
       "  <tbody>\n",
       "    <tr>\n",
       "      <th>0</th>\n",
       "      <td>1750</td>\n",
       "      <td>128</td>\n",
       "      <td>14</td>\n",
       "    </tr>\n",
       "    <tr>\n",
       "      <th>1</th>\n",
       "      <td>1298</td>\n",
       "      <td>64</td>\n",
       "      <td>15</td>\n",
       "    </tr>\n",
       "    <tr>\n",
       "      <th>2</th>\n",
       "      <td>1752</td>\n",
       "      <td>128</td>\n",
       "      <td>14</td>\n",
       "    </tr>\n",
       "  </tbody>\n",
       "</table>\n",
       "</div>"
      ],
      "text/plain": [
       "  model  ram  screen\n",
       "0  1750  128      14\n",
       "1  1298   64      15\n",
       "2  1752  128      14"
      ]
     },
     "execution_count": 18,
     "metadata": {
      "tags": []
     },
     "output_type": "execute_result"
    }
   ],
   "source": [
    "select(sql)"
   ]
  },
  {
   "cell_type": "markdown",
   "metadata": {
    "id": "N9RId26MY2qP"
   },
   "source": [
    "Вроде ок. Можно копипастить на сам сайт и посмотреть правильно или нет. Копипастим без кавычек, только то, что между ними."
   ]
  },
  {
   "cell_type": "markdown",
   "metadata": {
    "id": "YSiSRXlzan1S"
   },
   "source": [
    "Сам sql-ex по умолчанию использует либо mssql, либо mysql. И некоторые хитрые функции из sqlite3 могут там не выполнятся. Еще на sql-ex есть возможность проходить упражнения с выбором базы данных https://sql-ex.ru/exercises/index.php?act=learn, я рекомендую выбрать postgres.\n",
    "\n",
    "Но все равно хитрые функция в postgres и sqlite3 разные. Поэтому если тренажер не принимает, то можешь просто попросить его показать правильный ответ, сравнить со своим и идти дальше. Либо можешь упарываться и переписывать эти запросы прямо там на сайте.\n",
    "\n",
    "Но помни, что базовая чать sql везде одинаковая. Т.е. не важно на чем ты учишься -- джойны, групбаи, аггрегация везде одинаковая. Вообще 95% все одинаковое, только спец функция, типа для манипуляции с датами и т.д. могут отличаться. Но это легко разгугливается.\n",
    "\n",
    "На sql-ex еще есть проверочные базы, которых у нас нет. И решение может не приниматься, потому что не проходит проверку на проверочной базе. Здесь, либо подумай, как переписать запрос более умно, либо если совсем застрял -- иди к следующему упражнению, а к этому вернешься чуть позже, когда нарастут sql-мышцы).\n",
    "\n",
    "Я понмю, что иногда если добавишь в начало запроса distinct, то проверочная база может принять. Лайфхак такой. Немного дистинкта никогда не повредит). Но лучше потести это дистинк и в колабе, чтобы понимать что он не нарушает логики твоего запроса."
   ]
  },
  {
   "cell_type": "markdown",
   "metadata": {
    "id": "5JNU1nx1L9Uq"
   },
   "source": [
    "https://www.glebmikhaylov.com/"
   ]
  }
 ],
 "metadata": {
  "colab": {
   "authorship_tag": "ABX9TyPnXSYl1im/Ibi6I9rOCl41",
   "collapsed_sections": [],
   "include_colab_link": true,
   "name": "sqlex-in-colab.ipynb",
   "provenance": []
  },
  "kernelspec": {
   "display_name": "Python 3 (ipykernel)",
   "language": "python",
   "name": "python3"
  },
  "language_info": {
   "codemirror_mode": {
    "name": "ipython",
    "version": 3
   },
   "file_extension": ".py",
   "mimetype": "text/x-python",
   "name": "python",
   "nbconvert_exporter": "python",
   "pygments_lexer": "ipython3",
   "version": "3.9.12"
  }
 },
 "nbformat": 4,
 "nbformat_minor": 1
}
