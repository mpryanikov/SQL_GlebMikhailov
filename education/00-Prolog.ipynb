{
 "cells": [
  {
   "cell_type": "markdown",
   "id": "39d78943",
   "metadata": {},
   "source": [
    "# SQL для анализа данных с Глебом Михайловым"
   ]
  },
  {
   "cell_type": "markdown",
   "id": "da058919",
   "metadata": {},
   "source": [
    "Мой курс на Юдеми https://glebmikhaylov.com/sql  \n",
    "Мой канал в Телеграм: https://t.me/mikhaylovgleb  \n",
    "Мой канал на Ютюб: https://www.youtube.com/c/GlebMikhaylov  \n",
    "Мой сайт: https://glebmikhaylov.com/"
   ]
  },
  {
   "cell_type": "markdown",
   "id": "6b6073ef",
   "metadata": {},
   "source": [
    "Все файлы и данные можно найти в\n",
    "<a href=\"https://github.com/glebmikha/sql-course\">\n",
    "   репозитории на GitHub</a>. Основной ноутбук курса лучше открывать сразу на Colab. Вот \n",
    "<a href=\"https://colab.research.google.com/drive/1Og4wDz-BELxR6izJyWFX-Wn3HVFPHE3W?usp=sharing\">\n",
    "   ссылка</a>\n",
    " на основной ноутбук со всеми примерами."
   ]
  },
  {
   "cell_type": "code",
   "execution_count": null,
   "id": "ebc181b1",
   "metadata": {},
   "outputs": [],
   "source": []
  }
 ],
 "metadata": {
  "kernelspec": {
   "display_name": "Python 3 (ipykernel)",
   "language": "python",
   "name": "python3"
  },
  "language_info": {
   "codemirror_mode": {
    "name": "ipython",
    "version": 3
   },
   "file_extension": ".py",
   "mimetype": "text/x-python",
   "name": "python",
   "nbconvert_exporter": "python",
   "pygments_lexer": "ipython3",
   "version": "3.9.13"
  }
 },
 "nbformat": 4,
 "nbformat_minor": 5
}
