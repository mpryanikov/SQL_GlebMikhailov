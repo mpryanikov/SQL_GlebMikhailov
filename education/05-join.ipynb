{
 "cells": [
  {
   "cell_type": "code",
   "execution_count": 1,
   "id": "d71dc9e2",
   "metadata": {},
   "outputs": [],
   "source": [
    "import pandas as pd\n",
    "import numpy as np"
   ]
  },
  {
   "cell_type": "markdown",
   "id": "e6b8e869",
   "metadata": {},
   "source": [
    "#### Подключение к бд и заливка данных"
   ]
  },
  {
   "cell_type": "code",
   "execution_count": 2,
   "id": "68e48480",
   "metadata": {},
   "outputs": [],
   "source": [
    "import sqlalchemy\n",
    "import pyodbc\n",
    "import warnings\n",
    "warnings.filterwarnings('ignore')"
   ]
  },
  {
   "cell_type": "code",
   "execution_count": 3,
   "id": "3e2a7e66",
   "metadata": {},
   "outputs": [],
   "source": [
    "conn = pyodbc.connect('DSN=TestDB;Trusted_Connection=yes;')"
   ]
  },
  {
   "cell_type": "code",
   "execution_count": 4,
   "id": "d63b61ae",
   "metadata": {},
   "outputs": [],
   "source": [
    "def select(sql):\n",
    "  return pd.read_sql(sql,conn)"
   ]
  },
  {
   "cell_type": "markdown",
   "id": "c406d41f",
   "metadata": {},
   "source": [
    "# 6. Джойны"
   ]
  },
  {
   "cell_type": "code",
   "execution_count": 5,
   "id": "123a9281",
   "metadata": {},
   "outputs": [],
   "source": [
    "users = pd.DataFrame({'id':[1,2,3],'name':['gleb','jon snow','tyrion']})"
   ]
  },
  {
   "cell_type": "code",
   "execution_count": 6,
   "id": "49a5f19d",
   "metadata": {},
   "outputs": [],
   "source": [
    "items = pd.DataFrame({'user_id':[1,3,3],'item_name':['hleb','gold','wine'],'value':[5,100,20]})"
   ]
  },
  {
   "cell_type": "code",
   "execution_count": 7,
   "id": "40b5daa0",
   "metadata": {},
   "outputs": [
    {
     "data": {
      "text/html": [
       "<div>\n",
       "<style scoped>\n",
       "    .dataframe tbody tr th:only-of-type {\n",
       "        vertical-align: middle;\n",
       "    }\n",
       "\n",
       "    .dataframe tbody tr th {\n",
       "        vertical-align: top;\n",
       "    }\n",
       "\n",
       "    .dataframe thead th {\n",
       "        text-align: right;\n",
       "    }\n",
       "</style>\n",
       "<table border=\"1\" class=\"dataframe\">\n",
       "  <thead>\n",
       "    <tr style=\"text-align: right;\">\n",
       "      <th></th>\n",
       "      <th>id</th>\n",
       "      <th>name</th>\n",
       "    </tr>\n",
       "  </thead>\n",
       "  <tbody>\n",
       "    <tr>\n",
       "      <th>0</th>\n",
       "      <td>1</td>\n",
       "      <td>gleb</td>\n",
       "    </tr>\n",
       "    <tr>\n",
       "      <th>1</th>\n",
       "      <td>2</td>\n",
       "      <td>jon snow</td>\n",
       "    </tr>\n",
       "    <tr>\n",
       "      <th>2</th>\n",
       "      <td>3</td>\n",
       "      <td>tyrion</td>\n",
       "    </tr>\n",
       "  </tbody>\n",
       "</table>\n",
       "</div>"
      ],
      "text/plain": [
       "   id      name\n",
       "0   1      gleb\n",
       "1   2  jon snow\n",
       "2   3    tyrion"
      ]
     },
     "execution_count": 7,
     "metadata": {},
     "output_type": "execute_result"
    }
   ],
   "source": [
    "cur = conn.cursor()\n",
    "sql = '''\n",
    "drop table if exists users;\n",
    "CREATE TABLE users (\n",
    "    id        INTEGER,\n",
    "    name      VARCHAR(max)\n",
    ");\n",
    "'''\n",
    "cur.execute(sql)\n",
    "conn.commit()\n",
    "for index,row in users.iterrows():\n",
    "    cur.execute('''INSERT INTO users(\n",
    "                    [id],[name]\n",
    "                    ) \n",
    "                    values (?,?)\n",
    "    ''', \n",
    "                    row['id'], \n",
    "                    row['name']\n",
    "               )\n",
    "conn.commit()\n",
    "cur.close()\n",
    "sql = '''select t.* from users t'''\n",
    "select(sql)"
   ]
  },
  {
   "cell_type": "code",
   "execution_count": 8,
   "id": "9bd0460d",
   "metadata": {},
   "outputs": [
    {
     "data": {
      "text/html": [
       "<div>\n",
       "<style scoped>\n",
       "    .dataframe tbody tr th:only-of-type {\n",
       "        vertical-align: middle;\n",
       "    }\n",
       "\n",
       "    .dataframe tbody tr th {\n",
       "        vertical-align: top;\n",
       "    }\n",
       "\n",
       "    .dataframe thead th {\n",
       "        text-align: right;\n",
       "    }\n",
       "</style>\n",
       "<table border=\"1\" class=\"dataframe\">\n",
       "  <thead>\n",
       "    <tr style=\"text-align: right;\">\n",
       "      <th></th>\n",
       "      <th>user_id</th>\n",
       "      <th>item_name</th>\n",
       "      <th>value</th>\n",
       "    </tr>\n",
       "  </thead>\n",
       "  <tbody>\n",
       "    <tr>\n",
       "      <th>0</th>\n",
       "      <td>1</td>\n",
       "      <td>hleb</td>\n",
       "      <td>5.0</td>\n",
       "    </tr>\n",
       "    <tr>\n",
       "      <th>1</th>\n",
       "      <td>3</td>\n",
       "      <td>gold</td>\n",
       "      <td>100.0</td>\n",
       "    </tr>\n",
       "    <tr>\n",
       "      <th>2</th>\n",
       "      <td>3</td>\n",
       "      <td>wine</td>\n",
       "      <td>20.0</td>\n",
       "    </tr>\n",
       "  </tbody>\n",
       "</table>\n",
       "</div>"
      ],
      "text/plain": [
       "   user_id item_name  value\n",
       "0        1      hleb    5.0\n",
       "1        3      gold  100.0\n",
       "2        3      wine   20.0"
      ]
     },
     "execution_count": 8,
     "metadata": {},
     "output_type": "execute_result"
    }
   ],
   "source": [
    "cur = conn.cursor()\n",
    "sql = '''\n",
    "drop table if exists items;\n",
    "CREATE TABLE items (\n",
    "    user_id        INTEGER,\n",
    "    item_name      VARCHAR(max), \n",
    "    value          MONEY\n",
    ");\n",
    "'''\n",
    "cur.execute(sql)\n",
    "conn.commit()\n",
    "for index,row in items.iterrows():\n",
    "    cur.execute('''INSERT INTO items(\n",
    "                    [user_id],[item_name],[value]\n",
    "                    ) \n",
    "                    values (?,?,?)\n",
    "    ''', \n",
    "                    row['user_id'], \n",
    "                    row['item_name'],\n",
    "                    row['value']\n",
    "               )\n",
    "conn.commit()\n",
    "cur.close()\n",
    "sql = '''select t.* from items t'''\n",
    "select(sql)"
   ]
  },
  {
   "cell_type": "markdown",
   "id": "6d0f3ca8",
   "metadata": {},
   "source": [
    "## 2. Лефт и иннер джойн"
   ]
  },
  {
   "cell_type": "code",
   "execution_count": 9,
   "id": "eba346d4",
   "metadata": {},
   "outputs": [],
   "source": [
    "sql = '''select \n",
    "t.*, i.item_name, i.value, i.user_id \n",
    "from users t\n",
    "left join items i on t.id = i.user_id\n",
    "'''"
   ]
  },
  {
   "cell_type": "code",
   "execution_count": 10,
   "id": "de11e02c",
   "metadata": {},
   "outputs": [
    {
     "data": {
      "text/html": [
       "<div>\n",
       "<style scoped>\n",
       "    .dataframe tbody tr th:only-of-type {\n",
       "        vertical-align: middle;\n",
       "    }\n",
       "\n",
       "    .dataframe tbody tr th {\n",
       "        vertical-align: top;\n",
       "    }\n",
       "\n",
       "    .dataframe thead th {\n",
       "        text-align: right;\n",
       "    }\n",
       "</style>\n",
       "<table border=\"1\" class=\"dataframe\">\n",
       "  <thead>\n",
       "    <tr style=\"text-align: right;\">\n",
       "      <th></th>\n",
       "      <th>id</th>\n",
       "      <th>name</th>\n",
       "      <th>item_name</th>\n",
       "      <th>value</th>\n",
       "      <th>user_id</th>\n",
       "    </tr>\n",
       "  </thead>\n",
       "  <tbody>\n",
       "    <tr>\n",
       "      <th>0</th>\n",
       "      <td>1</td>\n",
       "      <td>gleb</td>\n",
       "      <td>hleb</td>\n",
       "      <td>5.0</td>\n",
       "      <td>1.0</td>\n",
       "    </tr>\n",
       "    <tr>\n",
       "      <th>1</th>\n",
       "      <td>2</td>\n",
       "      <td>jon snow</td>\n",
       "      <td>None</td>\n",
       "      <td>NaN</td>\n",
       "      <td>NaN</td>\n",
       "    </tr>\n",
       "    <tr>\n",
       "      <th>2</th>\n",
       "      <td>3</td>\n",
       "      <td>tyrion</td>\n",
       "      <td>gold</td>\n",
       "      <td>100.0</td>\n",
       "      <td>3.0</td>\n",
       "    </tr>\n",
       "    <tr>\n",
       "      <th>3</th>\n",
       "      <td>3</td>\n",
       "      <td>tyrion</td>\n",
       "      <td>wine</td>\n",
       "      <td>20.0</td>\n",
       "      <td>3.0</td>\n",
       "    </tr>\n",
       "  </tbody>\n",
       "</table>\n",
       "</div>"
      ],
      "text/plain": [
       "   id      name item_name  value  user_id\n",
       "0   1      gleb      hleb    5.0      1.0\n",
       "1   2  jon snow      None    NaN      NaN\n",
       "2   3    tyrion      gold  100.0      3.0\n",
       "3   3    tyrion      wine   20.0      3.0"
      ]
     },
     "execution_count": 10,
     "metadata": {},
     "output_type": "execute_result"
    }
   ],
   "source": [
    "select(sql)"
   ]
  },
  {
   "cell_type": "code",
   "execution_count": 11,
   "id": "7012d13b",
   "metadata": {},
   "outputs": [],
   "source": [
    "sql = '''select \n",
    "t.*, i.item_name, i.value, i.user_id \n",
    "from users t\n",
    "left join items i on t.id = i.user_id\n",
    "where i.item_name is not null\n",
    "'''"
   ]
  },
  {
   "cell_type": "code",
   "execution_count": 12,
   "id": "2168a66c",
   "metadata": {},
   "outputs": [
    {
     "data": {
      "text/html": [
       "<div>\n",
       "<style scoped>\n",
       "    .dataframe tbody tr th:only-of-type {\n",
       "        vertical-align: middle;\n",
       "    }\n",
       "\n",
       "    .dataframe tbody tr th {\n",
       "        vertical-align: top;\n",
       "    }\n",
       "\n",
       "    .dataframe thead th {\n",
       "        text-align: right;\n",
       "    }\n",
       "</style>\n",
       "<table border=\"1\" class=\"dataframe\">\n",
       "  <thead>\n",
       "    <tr style=\"text-align: right;\">\n",
       "      <th></th>\n",
       "      <th>id</th>\n",
       "      <th>name</th>\n",
       "      <th>item_name</th>\n",
       "      <th>value</th>\n",
       "      <th>user_id</th>\n",
       "    </tr>\n",
       "  </thead>\n",
       "  <tbody>\n",
       "    <tr>\n",
       "      <th>0</th>\n",
       "      <td>1</td>\n",
       "      <td>gleb</td>\n",
       "      <td>hleb</td>\n",
       "      <td>5.0</td>\n",
       "      <td>1</td>\n",
       "    </tr>\n",
       "    <tr>\n",
       "      <th>1</th>\n",
       "      <td>3</td>\n",
       "      <td>tyrion</td>\n",
       "      <td>gold</td>\n",
       "      <td>100.0</td>\n",
       "      <td>3</td>\n",
       "    </tr>\n",
       "    <tr>\n",
       "      <th>2</th>\n",
       "      <td>3</td>\n",
       "      <td>tyrion</td>\n",
       "      <td>wine</td>\n",
       "      <td>20.0</td>\n",
       "      <td>3</td>\n",
       "    </tr>\n",
       "  </tbody>\n",
       "</table>\n",
       "</div>"
      ],
      "text/plain": [
       "   id    name item_name  value  user_id\n",
       "0   1    gleb      hleb    5.0        1\n",
       "1   3  tyrion      gold  100.0        3\n",
       "2   3  tyrion      wine   20.0        3"
      ]
     },
     "execution_count": 12,
     "metadata": {},
     "output_type": "execute_result"
    }
   ],
   "source": [
    "select(sql)"
   ]
  },
  {
   "cell_type": "code",
   "execution_count": 13,
   "id": "861949df",
   "metadata": {},
   "outputs": [],
   "source": [
    "sql = '''select \n",
    "t.*, i.item_name \n",
    "from users t\n",
    "join items i on t.id = i.user_id\n",
    "'''"
   ]
  },
  {
   "cell_type": "code",
   "execution_count": 14,
   "id": "3e130136",
   "metadata": {},
   "outputs": [
    {
     "data": {
      "text/html": [
       "<div>\n",
       "<style scoped>\n",
       "    .dataframe tbody tr th:only-of-type {\n",
       "        vertical-align: middle;\n",
       "    }\n",
       "\n",
       "    .dataframe tbody tr th {\n",
       "        vertical-align: top;\n",
       "    }\n",
       "\n",
       "    .dataframe thead th {\n",
       "        text-align: right;\n",
       "    }\n",
       "</style>\n",
       "<table border=\"1\" class=\"dataframe\">\n",
       "  <thead>\n",
       "    <tr style=\"text-align: right;\">\n",
       "      <th></th>\n",
       "      <th>id</th>\n",
       "      <th>name</th>\n",
       "      <th>item_name</th>\n",
       "    </tr>\n",
       "  </thead>\n",
       "  <tbody>\n",
       "    <tr>\n",
       "      <th>0</th>\n",
       "      <td>1</td>\n",
       "      <td>gleb</td>\n",
       "      <td>hleb</td>\n",
       "    </tr>\n",
       "    <tr>\n",
       "      <th>1</th>\n",
       "      <td>3</td>\n",
       "      <td>tyrion</td>\n",
       "      <td>gold</td>\n",
       "    </tr>\n",
       "    <tr>\n",
       "      <th>2</th>\n",
       "      <td>3</td>\n",
       "      <td>tyrion</td>\n",
       "      <td>wine</td>\n",
       "    </tr>\n",
       "  </tbody>\n",
       "</table>\n",
       "</div>"
      ],
      "text/plain": [
       "   id    name item_name\n",
       "0   1    gleb      hleb\n",
       "1   3  tyrion      gold\n",
       "2   3  tyrion      wine"
      ]
     },
     "execution_count": 14,
     "metadata": {},
     "output_type": "execute_result"
    }
   ],
   "source": [
    "select(sql)"
   ]
  },
  {
   "cell_type": "markdown",
   "id": "cec42e58",
   "metadata": {},
   "source": [
    "## 3. Агрегируй перед джойном!"
   ]
  },
  {
   "cell_type": "code",
   "execution_count": 15,
   "id": "b7607991",
   "metadata": {},
   "outputs": [],
   "source": [
    "users = pd.DataFrame({'id':[1,2,3],'name':['gleb','jon snow','tyrion'],\n",
    "                      'victory':[2,10,1]})"
   ]
  },
  {
   "cell_type": "code",
   "execution_count": 16,
   "id": "2163407a",
   "metadata": {},
   "outputs": [
    {
     "data": {
      "text/html": [
       "<div>\n",
       "<style scoped>\n",
       "    .dataframe tbody tr th:only-of-type {\n",
       "        vertical-align: middle;\n",
       "    }\n",
       "\n",
       "    .dataframe tbody tr th {\n",
       "        vertical-align: top;\n",
       "    }\n",
       "\n",
       "    .dataframe thead th {\n",
       "        text-align: right;\n",
       "    }\n",
       "</style>\n",
       "<table border=\"1\" class=\"dataframe\">\n",
       "  <thead>\n",
       "    <tr style=\"text-align: right;\">\n",
       "      <th></th>\n",
       "      <th>id</th>\n",
       "      <th>name</th>\n",
       "      <th>victory</th>\n",
       "    </tr>\n",
       "  </thead>\n",
       "  <tbody>\n",
       "    <tr>\n",
       "      <th>0</th>\n",
       "      <td>1</td>\n",
       "      <td>gleb</td>\n",
       "      <td>2</td>\n",
       "    </tr>\n",
       "    <tr>\n",
       "      <th>1</th>\n",
       "      <td>2</td>\n",
       "      <td>jon snow</td>\n",
       "      <td>10</td>\n",
       "    </tr>\n",
       "    <tr>\n",
       "      <th>2</th>\n",
       "      <td>3</td>\n",
       "      <td>tyrion</td>\n",
       "      <td>1</td>\n",
       "    </tr>\n",
       "  </tbody>\n",
       "</table>\n",
       "</div>"
      ],
      "text/plain": [
       "   id      name  victory\n",
       "0   1      gleb        2\n",
       "1   2  jon snow       10\n",
       "2   3    tyrion        1"
      ]
     },
     "execution_count": 16,
     "metadata": {},
     "output_type": "execute_result"
    }
   ],
   "source": [
    "cur = conn.cursor()\n",
    "sql = '''\n",
    "drop table if exists users;\n",
    "CREATE TABLE users (\n",
    "    id        INTEGER,\n",
    "    name      VARCHAR(max),\n",
    "    victory   INTEGER\n",
    ");\n",
    "'''\n",
    "cur.execute(sql)\n",
    "conn.commit()\n",
    "\n",
    "for index,row in users.iterrows():\n",
    "    cur.execute('''INSERT INTO users(\n",
    "                    [id],[name],[victory]\n",
    "                    ) \n",
    "                    values (?,?,?)\n",
    "    ''', \n",
    "                    row['id'], \n",
    "                    row['name'],\n",
    "                    row['victory']\n",
    "               )\n",
    "    \n",
    "conn.commit()\n",
    "cur.close()\n",
    "sql = '''select t.* from users t'''\n",
    "select(sql)"
   ]
  },
  {
   "cell_type": "code",
   "execution_count": 17,
   "id": "d5c4327b",
   "metadata": {},
   "outputs": [],
   "source": [
    "sql = '''select t.*, \n",
    "i.item_name, i.value, i.user_id \n",
    "from users t\n",
    "left join items i on t.id = i.user_id\n",
    "'''"
   ]
  },
  {
   "cell_type": "code",
   "execution_count": 18,
   "id": "2592d4b7",
   "metadata": {},
   "outputs": [
    {
     "data": {
      "text/html": [
       "<div>\n",
       "<style scoped>\n",
       "    .dataframe tbody tr th:only-of-type {\n",
       "        vertical-align: middle;\n",
       "    }\n",
       "\n",
       "    .dataframe tbody tr th {\n",
       "        vertical-align: top;\n",
       "    }\n",
       "\n",
       "    .dataframe thead th {\n",
       "        text-align: right;\n",
       "    }\n",
       "</style>\n",
       "<table border=\"1\" class=\"dataframe\">\n",
       "  <thead>\n",
       "    <tr style=\"text-align: right;\">\n",
       "      <th></th>\n",
       "      <th>id</th>\n",
       "      <th>name</th>\n",
       "      <th>victory</th>\n",
       "      <th>item_name</th>\n",
       "      <th>value</th>\n",
       "      <th>user_id</th>\n",
       "    </tr>\n",
       "  </thead>\n",
       "  <tbody>\n",
       "    <tr>\n",
       "      <th>0</th>\n",
       "      <td>1</td>\n",
       "      <td>gleb</td>\n",
       "      <td>2</td>\n",
       "      <td>hleb</td>\n",
       "      <td>5.0</td>\n",
       "      <td>1.0</td>\n",
       "    </tr>\n",
       "    <tr>\n",
       "      <th>1</th>\n",
       "      <td>2</td>\n",
       "      <td>jon snow</td>\n",
       "      <td>10</td>\n",
       "      <td>None</td>\n",
       "      <td>NaN</td>\n",
       "      <td>NaN</td>\n",
       "    </tr>\n",
       "    <tr>\n",
       "      <th>2</th>\n",
       "      <td>3</td>\n",
       "      <td>tyrion</td>\n",
       "      <td>1</td>\n",
       "      <td>gold</td>\n",
       "      <td>100.0</td>\n",
       "      <td>3.0</td>\n",
       "    </tr>\n",
       "    <tr>\n",
       "      <th>3</th>\n",
       "      <td>3</td>\n",
       "      <td>tyrion</td>\n",
       "      <td>1</td>\n",
       "      <td>wine</td>\n",
       "      <td>20.0</td>\n",
       "      <td>3.0</td>\n",
       "    </tr>\n",
       "  </tbody>\n",
       "</table>\n",
       "</div>"
      ],
      "text/plain": [
       "   id      name  victory item_name  value  user_id\n",
       "0   1      gleb        2      hleb    5.0      1.0\n",
       "1   2  jon snow       10      None    NaN      NaN\n",
       "2   3    tyrion        1      gold  100.0      3.0\n",
       "3   3    tyrion        1      wine   20.0      3.0"
      ]
     },
     "execution_count": 18,
     "metadata": {},
     "output_type": "execute_result"
    }
   ],
   "source": [
    "t = select(sql)\n",
    "t"
   ]
  },
  {
   "cell_type": "code",
   "execution_count": 19,
   "id": "cfdb4754",
   "metadata": {},
   "outputs": [
    {
     "data": {
      "text/plain": [
       "14"
      ]
     },
     "execution_count": 19,
     "metadata": {},
     "output_type": "execute_result"
    }
   ],
   "source": [
    "t['victory'].sum()"
   ]
  },
  {
   "cell_type": "code",
   "execution_count": 20,
   "id": "bc47f6fa",
   "metadata": {},
   "outputs": [],
   "source": [
    "sql = '''select sum(t.victory) from users t'''"
   ]
  },
  {
   "cell_type": "code",
   "execution_count": 21,
   "id": "432f029c",
   "metadata": {},
   "outputs": [
    {
     "data": {
      "text/html": [
       "<div>\n",
       "<style scoped>\n",
       "    .dataframe tbody tr th:only-of-type {\n",
       "        vertical-align: middle;\n",
       "    }\n",
       "\n",
       "    .dataframe tbody tr th {\n",
       "        vertical-align: top;\n",
       "    }\n",
       "\n",
       "    .dataframe thead th {\n",
       "        text-align: right;\n",
       "    }\n",
       "</style>\n",
       "<table border=\"1\" class=\"dataframe\">\n",
       "  <thead>\n",
       "    <tr style=\"text-align: right;\">\n",
       "      <th></th>\n",
       "      <th></th>\n",
       "    </tr>\n",
       "  </thead>\n",
       "  <tbody>\n",
       "    <tr>\n",
       "      <th>0</th>\n",
       "      <td>13</td>\n",
       "    </tr>\n",
       "  </tbody>\n",
       "</table>\n",
       "</div>"
      ],
      "text/plain": [
       "     \n",
       "0  13"
      ]
     },
     "execution_count": 21,
     "metadata": {},
     "output_type": "execute_result"
    }
   ],
   "source": [
    "select(sql)"
   ]
  },
  {
   "cell_type": "markdown",
   "id": "cab4eb6b",
   "metadata": {},
   "source": [
    "#### После джойнов:\n",
    "1. Проверяй контрольную сумму\n",
    "2. Проверяй дубликаты"
   ]
  },
  {
   "cell_type": "code",
   "execution_count": 22,
   "id": "e9bf2bd5",
   "metadata": {},
   "outputs": [],
   "source": [
    "sql = '''select t.*, i.item_name, i.value, i.user_id \n",
    "from users t\n",
    "join items i on t.id = i.user_id\n",
    "'''"
   ]
  },
  {
   "cell_type": "code",
   "execution_count": 23,
   "id": "e20e363e",
   "metadata": {},
   "outputs": [
    {
     "data": {
      "text/html": [
       "<div>\n",
       "<style scoped>\n",
       "    .dataframe tbody tr th:only-of-type {\n",
       "        vertical-align: middle;\n",
       "    }\n",
       "\n",
       "    .dataframe tbody tr th {\n",
       "        vertical-align: top;\n",
       "    }\n",
       "\n",
       "    .dataframe thead th {\n",
       "        text-align: right;\n",
       "    }\n",
       "</style>\n",
       "<table border=\"1\" class=\"dataframe\">\n",
       "  <thead>\n",
       "    <tr style=\"text-align: right;\">\n",
       "      <th></th>\n",
       "      <th>id</th>\n",
       "      <th>name</th>\n",
       "      <th>victory</th>\n",
       "      <th>item_name</th>\n",
       "      <th>value</th>\n",
       "      <th>user_id</th>\n",
       "    </tr>\n",
       "  </thead>\n",
       "  <tbody>\n",
       "    <tr>\n",
       "      <th>0</th>\n",
       "      <td>1</td>\n",
       "      <td>gleb</td>\n",
       "      <td>2</td>\n",
       "      <td>hleb</td>\n",
       "      <td>5.0</td>\n",
       "      <td>1</td>\n",
       "    </tr>\n",
       "    <tr>\n",
       "      <th>1</th>\n",
       "      <td>3</td>\n",
       "      <td>tyrion</td>\n",
       "      <td>1</td>\n",
       "      <td>gold</td>\n",
       "      <td>100.0</td>\n",
       "      <td>3</td>\n",
       "    </tr>\n",
       "    <tr>\n",
       "      <th>2</th>\n",
       "      <td>3</td>\n",
       "      <td>tyrion</td>\n",
       "      <td>1</td>\n",
       "      <td>wine</td>\n",
       "      <td>20.0</td>\n",
       "      <td>3</td>\n",
       "    </tr>\n",
       "  </tbody>\n",
       "</table>\n",
       "</div>"
      ],
      "text/plain": [
       "   id    name  victory item_name  value  user_id\n",
       "0   1    gleb        2      hleb    5.0        1\n",
       "1   3  tyrion        1      gold  100.0        3\n",
       "2   3  tyrion        1      wine   20.0        3"
      ]
     },
     "execution_count": 23,
     "metadata": {},
     "output_type": "execute_result"
    }
   ],
   "source": [
    "select(sql)"
   ]
  },
  {
   "cell_type": "markdown",
   "id": "9be37cfd",
   "metadata": {},
   "source": [
    "#### Как правильно:"
   ]
  },
  {
   "cell_type": "code",
   "execution_count": 24,
   "id": "c96c37d1",
   "metadata": {},
   "outputs": [],
   "source": [
    "sql = '''select \n",
    "t.id, t.name, t.victory,\n",
    "\n",
    "count(i.item_name) as item_cnt,\n",
    "coalesce(sum(i.value),0) as value_sum\n",
    "\n",
    "from users t\n",
    "left join items i on t.id = i.user_id\n",
    "group by t.id, t.name, t.victory\n",
    "'''"
   ]
  },
  {
   "cell_type": "code",
   "execution_count": 25,
   "id": "f1ed956f",
   "metadata": {},
   "outputs": [
    {
     "data": {
      "text/html": [
       "<div>\n",
       "<style scoped>\n",
       "    .dataframe tbody tr th:only-of-type {\n",
       "        vertical-align: middle;\n",
       "    }\n",
       "\n",
       "    .dataframe tbody tr th {\n",
       "        vertical-align: top;\n",
       "    }\n",
       "\n",
       "    .dataframe thead th {\n",
       "        text-align: right;\n",
       "    }\n",
       "</style>\n",
       "<table border=\"1\" class=\"dataframe\">\n",
       "  <thead>\n",
       "    <tr style=\"text-align: right;\">\n",
       "      <th></th>\n",
       "      <th>id</th>\n",
       "      <th>name</th>\n",
       "      <th>victory</th>\n",
       "      <th>item_cnt</th>\n",
       "      <th>value_sum</th>\n",
       "    </tr>\n",
       "  </thead>\n",
       "  <tbody>\n",
       "    <tr>\n",
       "      <th>0</th>\n",
       "      <td>1</td>\n",
       "      <td>gleb</td>\n",
       "      <td>2</td>\n",
       "      <td>1</td>\n",
       "      <td>5.0</td>\n",
       "    </tr>\n",
       "    <tr>\n",
       "      <th>1</th>\n",
       "      <td>2</td>\n",
       "      <td>jon snow</td>\n",
       "      <td>10</td>\n",
       "      <td>0</td>\n",
       "      <td>0.0</td>\n",
       "    </tr>\n",
       "    <tr>\n",
       "      <th>2</th>\n",
       "      <td>3</td>\n",
       "      <td>tyrion</td>\n",
       "      <td>1</td>\n",
       "      <td>2</td>\n",
       "      <td>120.0</td>\n",
       "    </tr>\n",
       "  </tbody>\n",
       "</table>\n",
       "</div>"
      ],
      "text/plain": [
       "   id      name  victory  item_cnt  value_sum\n",
       "0   1      gleb        2         1        5.0\n",
       "1   2  jon snow       10         0        0.0\n",
       "2   3    tyrion        1         2      120.0"
      ]
     },
     "execution_count": 25,
     "metadata": {},
     "output_type": "execute_result"
    }
   ],
   "source": [
    "select(sql)"
   ]
  },
  {
   "cell_type": "markdown",
   "id": "7d33a96a",
   "metadata": {},
   "source": [
    "#### Надо перед джойном сгруппировать items:"
   ]
  },
  {
   "cell_type": "code",
   "execution_count": 26,
   "id": "1d9c9723",
   "metadata": {},
   "outputs": [],
   "source": [
    "sql = '''select t.user_id, \n",
    "count(t.item_name) as item_cnt,\n",
    "sum(value) as value_sum from items t\n",
    "group by t.user_id'''"
   ]
  },
  {
   "cell_type": "code",
   "execution_count": 27,
   "id": "df4e0bd1",
   "metadata": {},
   "outputs": [
    {
     "data": {
      "text/html": [
       "<div>\n",
       "<style scoped>\n",
       "    .dataframe tbody tr th:only-of-type {\n",
       "        vertical-align: middle;\n",
       "    }\n",
       "\n",
       "    .dataframe tbody tr th {\n",
       "        vertical-align: top;\n",
       "    }\n",
       "\n",
       "    .dataframe thead th {\n",
       "        text-align: right;\n",
       "    }\n",
       "</style>\n",
       "<table border=\"1\" class=\"dataframe\">\n",
       "  <thead>\n",
       "    <tr style=\"text-align: right;\">\n",
       "      <th></th>\n",
       "      <th>user_id</th>\n",
       "      <th>item_cnt</th>\n",
       "      <th>value_sum</th>\n",
       "    </tr>\n",
       "  </thead>\n",
       "  <tbody>\n",
       "    <tr>\n",
       "      <th>0</th>\n",
       "      <td>1</td>\n",
       "      <td>1</td>\n",
       "      <td>5.0</td>\n",
       "    </tr>\n",
       "    <tr>\n",
       "      <th>1</th>\n",
       "      <td>3</td>\n",
       "      <td>2</td>\n",
       "      <td>120.0</td>\n",
       "    </tr>\n",
       "  </tbody>\n",
       "</table>\n",
       "</div>"
      ],
      "text/plain": [
       "   user_id  item_cnt  value_sum\n",
       "0        1         1        5.0\n",
       "1        3         2      120.0"
      ]
     },
     "execution_count": 27,
     "metadata": {},
     "output_type": "execute_result"
    }
   ],
   "source": [
    "select(sql)"
   ]
  },
  {
   "cell_type": "code",
   "execution_count": 28,
   "id": "b41bbb85",
   "metadata": {},
   "outputs": [],
   "source": [
    "sql = '''with \n",
    "items_agg as (\n",
    "    select t.user_id, \n",
    "    count(t.item_name) as item_cnt,\n",
    "    sum(value) as value_sum \n",
    "    from items t\n",
    "    group by t.user_id\n",
    ")\n",
    "select t.id, t.name, t.victory,\n",
    "\n",
    "coalesce(i.item_cnt,0) as item_cnt,\n",
    "coalesce(i.value_sum,0) as value_sum\n",
    "\n",
    "from users t\n",
    "\n",
    "left join items_agg i on t.id = i.user_id\n",
    "'''"
   ]
  },
  {
   "cell_type": "code",
   "execution_count": 29,
   "id": "2859ae89",
   "metadata": {},
   "outputs": [
    {
     "data": {
      "text/html": [
       "<div>\n",
       "<style scoped>\n",
       "    .dataframe tbody tr th:only-of-type {\n",
       "        vertical-align: middle;\n",
       "    }\n",
       "\n",
       "    .dataframe tbody tr th {\n",
       "        vertical-align: top;\n",
       "    }\n",
       "\n",
       "    .dataframe thead th {\n",
       "        text-align: right;\n",
       "    }\n",
       "</style>\n",
       "<table border=\"1\" class=\"dataframe\">\n",
       "  <thead>\n",
       "    <tr style=\"text-align: right;\">\n",
       "      <th></th>\n",
       "      <th>id</th>\n",
       "      <th>name</th>\n",
       "      <th>victory</th>\n",
       "      <th>item_cnt</th>\n",
       "      <th>value_sum</th>\n",
       "    </tr>\n",
       "  </thead>\n",
       "  <tbody>\n",
       "    <tr>\n",
       "      <th>0</th>\n",
       "      <td>1</td>\n",
       "      <td>gleb</td>\n",
       "      <td>2</td>\n",
       "      <td>1</td>\n",
       "      <td>5.0</td>\n",
       "    </tr>\n",
       "    <tr>\n",
       "      <th>1</th>\n",
       "      <td>2</td>\n",
       "      <td>jon snow</td>\n",
       "      <td>10</td>\n",
       "      <td>0</td>\n",
       "      <td>0.0</td>\n",
       "    </tr>\n",
       "    <tr>\n",
       "      <th>2</th>\n",
       "      <td>3</td>\n",
       "      <td>tyrion</td>\n",
       "      <td>1</td>\n",
       "      <td>2</td>\n",
       "      <td>120.0</td>\n",
       "    </tr>\n",
       "  </tbody>\n",
       "</table>\n",
       "</div>"
      ],
      "text/plain": [
       "   id      name  victory  item_cnt  value_sum\n",
       "0   1      gleb        2         1        5.0\n",
       "1   2  jon snow       10         0        0.0\n",
       "2   3    tyrion        1         2      120.0"
      ]
     },
     "execution_count": 29,
     "metadata": {},
     "output_type": "execute_result"
    }
   ],
   "source": [
    "select(sql)"
   ]
  },
  {
   "cell_type": "markdown",
   "id": "6b64ffc6",
   "metadata": {},
   "source": [
    "## 4. Как не надо делать джойны"
   ]
  },
  {
   "cell_type": "markdown",
   "id": "83db0221",
   "metadata": {},
   "source": [
    "#### всегда надо писать псевдонимы:"
   ]
  },
  {
   "cell_type": "code",
   "execution_count": 30,
   "id": "ac206b1c",
   "metadata": {},
   "outputs": [],
   "source": [
    "sql = '''with \n",
    "items_agg as (\n",
    "    select t.user_id, \n",
    "    count(t.item_name) as item_cnt,\n",
    "    sum(value) as value_sum \n",
    "    from items t\n",
    "    group by t.user_id\n",
    ")\n",
    "select t.id, t.name, t.victory,\n",
    "\n",
    "coalesce(item_cnt,0) as item_cnt,\n",
    "coalesce(value_sum,0) as value_sum\n",
    "\n",
    "from users t\n",
    "\n",
    "left join items_agg i on t.id = i.user_id\n",
    "'''"
   ]
  },
  {
   "cell_type": "code",
   "execution_count": 31,
   "id": "dcd3fab6",
   "metadata": {},
   "outputs": [
    {
     "data": {
      "text/html": [
       "<div>\n",
       "<style scoped>\n",
       "    .dataframe tbody tr th:only-of-type {\n",
       "        vertical-align: middle;\n",
       "    }\n",
       "\n",
       "    .dataframe tbody tr th {\n",
       "        vertical-align: top;\n",
       "    }\n",
       "\n",
       "    .dataframe thead th {\n",
       "        text-align: right;\n",
       "    }\n",
       "</style>\n",
       "<table border=\"1\" class=\"dataframe\">\n",
       "  <thead>\n",
       "    <tr style=\"text-align: right;\">\n",
       "      <th></th>\n",
       "      <th>id</th>\n",
       "      <th>name</th>\n",
       "      <th>victory</th>\n",
       "      <th>item_cnt</th>\n",
       "      <th>value_sum</th>\n",
       "    </tr>\n",
       "  </thead>\n",
       "  <tbody>\n",
       "    <tr>\n",
       "      <th>0</th>\n",
       "      <td>1</td>\n",
       "      <td>gleb</td>\n",
       "      <td>2</td>\n",
       "      <td>1</td>\n",
       "      <td>5.0</td>\n",
       "    </tr>\n",
       "    <tr>\n",
       "      <th>1</th>\n",
       "      <td>2</td>\n",
       "      <td>jon snow</td>\n",
       "      <td>10</td>\n",
       "      <td>0</td>\n",
       "      <td>0.0</td>\n",
       "    </tr>\n",
       "    <tr>\n",
       "      <th>2</th>\n",
       "      <td>3</td>\n",
       "      <td>tyrion</td>\n",
       "      <td>1</td>\n",
       "      <td>2</td>\n",
       "      <td>120.0</td>\n",
       "    </tr>\n",
       "  </tbody>\n",
       "</table>\n",
       "</div>"
      ],
      "text/plain": [
       "   id      name  victory  item_cnt  value_sum\n",
       "0   1      gleb        2         1        5.0\n",
       "1   2  jon snow       10         0        0.0\n",
       "2   3    tyrion        1         2      120.0"
      ]
     },
     "execution_count": 31,
     "metadata": {},
     "output_type": "execute_result"
    }
   ],
   "source": [
    "select(sql)"
   ]
  },
  {
   "cell_type": "markdown",
   "id": "075d9e7a",
   "metadata": {},
   "source": [
    "## 5. Никогда не используй right join!"
   ]
  },
  {
   "cell_type": "code",
   "execution_count": 32,
   "id": "a4f3492c",
   "metadata": {},
   "outputs": [],
   "source": [
    "users = pd.DataFrame({'id':[1,2,3],'name':['gleb','jon snow','tyrion']})"
   ]
  },
  {
   "cell_type": "code",
   "execution_count": 33,
   "id": "7eb3be9e",
   "metadata": {},
   "outputs": [],
   "source": [
    "items = pd.DataFrame({'user_id':[1,3,3,4],'item_name':['hleb','gold','wine','sword'],'value':[5,100,20,50]})"
   ]
  },
  {
   "cell_type": "code",
   "execution_count": 34,
   "id": "ad8a17ec",
   "metadata": {},
   "outputs": [
    {
     "data": {
      "text/html": [
       "<div>\n",
       "<style scoped>\n",
       "    .dataframe tbody tr th:only-of-type {\n",
       "        vertical-align: middle;\n",
       "    }\n",
       "\n",
       "    .dataframe tbody tr th {\n",
       "        vertical-align: top;\n",
       "    }\n",
       "\n",
       "    .dataframe thead th {\n",
       "        text-align: right;\n",
       "    }\n",
       "</style>\n",
       "<table border=\"1\" class=\"dataframe\">\n",
       "  <thead>\n",
       "    <tr style=\"text-align: right;\">\n",
       "      <th></th>\n",
       "      <th>id</th>\n",
       "      <th>name</th>\n",
       "    </tr>\n",
       "  </thead>\n",
       "  <tbody>\n",
       "    <tr>\n",
       "      <th>0</th>\n",
       "      <td>1</td>\n",
       "      <td>gleb</td>\n",
       "    </tr>\n",
       "    <tr>\n",
       "      <th>1</th>\n",
       "      <td>2</td>\n",
       "      <td>jon snow</td>\n",
       "    </tr>\n",
       "    <tr>\n",
       "      <th>2</th>\n",
       "      <td>3</td>\n",
       "      <td>tyrion</td>\n",
       "    </tr>\n",
       "  </tbody>\n",
       "</table>\n",
       "</div>"
      ],
      "text/plain": [
       "   id      name\n",
       "0   1      gleb\n",
       "1   2  jon snow\n",
       "2   3    tyrion"
      ]
     },
     "execution_count": 34,
     "metadata": {},
     "output_type": "execute_result"
    }
   ],
   "source": [
    "cur = conn.cursor()\n",
    "sql = '''\n",
    "drop table if exists users;\n",
    "CREATE TABLE users (\n",
    "    id        INTEGER,\n",
    "    name      VARCHAR(max)\n",
    ");\n",
    "'''\n",
    "cur.execute(sql)\n",
    "conn.commit()\n",
    "for index,row in users.iterrows():\n",
    "    cur.execute('''INSERT INTO users(\n",
    "                    [id],[name]\n",
    "                    ) \n",
    "                    values (?,?)\n",
    "    ''', \n",
    "                    row['id'], \n",
    "                    row['name']\n",
    "               )\n",
    "conn.commit()\n",
    "cur.close()\n",
    "sql = '''select t.* from users t'''\n",
    "select(sql)"
   ]
  },
  {
   "cell_type": "code",
   "execution_count": 35,
   "id": "fe140ca6",
   "metadata": {},
   "outputs": [
    {
     "data": {
      "text/html": [
       "<div>\n",
       "<style scoped>\n",
       "    .dataframe tbody tr th:only-of-type {\n",
       "        vertical-align: middle;\n",
       "    }\n",
       "\n",
       "    .dataframe tbody tr th {\n",
       "        vertical-align: top;\n",
       "    }\n",
       "\n",
       "    .dataframe thead th {\n",
       "        text-align: right;\n",
       "    }\n",
       "</style>\n",
       "<table border=\"1\" class=\"dataframe\">\n",
       "  <thead>\n",
       "    <tr style=\"text-align: right;\">\n",
       "      <th></th>\n",
       "      <th>user_id</th>\n",
       "      <th>item_name</th>\n",
       "      <th>value</th>\n",
       "    </tr>\n",
       "  </thead>\n",
       "  <tbody>\n",
       "    <tr>\n",
       "      <th>0</th>\n",
       "      <td>1</td>\n",
       "      <td>hleb</td>\n",
       "      <td>5.0</td>\n",
       "    </tr>\n",
       "    <tr>\n",
       "      <th>1</th>\n",
       "      <td>3</td>\n",
       "      <td>gold</td>\n",
       "      <td>100.0</td>\n",
       "    </tr>\n",
       "    <tr>\n",
       "      <th>2</th>\n",
       "      <td>3</td>\n",
       "      <td>wine</td>\n",
       "      <td>20.0</td>\n",
       "    </tr>\n",
       "    <tr>\n",
       "      <th>3</th>\n",
       "      <td>4</td>\n",
       "      <td>sword</td>\n",
       "      <td>50.0</td>\n",
       "    </tr>\n",
       "  </tbody>\n",
       "</table>\n",
       "</div>"
      ],
      "text/plain": [
       "   user_id item_name  value\n",
       "0        1      hleb    5.0\n",
       "1        3      gold  100.0\n",
       "2        3      wine   20.0\n",
       "3        4     sword   50.0"
      ]
     },
     "execution_count": 35,
     "metadata": {},
     "output_type": "execute_result"
    }
   ],
   "source": [
    "cur = conn.cursor()\n",
    "sql = '''\n",
    "drop table if exists items;\n",
    "CREATE TABLE items (\n",
    "    user_id        INTEGER,\n",
    "    item_name      VARCHAR(max), \n",
    "    value          MONEY\n",
    ");\n",
    "'''\n",
    "cur.execute(sql)\n",
    "conn.commit()\n",
    "for index,row in items.iterrows():\n",
    "    cur.execute('''INSERT INTO items(\n",
    "                    [user_id],[item_name],[value]\n",
    "                    ) \n",
    "                    values (?,?,?)\n",
    "    ''', \n",
    "                    row['user_id'], \n",
    "                    row['item_name'],\n",
    "                    row['value']\n",
    "               )\n",
    "conn.commit()\n",
    "cur.close()\n",
    "sql = '''select t.* from items t'''\n",
    "select(sql)"
   ]
  },
  {
   "cell_type": "code",
   "execution_count": 36,
   "id": "7dfbf6b6",
   "metadata": {},
   "outputs": [],
   "source": [
    "sql = '''select t.*, i.* \n",
    "from users t\n",
    "left join items i on t.id = i.user_id\n",
    "'''"
   ]
  },
  {
   "cell_type": "code",
   "execution_count": 37,
   "id": "31ea2499",
   "metadata": {},
   "outputs": [
    {
     "data": {
      "text/html": [
       "<div>\n",
       "<style scoped>\n",
       "    .dataframe tbody tr th:only-of-type {\n",
       "        vertical-align: middle;\n",
       "    }\n",
       "\n",
       "    .dataframe tbody tr th {\n",
       "        vertical-align: top;\n",
       "    }\n",
       "\n",
       "    .dataframe thead th {\n",
       "        text-align: right;\n",
       "    }\n",
       "</style>\n",
       "<table border=\"1\" class=\"dataframe\">\n",
       "  <thead>\n",
       "    <tr style=\"text-align: right;\">\n",
       "      <th></th>\n",
       "      <th>id</th>\n",
       "      <th>name</th>\n",
       "      <th>user_id</th>\n",
       "      <th>item_name</th>\n",
       "      <th>value</th>\n",
       "    </tr>\n",
       "  </thead>\n",
       "  <tbody>\n",
       "    <tr>\n",
       "      <th>0</th>\n",
       "      <td>1</td>\n",
       "      <td>gleb</td>\n",
       "      <td>1.0</td>\n",
       "      <td>hleb</td>\n",
       "      <td>5.0</td>\n",
       "    </tr>\n",
       "    <tr>\n",
       "      <th>1</th>\n",
       "      <td>2</td>\n",
       "      <td>jon snow</td>\n",
       "      <td>NaN</td>\n",
       "      <td>None</td>\n",
       "      <td>NaN</td>\n",
       "    </tr>\n",
       "    <tr>\n",
       "      <th>2</th>\n",
       "      <td>3</td>\n",
       "      <td>tyrion</td>\n",
       "      <td>3.0</td>\n",
       "      <td>gold</td>\n",
       "      <td>100.0</td>\n",
       "    </tr>\n",
       "    <tr>\n",
       "      <th>3</th>\n",
       "      <td>3</td>\n",
       "      <td>tyrion</td>\n",
       "      <td>3.0</td>\n",
       "      <td>wine</td>\n",
       "      <td>20.0</td>\n",
       "    </tr>\n",
       "  </tbody>\n",
       "</table>\n",
       "</div>"
      ],
      "text/plain": [
       "   id      name  user_id item_name  value\n",
       "0   1      gleb      1.0      hleb    5.0\n",
       "1   2  jon snow      NaN      None    NaN\n",
       "2   3    tyrion      3.0      gold  100.0\n",
       "3   3    tyrion      3.0      wine   20.0"
      ]
     },
     "execution_count": 37,
     "metadata": {},
     "output_type": "execute_result"
    }
   ],
   "source": [
    "select(sql)"
   ]
  },
  {
   "cell_type": "code",
   "execution_count": 38,
   "id": "1b0db686",
   "metadata": {},
   "outputs": [],
   "source": [
    "sql = '''select t.*, u.* \n",
    "from items t \n",
    "left join users u on t.user_id = u.id\n",
    "'''"
   ]
  },
  {
   "cell_type": "code",
   "execution_count": 39,
   "id": "e46b7188",
   "metadata": {},
   "outputs": [
    {
     "data": {
      "text/html": [
       "<div>\n",
       "<style scoped>\n",
       "    .dataframe tbody tr th:only-of-type {\n",
       "        vertical-align: middle;\n",
       "    }\n",
       "\n",
       "    .dataframe tbody tr th {\n",
       "        vertical-align: top;\n",
       "    }\n",
       "\n",
       "    .dataframe thead th {\n",
       "        text-align: right;\n",
       "    }\n",
       "</style>\n",
       "<table border=\"1\" class=\"dataframe\">\n",
       "  <thead>\n",
       "    <tr style=\"text-align: right;\">\n",
       "      <th></th>\n",
       "      <th>user_id</th>\n",
       "      <th>item_name</th>\n",
       "      <th>value</th>\n",
       "      <th>id</th>\n",
       "      <th>name</th>\n",
       "    </tr>\n",
       "  </thead>\n",
       "  <tbody>\n",
       "    <tr>\n",
       "      <th>0</th>\n",
       "      <td>1</td>\n",
       "      <td>hleb</td>\n",
       "      <td>5.0</td>\n",
       "      <td>1.0</td>\n",
       "      <td>gleb</td>\n",
       "    </tr>\n",
       "    <tr>\n",
       "      <th>1</th>\n",
       "      <td>3</td>\n",
       "      <td>gold</td>\n",
       "      <td>100.0</td>\n",
       "      <td>3.0</td>\n",
       "      <td>tyrion</td>\n",
       "    </tr>\n",
       "    <tr>\n",
       "      <th>2</th>\n",
       "      <td>3</td>\n",
       "      <td>wine</td>\n",
       "      <td>20.0</td>\n",
       "      <td>3.0</td>\n",
       "      <td>tyrion</td>\n",
       "    </tr>\n",
       "    <tr>\n",
       "      <th>3</th>\n",
       "      <td>4</td>\n",
       "      <td>sword</td>\n",
       "      <td>50.0</td>\n",
       "      <td>NaN</td>\n",
       "      <td>None</td>\n",
       "    </tr>\n",
       "  </tbody>\n",
       "</table>\n",
       "</div>"
      ],
      "text/plain": [
       "   user_id item_name  value   id    name\n",
       "0        1      hleb    5.0  1.0    gleb\n",
       "1        3      gold  100.0  3.0  tyrion\n",
       "2        3      wine   20.0  3.0  tyrion\n",
       "3        4     sword   50.0  NaN    None"
      ]
     },
     "execution_count": 39,
     "metadata": {},
     "output_type": "execute_result"
    }
   ],
   "source": [
    "select(sql)"
   ]
  },
  {
   "cell_type": "code",
   "execution_count": 40,
   "id": "d29d165d",
   "metadata": {},
   "outputs": [],
   "source": [
    "sql = '''select t.*, i.* \n",
    "from users t\n",
    "right join items i on t.id = i.user_id'''"
   ]
  },
  {
   "cell_type": "code",
   "execution_count": 41,
   "id": "e84b4dc1",
   "metadata": {},
   "outputs": [
    {
     "data": {
      "text/html": [
       "<div>\n",
       "<style scoped>\n",
       "    .dataframe tbody tr th:only-of-type {\n",
       "        vertical-align: middle;\n",
       "    }\n",
       "\n",
       "    .dataframe tbody tr th {\n",
       "        vertical-align: top;\n",
       "    }\n",
       "\n",
       "    .dataframe thead th {\n",
       "        text-align: right;\n",
       "    }\n",
       "</style>\n",
       "<table border=\"1\" class=\"dataframe\">\n",
       "  <thead>\n",
       "    <tr style=\"text-align: right;\">\n",
       "      <th></th>\n",
       "      <th>id</th>\n",
       "      <th>name</th>\n",
       "      <th>user_id</th>\n",
       "      <th>item_name</th>\n",
       "      <th>value</th>\n",
       "    </tr>\n",
       "  </thead>\n",
       "  <tbody>\n",
       "    <tr>\n",
       "      <th>0</th>\n",
       "      <td>1.0</td>\n",
       "      <td>gleb</td>\n",
       "      <td>1</td>\n",
       "      <td>hleb</td>\n",
       "      <td>5.0</td>\n",
       "    </tr>\n",
       "    <tr>\n",
       "      <th>1</th>\n",
       "      <td>3.0</td>\n",
       "      <td>tyrion</td>\n",
       "      <td>3</td>\n",
       "      <td>gold</td>\n",
       "      <td>100.0</td>\n",
       "    </tr>\n",
       "    <tr>\n",
       "      <th>2</th>\n",
       "      <td>3.0</td>\n",
       "      <td>tyrion</td>\n",
       "      <td>3</td>\n",
       "      <td>wine</td>\n",
       "      <td>20.0</td>\n",
       "    </tr>\n",
       "    <tr>\n",
       "      <th>3</th>\n",
       "      <td>NaN</td>\n",
       "      <td>None</td>\n",
       "      <td>4</td>\n",
       "      <td>sword</td>\n",
       "      <td>50.0</td>\n",
       "    </tr>\n",
       "  </tbody>\n",
       "</table>\n",
       "</div>"
      ],
      "text/plain": [
       "    id    name  user_id item_name  value\n",
       "0  1.0    gleb        1      hleb    5.0\n",
       "1  3.0  tyrion        3      gold  100.0\n",
       "2  3.0  tyrion        3      wine   20.0\n",
       "3  NaN    None        4     sword   50.0"
      ]
     },
     "execution_count": 41,
     "metadata": {},
     "output_type": "execute_result"
    }
   ],
   "source": [
    "select(sql)"
   ]
  },
  {
   "cell_type": "markdown",
   "id": "790d5a89",
   "metadata": {},
   "source": [
    "## 6. Full join"
   ]
  },
  {
   "cell_type": "code",
   "execution_count": 42,
   "id": "6462611f",
   "metadata": {},
   "outputs": [],
   "source": [
    "sql = '''select t.*, i.* \n",
    "from users t\n",
    "full join items i on t.id = i.user_id'''"
   ]
  },
  {
   "cell_type": "code",
   "execution_count": 43,
   "id": "d8dd1443",
   "metadata": {},
   "outputs": [
    {
     "data": {
      "text/html": [
       "<div>\n",
       "<style scoped>\n",
       "    .dataframe tbody tr th:only-of-type {\n",
       "        vertical-align: middle;\n",
       "    }\n",
       "\n",
       "    .dataframe tbody tr th {\n",
       "        vertical-align: top;\n",
       "    }\n",
       "\n",
       "    .dataframe thead th {\n",
       "        text-align: right;\n",
       "    }\n",
       "</style>\n",
       "<table border=\"1\" class=\"dataframe\">\n",
       "  <thead>\n",
       "    <tr style=\"text-align: right;\">\n",
       "      <th></th>\n",
       "      <th>id</th>\n",
       "      <th>name</th>\n",
       "      <th>user_id</th>\n",
       "      <th>item_name</th>\n",
       "      <th>value</th>\n",
       "    </tr>\n",
       "  </thead>\n",
       "  <tbody>\n",
       "    <tr>\n",
       "      <th>0</th>\n",
       "      <td>1.0</td>\n",
       "      <td>gleb</td>\n",
       "      <td>1.0</td>\n",
       "      <td>hleb</td>\n",
       "      <td>5.0</td>\n",
       "    </tr>\n",
       "    <tr>\n",
       "      <th>1</th>\n",
       "      <td>2.0</td>\n",
       "      <td>jon snow</td>\n",
       "      <td>NaN</td>\n",
       "      <td>None</td>\n",
       "      <td>NaN</td>\n",
       "    </tr>\n",
       "    <tr>\n",
       "      <th>2</th>\n",
       "      <td>3.0</td>\n",
       "      <td>tyrion</td>\n",
       "      <td>3.0</td>\n",
       "      <td>gold</td>\n",
       "      <td>100.0</td>\n",
       "    </tr>\n",
       "    <tr>\n",
       "      <th>3</th>\n",
       "      <td>3.0</td>\n",
       "      <td>tyrion</td>\n",
       "      <td>3.0</td>\n",
       "      <td>wine</td>\n",
       "      <td>20.0</td>\n",
       "    </tr>\n",
       "    <tr>\n",
       "      <th>4</th>\n",
       "      <td>NaN</td>\n",
       "      <td>None</td>\n",
       "      <td>4.0</td>\n",
       "      <td>sword</td>\n",
       "      <td>50.0</td>\n",
       "    </tr>\n",
       "  </tbody>\n",
       "</table>\n",
       "</div>"
      ],
      "text/plain": [
       "    id      name  user_id item_name  value\n",
       "0  1.0      gleb      1.0      hleb    5.0\n",
       "1  2.0  jon snow      NaN      None    NaN\n",
       "2  3.0    tyrion      3.0      gold  100.0\n",
       "3  3.0    tyrion      3.0      wine   20.0\n",
       "4  NaN      None      4.0     sword   50.0"
      ]
     },
     "execution_count": 43,
     "metadata": {},
     "output_type": "execute_result"
    }
   ],
   "source": [
    "select(sql)"
   ]
  },
  {
   "cell_type": "markdown",
   "id": "a990f904",
   "metadata": {},
   "source": [
    "Если вдруг не можешь вспомнить как делать full join (да и вообще что либо) -- всегда гугли.  \n",
    "https://stackoverflow.com/questions/1923259/full-outer-join-with-sqlite"
   ]
  },
  {
   "cell_type": "markdown",
   "id": "3b471365",
   "metadata": {},
   "source": [
    "#### имитация full join:"
   ]
  },
  {
   "cell_type": "code",
   "execution_count": 44,
   "id": "a4686ecd",
   "metadata": {},
   "outputs": [],
   "source": [
    "sql = '''select t.*, i.* \n",
    "from users t\n",
    "left join items i on t.id = i.user_id\n",
    "union \n",
    "select u.*, t.* \n",
    "from items t \n",
    "left join users u on t.user_id = u.id\n",
    "'''"
   ]
  },
  {
   "cell_type": "code",
   "execution_count": 45,
   "id": "2a81f430",
   "metadata": {},
   "outputs": [
    {
     "data": {
      "text/html": [
       "<div>\n",
       "<style scoped>\n",
       "    .dataframe tbody tr th:only-of-type {\n",
       "        vertical-align: middle;\n",
       "    }\n",
       "\n",
       "    .dataframe tbody tr th {\n",
       "        vertical-align: top;\n",
       "    }\n",
       "\n",
       "    .dataframe thead th {\n",
       "        text-align: right;\n",
       "    }\n",
       "</style>\n",
       "<table border=\"1\" class=\"dataframe\">\n",
       "  <thead>\n",
       "    <tr style=\"text-align: right;\">\n",
       "      <th></th>\n",
       "      <th>id</th>\n",
       "      <th>name</th>\n",
       "      <th>user_id</th>\n",
       "      <th>item_name</th>\n",
       "      <th>value</th>\n",
       "    </tr>\n",
       "  </thead>\n",
       "  <tbody>\n",
       "    <tr>\n",
       "      <th>0</th>\n",
       "      <td>NaN</td>\n",
       "      <td>None</td>\n",
       "      <td>4.0</td>\n",
       "      <td>sword</td>\n",
       "      <td>50.0</td>\n",
       "    </tr>\n",
       "    <tr>\n",
       "      <th>1</th>\n",
       "      <td>1.0</td>\n",
       "      <td>gleb</td>\n",
       "      <td>1.0</td>\n",
       "      <td>hleb</td>\n",
       "      <td>5.0</td>\n",
       "    </tr>\n",
       "    <tr>\n",
       "      <th>2</th>\n",
       "      <td>2.0</td>\n",
       "      <td>jon snow</td>\n",
       "      <td>NaN</td>\n",
       "      <td>None</td>\n",
       "      <td>NaN</td>\n",
       "    </tr>\n",
       "    <tr>\n",
       "      <th>3</th>\n",
       "      <td>3.0</td>\n",
       "      <td>tyrion</td>\n",
       "      <td>3.0</td>\n",
       "      <td>gold</td>\n",
       "      <td>100.0</td>\n",
       "    </tr>\n",
       "    <tr>\n",
       "      <th>4</th>\n",
       "      <td>3.0</td>\n",
       "      <td>tyrion</td>\n",
       "      <td>3.0</td>\n",
       "      <td>wine</td>\n",
       "      <td>20.0</td>\n",
       "    </tr>\n",
       "  </tbody>\n",
       "</table>\n",
       "</div>"
      ],
      "text/plain": [
       "    id      name  user_id item_name  value\n",
       "0  NaN      None      4.0     sword   50.0\n",
       "1  1.0      gleb      1.0      hleb    5.0\n",
       "2  2.0  jon snow      NaN      None    NaN\n",
       "3  3.0    tyrion      3.0      gold  100.0\n",
       "4  3.0    tyrion      3.0      wine   20.0"
      ]
     },
     "execution_count": 45,
     "metadata": {},
     "output_type": "execute_result"
    }
   ],
   "source": [
    "select(sql)"
   ]
  },
  {
   "cell_type": "markdown",
   "id": "efce9d57",
   "metadata": {},
   "source": [
    "## 7. Фишки с inner join"
   ]
  },
  {
   "cell_type": "markdown",
   "id": "73a51ccb",
   "metadata": {},
   "source": [
    "#### сопоставление с \"присланным\" файлом:"
   ]
  },
  {
   "cell_type": "code",
   "execution_count": 46,
   "id": "07911fc1",
   "metadata": {},
   "outputs": [],
   "source": [
    "sql = '''select top(5) * from german_credit t '''"
   ]
  },
  {
   "cell_type": "code",
   "execution_count": 47,
   "id": "6f281585",
   "metadata": {},
   "outputs": [
    {
     "data": {
      "text/html": [
       "<div>\n",
       "<style scoped>\n",
       "    .dataframe tbody tr th:only-of-type {\n",
       "        vertical-align: middle;\n",
       "    }\n",
       "\n",
       "    .dataframe tbody tr th {\n",
       "        vertical-align: top;\n",
       "    }\n",
       "\n",
       "    .dataframe thead th {\n",
       "        text-align: right;\n",
       "    }\n",
       "</style>\n",
       "<table border=\"1\" class=\"dataframe\">\n",
       "  <thead>\n",
       "    <tr style=\"text-align: right;\">\n",
       "      <th></th>\n",
       "      <th>age</th>\n",
       "      <th>sex</th>\n",
       "      <th>job</th>\n",
       "      <th>housing</th>\n",
       "      <th>saving_accounts</th>\n",
       "      <th>checking_account</th>\n",
       "      <th>credit_amount</th>\n",
       "      <th>duration</th>\n",
       "      <th>purpose</th>\n",
       "      <th>default</th>\n",
       "      <th>contract_dt</th>\n",
       "      <th>client_id</th>\n",
       "    </tr>\n",
       "  </thead>\n",
       "  <tbody>\n",
       "    <tr>\n",
       "      <th>0</th>\n",
       "      <td>33</td>\n",
       "      <td>male</td>\n",
       "      <td>2</td>\n",
       "      <td>own</td>\n",
       "      <td>None</td>\n",
       "      <td>None</td>\n",
       "      <td>3074</td>\n",
       "      <td>9</td>\n",
       "      <td>radio/TV</td>\n",
       "      <td>0</td>\n",
       "      <td>2008-06-29 18:52:00</td>\n",
       "      <td>210</td>\n",
       "    </tr>\n",
       "    <tr>\n",
       "      <th>1</th>\n",
       "      <td>43</td>\n",
       "      <td>male</td>\n",
       "      <td>1</td>\n",
       "      <td>own</td>\n",
       "      <td>little</td>\n",
       "      <td>little</td>\n",
       "      <td>1344</td>\n",
       "      <td>12</td>\n",
       "      <td>car</td>\n",
       "      <td>0</td>\n",
       "      <td>2007-05-20 18:30:19</td>\n",
       "      <td>929</td>\n",
       "    </tr>\n",
       "    <tr>\n",
       "      <th>2</th>\n",
       "      <td>52</td>\n",
       "      <td>male</td>\n",
       "      <td>2</td>\n",
       "      <td>own</td>\n",
       "      <td>quite rich</td>\n",
       "      <td>None</td>\n",
       "      <td>936</td>\n",
       "      <td>9</td>\n",
       "      <td>education</td>\n",
       "      <td>0</td>\n",
       "      <td>2008-04-27 08:23:07</td>\n",
       "      <td>200</td>\n",
       "    </tr>\n",
       "    <tr>\n",
       "      <th>3</th>\n",
       "      <td>35</td>\n",
       "      <td>female</td>\n",
       "      <td>3</td>\n",
       "      <td>own</td>\n",
       "      <td>little</td>\n",
       "      <td>None</td>\n",
       "      <td>1393</td>\n",
       "      <td>11</td>\n",
       "      <td>car</td>\n",
       "      <td>0</td>\n",
       "      <td>2007-05-06 10:58:22</td>\n",
       "      <td>45</td>\n",
       "    </tr>\n",
       "    <tr>\n",
       "      <th>4</th>\n",
       "      <td>28</td>\n",
       "      <td>male</td>\n",
       "      <td>2</td>\n",
       "      <td>own</td>\n",
       "      <td>little</td>\n",
       "      <td>None</td>\n",
       "      <td>776</td>\n",
       "      <td>12</td>\n",
       "      <td>radio/TV</td>\n",
       "      <td>0</td>\n",
       "      <td>2007-07-21 13:22:14</td>\n",
       "      <td>358</td>\n",
       "    </tr>\n",
       "  </tbody>\n",
       "</table>\n",
       "</div>"
      ],
      "text/plain": [
       "   age     sex  job housing saving_accounts checking_account  credit_amount  \\\n",
       "0   33    male    2     own            None             None           3074   \n",
       "1   43    male    1     own          little           little           1344   \n",
       "2   52    male    2     own      quite rich             None            936   \n",
       "3   35  female    3     own          little             None           1393   \n",
       "4   28    male    2     own          little             None            776   \n",
       "\n",
       "   duration    purpose  default         contract_dt  client_id  \n",
       "0         9   radio/TV        0 2008-06-29 18:52:00        210  \n",
       "1        12        car        0 2007-05-20 18:30:19        929  \n",
       "2         9  education        0 2008-04-27 08:23:07        200  \n",
       "3        11        car        0 2007-05-06 10:58:22         45  \n",
       "4        12   radio/TV        0 2007-07-21 13:22:14        358  "
      ]
     },
     "execution_count": 47,
     "metadata": {},
     "output_type": "execute_result"
    }
   ],
   "source": [
    "select(sql)"
   ]
  },
  {
   "cell_type": "code",
   "execution_count": 48,
   "id": "aba1ba27",
   "metadata": {},
   "outputs": [],
   "source": [
    "clients = pd.DataFrame({'client_id':[200,45],'data':[1.0, 2.0]})"
   ]
  },
  {
   "cell_type": "code",
   "execution_count": 49,
   "id": "dcdf6170",
   "metadata": {},
   "outputs": [
    {
     "data": {
      "text/html": [
       "<div>\n",
       "<style scoped>\n",
       "    .dataframe tbody tr th:only-of-type {\n",
       "        vertical-align: middle;\n",
       "    }\n",
       "\n",
       "    .dataframe tbody tr th {\n",
       "        vertical-align: top;\n",
       "    }\n",
       "\n",
       "    .dataframe thead th {\n",
       "        text-align: right;\n",
       "    }\n",
       "</style>\n",
       "<table border=\"1\" class=\"dataframe\">\n",
       "  <thead>\n",
       "    <tr style=\"text-align: right;\">\n",
       "      <th></th>\n",
       "      <th>client_id</th>\n",
       "      <th>data</th>\n",
       "    </tr>\n",
       "  </thead>\n",
       "  <tbody>\n",
       "    <tr>\n",
       "      <th>0</th>\n",
       "      <td>200</td>\n",
       "      <td>1</td>\n",
       "    </tr>\n",
       "    <tr>\n",
       "      <th>1</th>\n",
       "      <td>45</td>\n",
       "      <td>2</td>\n",
       "    </tr>\n",
       "  </tbody>\n",
       "</table>\n",
       "</div>"
      ],
      "text/plain": [
       "   client_id  data\n",
       "0        200     1\n",
       "1         45     2"
      ]
     },
     "execution_count": 49,
     "metadata": {},
     "output_type": "execute_result"
    }
   ],
   "source": [
    "cur = conn.cursor()\n",
    "sql = '''\n",
    "drop table if exists clients_task_name;\n",
    "CREATE TABLE clients_task_name (\n",
    "    client_id        int,\n",
    "    data             int\n",
    ");\n",
    "'''\n",
    "cur.execute(sql)\n",
    "conn.commit()\n",
    "for index,row in clients.iterrows():\n",
    "    cur.execute('''INSERT INTO clients_task_name(\n",
    "                    [client_id],[data]\n",
    "                    ) \n",
    "                    values (?,?)\n",
    "    ''', \n",
    "                    row['client_id'], \n",
    "                    row['data']\n",
    "               )\n",
    "conn.commit()\n",
    "cur.close()\n",
    "sql = '''select t.* from clients_task_name t'''\n",
    "select(sql)"
   ]
  },
  {
   "cell_type": "code",
   "execution_count": 50,
   "id": "a151b786",
   "metadata": {},
   "outputs": [],
   "source": [
    "sql = '''select t.*, ctn.data \n",
    "from german_credit t \n",
    "join clients_task_name ctn on t.client_id = ctn.client_id\n",
    "'''"
   ]
  },
  {
   "cell_type": "code",
   "execution_count": 51,
   "id": "b77a756b",
   "metadata": {},
   "outputs": [
    {
     "data": {
      "text/html": [
       "<div>\n",
       "<style scoped>\n",
       "    .dataframe tbody tr th:only-of-type {\n",
       "        vertical-align: middle;\n",
       "    }\n",
       "\n",
       "    .dataframe tbody tr th {\n",
       "        vertical-align: top;\n",
       "    }\n",
       "\n",
       "    .dataframe thead th {\n",
       "        text-align: right;\n",
       "    }\n",
       "</style>\n",
       "<table border=\"1\" class=\"dataframe\">\n",
       "  <thead>\n",
       "    <tr style=\"text-align: right;\">\n",
       "      <th></th>\n",
       "      <th>age</th>\n",
       "      <th>sex</th>\n",
       "      <th>job</th>\n",
       "      <th>housing</th>\n",
       "      <th>saving_accounts</th>\n",
       "      <th>checking_account</th>\n",
       "      <th>credit_amount</th>\n",
       "      <th>duration</th>\n",
       "      <th>purpose</th>\n",
       "      <th>default</th>\n",
       "      <th>contract_dt</th>\n",
       "      <th>client_id</th>\n",
       "      <th>data</th>\n",
       "    </tr>\n",
       "  </thead>\n",
       "  <tbody>\n",
       "    <tr>\n",
       "      <th>0</th>\n",
       "      <td>52</td>\n",
       "      <td>male</td>\n",
       "      <td>2</td>\n",
       "      <td>own</td>\n",
       "      <td>quite rich</td>\n",
       "      <td>None</td>\n",
       "      <td>936</td>\n",
       "      <td>9</td>\n",
       "      <td>education</td>\n",
       "      <td>0</td>\n",
       "      <td>2008-04-27 08:23:07</td>\n",
       "      <td>200</td>\n",
       "      <td>1</td>\n",
       "    </tr>\n",
       "    <tr>\n",
       "      <th>1</th>\n",
       "      <td>35</td>\n",
       "      <td>female</td>\n",
       "      <td>3</td>\n",
       "      <td>own</td>\n",
       "      <td>little</td>\n",
       "      <td>None</td>\n",
       "      <td>1393</td>\n",
       "      <td>11</td>\n",
       "      <td>car</td>\n",
       "      <td>0</td>\n",
       "      <td>2007-05-06 10:58:22</td>\n",
       "      <td>45</td>\n",
       "      <td>2</td>\n",
       "    </tr>\n",
       "  </tbody>\n",
       "</table>\n",
       "</div>"
      ],
      "text/plain": [
       "   age     sex  job housing saving_accounts checking_account  credit_amount  \\\n",
       "0   52    male    2     own      quite rich             None            936   \n",
       "1   35  female    3     own          little             None           1393   \n",
       "\n",
       "   duration    purpose  default         contract_dt  client_id  data  \n",
       "0         9  education        0 2008-04-27 08:23:07        200     1  \n",
       "1        11        car        0 2007-05-06 10:58:22         45     2  "
      ]
     },
     "execution_count": 51,
     "metadata": {},
     "output_type": "execute_result"
    }
   ],
   "source": [
    "select(sql)"
   ]
  },
  {
   "cell_type": "markdown",
   "id": "c80ab824",
   "metadata": {},
   "source": [
    "#### генерация заготовок под отчёт:"
   ]
  },
  {
   "cell_type": "code",
   "execution_count": 52,
   "id": "973881b4",
   "metadata": {},
   "outputs": [],
   "source": [
    "sql = '''select 1 as user_id\n",
    "union all\n",
    "select 2 as user_id\n",
    "union all\n",
    "select 3 as user_id'''"
   ]
  },
  {
   "cell_type": "code",
   "execution_count": 53,
   "id": "b07c70e9",
   "metadata": {},
   "outputs": [
    {
     "data": {
      "text/html": [
       "<div>\n",
       "<style scoped>\n",
       "    .dataframe tbody tr th:only-of-type {\n",
       "        vertical-align: middle;\n",
       "    }\n",
       "\n",
       "    .dataframe tbody tr th {\n",
       "        vertical-align: top;\n",
       "    }\n",
       "\n",
       "    .dataframe thead th {\n",
       "        text-align: right;\n",
       "    }\n",
       "</style>\n",
       "<table border=\"1\" class=\"dataframe\">\n",
       "  <thead>\n",
       "    <tr style=\"text-align: right;\">\n",
       "      <th></th>\n",
       "      <th>user_id</th>\n",
       "    </tr>\n",
       "  </thead>\n",
       "  <tbody>\n",
       "    <tr>\n",
       "      <th>0</th>\n",
       "      <td>1</td>\n",
       "    </tr>\n",
       "    <tr>\n",
       "      <th>1</th>\n",
       "      <td>2</td>\n",
       "    </tr>\n",
       "    <tr>\n",
       "      <th>2</th>\n",
       "      <td>3</td>\n",
       "    </tr>\n",
       "  </tbody>\n",
       "</table>\n",
       "</div>"
      ],
      "text/plain": [
       "   user_id\n",
       "0        1\n",
       "1        2\n",
       "2        3"
      ]
     },
     "execution_count": 53,
     "metadata": {},
     "output_type": "execute_result"
    }
   ],
   "source": [
    "select(sql)"
   ]
  },
  {
   "cell_type": "code",
   "execution_count": 54,
   "id": "16bd81ee",
   "metadata": {},
   "outputs": [],
   "source": [
    "sql = '''\n",
    "select convert(date, '01.03.2021', 104) as month\n",
    "union all\n",
    "select convert(date, '01.04.2021', 104) as month\n",
    "'''"
   ]
  },
  {
   "cell_type": "code",
   "execution_count": 55,
   "id": "9feeea5f",
   "metadata": {},
   "outputs": [
    {
     "data": {
      "text/html": [
       "<div>\n",
       "<style scoped>\n",
       "    .dataframe tbody tr th:only-of-type {\n",
       "        vertical-align: middle;\n",
       "    }\n",
       "\n",
       "    .dataframe tbody tr th {\n",
       "        vertical-align: top;\n",
       "    }\n",
       "\n",
       "    .dataframe thead th {\n",
       "        text-align: right;\n",
       "    }\n",
       "</style>\n",
       "<table border=\"1\" class=\"dataframe\">\n",
       "  <thead>\n",
       "    <tr style=\"text-align: right;\">\n",
       "      <th></th>\n",
       "      <th>month</th>\n",
       "    </tr>\n",
       "  </thead>\n",
       "  <tbody>\n",
       "    <tr>\n",
       "      <th>0</th>\n",
       "      <td>2021-03-01</td>\n",
       "    </tr>\n",
       "    <tr>\n",
       "      <th>1</th>\n",
       "      <td>2021-04-01</td>\n",
       "    </tr>\n",
       "  </tbody>\n",
       "</table>\n",
       "</div>"
      ],
      "text/plain": [
       "        month\n",
       "0  2021-03-01\n",
       "1  2021-04-01"
      ]
     },
     "execution_count": 55,
     "metadata": {},
     "output_type": "execute_result"
    }
   ],
   "source": [
    "select(sql)"
   ]
  },
  {
   "cell_type": "code",
   "execution_count": 56,
   "id": "0eba9bf6",
   "metadata": {},
   "outputs": [],
   "source": [
    "sql = '''with \n",
    "users as (\n",
    "    select 1 as user_id\n",
    "    union all\n",
    "    select 2 as user_id\n",
    "    union all\n",
    "    select 3 as user_id\n",
    "),\n",
    "month as (\n",
    "    select convert(date, '01.03.2021', 104) as month\n",
    "    union all\n",
    "    select convert(date, '01.04.2021', 104) as month\n",
    ")\n",
    "select * from users t\n",
    "join month m on 1=1\n",
    "'''"
   ]
  },
  {
   "cell_type": "code",
   "execution_count": 57,
   "id": "7aecd0f5",
   "metadata": {},
   "outputs": [
    {
     "data": {
      "text/html": [
       "<div>\n",
       "<style scoped>\n",
       "    .dataframe tbody tr th:only-of-type {\n",
       "        vertical-align: middle;\n",
       "    }\n",
       "\n",
       "    .dataframe tbody tr th {\n",
       "        vertical-align: top;\n",
       "    }\n",
       "\n",
       "    .dataframe thead th {\n",
       "        text-align: right;\n",
       "    }\n",
       "</style>\n",
       "<table border=\"1\" class=\"dataframe\">\n",
       "  <thead>\n",
       "    <tr style=\"text-align: right;\">\n",
       "      <th></th>\n",
       "      <th>user_id</th>\n",
       "      <th>month</th>\n",
       "    </tr>\n",
       "  </thead>\n",
       "  <tbody>\n",
       "    <tr>\n",
       "      <th>0</th>\n",
       "      <td>1</td>\n",
       "      <td>2021-03-01</td>\n",
       "    </tr>\n",
       "    <tr>\n",
       "      <th>1</th>\n",
       "      <td>2</td>\n",
       "      <td>2021-03-01</td>\n",
       "    </tr>\n",
       "    <tr>\n",
       "      <th>2</th>\n",
       "      <td>3</td>\n",
       "      <td>2021-03-01</td>\n",
       "    </tr>\n",
       "    <tr>\n",
       "      <th>3</th>\n",
       "      <td>1</td>\n",
       "      <td>2021-04-01</td>\n",
       "    </tr>\n",
       "    <tr>\n",
       "      <th>4</th>\n",
       "      <td>2</td>\n",
       "      <td>2021-04-01</td>\n",
       "    </tr>\n",
       "    <tr>\n",
       "      <th>5</th>\n",
       "      <td>3</td>\n",
       "      <td>2021-04-01</td>\n",
       "    </tr>\n",
       "  </tbody>\n",
       "</table>\n",
       "</div>"
      ],
      "text/plain": [
       "   user_id       month\n",
       "0        1  2021-03-01\n",
       "1        2  2021-03-01\n",
       "2        3  2021-03-01\n",
       "3        1  2021-04-01\n",
       "4        2  2021-04-01\n",
       "5        3  2021-04-01"
      ]
     },
     "execution_count": 57,
     "metadata": {},
     "output_type": "execute_result"
    }
   ],
   "source": [
    "select(sql)"
   ]
  },
  {
   "cell_type": "markdown",
   "id": "b3fab175",
   "metadata": {},
   "source": [
    "----------------"
   ]
  },
  {
   "cell_type": "code",
   "execution_count": 58,
   "id": "efbdcbe8",
   "metadata": {},
   "outputs": [],
   "source": [
    "conn.close()"
   ]
  },
  {
   "cell_type": "code",
   "execution_count": null,
   "id": "c5c16b9e",
   "metadata": {},
   "outputs": [],
   "source": []
  }
 ],
 "metadata": {
  "kernelspec": {
   "display_name": "Python 3 (ipykernel)",
   "language": "python",
   "name": "python3"
  },
  "language_info": {
   "codemirror_mode": {
    "name": "ipython",
    "version": 3
   },
   "file_extension": ".py",
   "mimetype": "text/x-python",
   "name": "python",
   "nbconvert_exporter": "python",
   "pygments_lexer": "ipython3",
   "version": "3.9.13"
  }
 },
 "nbformat": 4,
 "nbformat_minor": 5
}
