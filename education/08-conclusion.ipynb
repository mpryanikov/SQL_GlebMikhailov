{
 "cells": [
  {
   "cell_type": "code",
   "execution_count": 1,
   "id": "4938be6a",
   "metadata": {},
   "outputs": [],
   "source": [
    "import pandas as pd\n",
    "import numpy as np"
   ]
  },
  {
   "cell_type": "markdown",
   "id": "7c51fba1",
   "metadata": {},
   "source": [
    "#### Подключение к бд и заливка данных"
   ]
  },
  {
   "cell_type": "code",
   "execution_count": 2,
   "id": "1a9f7225",
   "metadata": {},
   "outputs": [],
   "source": [
    "import sqlalchemy\n",
    "import pyodbc\n",
    "import warnings\n",
    "warnings.filterwarnings('ignore')"
   ]
  },
  {
   "cell_type": "code",
   "execution_count": 3,
   "id": "9ce3f7a8",
   "metadata": {},
   "outputs": [],
   "source": [
    "conn = pyodbc.connect('DSN=TestDB;Trusted_Connection=yes;')"
   ]
  },
  {
   "cell_type": "code",
   "execution_count": 4,
   "id": "aaa65ab2",
   "metadata": {},
   "outputs": [],
   "source": [
    "def select(sql):\n",
    "  return pd.read_sql(sql,conn)"
   ]
  },
  {
   "cell_type": "code",
   "execution_count": 5,
   "id": "216f060a",
   "metadata": {},
   "outputs": [],
   "source": [
    "sql = '''drop table if exists Employee\n",
    "create table Employee(Id int, Salary int)\n",
    "insert into Employee(Id, Salary) values (1, 100)\n",
    "insert into Employee(Id, Salary) values (2, 200)\n",
    "insert into Employee(Id, Salary) values (3, 300)\n",
    "'''"
   ]
  },
  {
   "cell_type": "markdown",
   "id": "4a1ff514",
   "metadata": {},
   "source": [
    "поставим ; после каждой строки:"
   ]
  },
  {
   "cell_type": "code",
   "execution_count": 6,
   "id": "63f8c591",
   "metadata": {},
   "outputs": [
    {
     "name": "stdout",
     "output_type": "stream",
     "text": [
      "drop table if exists Employee;\n",
      "create table Employee(Id int, Salary int);\n",
      "insert into Employee(Id, Salary) values (1, 100);\n",
      "insert into Employee(Id, Salary) values (2, 200);\n",
      "insert into Employee(Id, Salary) values (3, 300);\n",
      "\n"
     ]
    }
   ],
   "source": [
    "sql = ';\\n'.join(sql.split('\\n'))\n",
    "print(sql)"
   ]
  },
  {
   "cell_type": "markdown",
   "id": "a200f200",
   "metadata": {},
   "source": [
    "# 8. Заключение"
   ]
  },
  {
   "cell_type": "markdown",
   "id": "d53e10f7",
   "metadata": {},
   "source": [
    "## 2. Где тренироваться"
   ]
  },
  {
   "cell_type": "markdown",
   "id": "fbd08965",
   "metadata": {},
   "source": [
    "https://sql-ex.ru/"
   ]
  },
  {
   "cell_type": "markdown",
   "id": "dbd6d16a",
   "metadata": {},
   "source": [
    "https://leetcode.com/ - платный (дорогой)"
   ]
  },
  {
   "cell_type": "markdown",
   "id": "8f529a57",
   "metadata": {},
   "source": [
    "<a href=\"https://stepik.org/course/63054/promo\">\n",
    "   Интерактивный тренажер по SQL · Stepik</a>"
   ]
  },
  {
   "cell_type": "code",
   "execution_count": null,
   "id": "23f8e30c",
   "metadata": {},
   "outputs": [],
   "source": []
  }
 ],
 "metadata": {
  "kernelspec": {
   "display_name": "Python 3 (ipykernel)",
   "language": "python",
   "name": "python3"
  },
  "language_info": {
   "codemirror_mode": {
    "name": "ipython",
    "version": 3
   },
   "file_extension": ".py",
   "mimetype": "text/x-python",
   "name": "python",
   "nbconvert_exporter": "python",
   "pygments_lexer": "ipython3",
   "version": "3.9.13"
  }
 },
 "nbformat": 4,
 "nbformat_minor": 5
}
