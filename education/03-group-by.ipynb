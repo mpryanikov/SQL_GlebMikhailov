{
 "cells": [
  {
   "cell_type": "code",
   "execution_count": 1,
   "id": "39b932de",
   "metadata": {},
   "outputs": [],
   "source": [
    "import pandas as pd\n",
    "import numpy as np"
   ]
  },
  {
   "cell_type": "markdown",
   "id": "b099f6a3",
   "metadata": {},
   "source": [
    "#### Подключение к бд и заливка данных"
   ]
  },
  {
   "cell_type": "code",
   "execution_count": 2,
   "id": "7bb35287",
   "metadata": {},
   "outputs": [],
   "source": [
    "import sqlalchemy\n",
    "import pyodbc\n",
    "import warnings\n",
    "warnings.filterwarnings('ignore')"
   ]
  },
  {
   "cell_type": "code",
   "execution_count": 3,
   "id": "638fdc47",
   "metadata": {},
   "outputs": [],
   "source": [
    "conn = pyodbc.connect('DSN=TestDB;Trusted_Connection=yes;')"
   ]
  },
  {
   "cell_type": "code",
   "execution_count": 4,
   "id": "39094b9e",
   "metadata": {},
   "outputs": [],
   "source": [
    "def select(sql):\n",
    "  return pd.read_sql(sql,conn)"
   ]
  },
  {
   "cell_type": "code",
   "execution_count": 5,
   "id": "05a87058",
   "metadata": {},
   "outputs": [
    {
     "data": {
      "text/html": [
       "<div>\n",
       "<style scoped>\n",
       "    .dataframe tbody tr th:only-of-type {\n",
       "        vertical-align: middle;\n",
       "    }\n",
       "\n",
       "    .dataframe tbody tr th {\n",
       "        vertical-align: top;\n",
       "    }\n",
       "\n",
       "    .dataframe thead th {\n",
       "        text-align: right;\n",
       "    }\n",
       "</style>\n",
       "<table border=\"1\" class=\"dataframe\">\n",
       "  <thead>\n",
       "    <tr style=\"text-align: right;\">\n",
       "      <th></th>\n",
       "      <th>age</th>\n",
       "      <th>sex</th>\n",
       "      <th>job</th>\n",
       "      <th>housing</th>\n",
       "      <th>saving_accounts</th>\n",
       "      <th>checking_account</th>\n",
       "      <th>credit_amount</th>\n",
       "      <th>duration</th>\n",
       "      <th>purpose</th>\n",
       "      <th>default</th>\n",
       "      <th>contract_dt</th>\n",
       "      <th>client_id</th>\n",
       "    </tr>\n",
       "  </thead>\n",
       "  <tbody>\n",
       "    <tr>\n",
       "      <th>0</th>\n",
       "      <td>33</td>\n",
       "      <td>male</td>\n",
       "      <td>2</td>\n",
       "      <td>own</td>\n",
       "      <td>None</td>\n",
       "      <td>None</td>\n",
       "      <td>3074</td>\n",
       "      <td>9</td>\n",
       "      <td>radio/TV</td>\n",
       "      <td>0</td>\n",
       "      <td>2008-06-29 18:52:00</td>\n",
       "      <td>210</td>\n",
       "    </tr>\n",
       "    <tr>\n",
       "      <th>1</th>\n",
       "      <td>43</td>\n",
       "      <td>male</td>\n",
       "      <td>1</td>\n",
       "      <td>own</td>\n",
       "      <td>little</td>\n",
       "      <td>little</td>\n",
       "      <td>1344</td>\n",
       "      <td>12</td>\n",
       "      <td>car</td>\n",
       "      <td>0</td>\n",
       "      <td>2007-05-20 18:30:19</td>\n",
       "      <td>929</td>\n",
       "    </tr>\n",
       "    <tr>\n",
       "      <th>2</th>\n",
       "      <td>52</td>\n",
       "      <td>male</td>\n",
       "      <td>2</td>\n",
       "      <td>own</td>\n",
       "      <td>quite rich</td>\n",
       "      <td>None</td>\n",
       "      <td>936</td>\n",
       "      <td>9</td>\n",
       "      <td>education</td>\n",
       "      <td>0</td>\n",
       "      <td>2008-04-27 08:23:07</td>\n",
       "      <td>200</td>\n",
       "    </tr>\n",
       "    <tr>\n",
       "      <th>3</th>\n",
       "      <td>35</td>\n",
       "      <td>female</td>\n",
       "      <td>3</td>\n",
       "      <td>own</td>\n",
       "      <td>little</td>\n",
       "      <td>None</td>\n",
       "      <td>1393</td>\n",
       "      <td>11</td>\n",
       "      <td>car</td>\n",
       "      <td>0</td>\n",
       "      <td>2007-05-06 10:58:22</td>\n",
       "      <td>45</td>\n",
       "    </tr>\n",
       "    <tr>\n",
       "      <th>4</th>\n",
       "      <td>28</td>\n",
       "      <td>male</td>\n",
       "      <td>2</td>\n",
       "      <td>own</td>\n",
       "      <td>little</td>\n",
       "      <td>None</td>\n",
       "      <td>776</td>\n",
       "      <td>12</td>\n",
       "      <td>radio/TV</td>\n",
       "      <td>0</td>\n",
       "      <td>2007-07-21 13:22:14</td>\n",
       "      <td>358</td>\n",
       "    </tr>\n",
       "    <tr>\n",
       "      <th>...</th>\n",
       "      <td>...</td>\n",
       "      <td>...</td>\n",
       "      <td>...</td>\n",
       "      <td>...</td>\n",
       "      <td>...</td>\n",
       "      <td>...</td>\n",
       "      <td>...</td>\n",
       "      <td>...</td>\n",
       "      <td>...</td>\n",
       "      <td>...</td>\n",
       "      <td>...</td>\n",
       "      <td>...</td>\n",
       "    </tr>\n",
       "    <tr>\n",
       "      <th>995</th>\n",
       "      <td>65</td>\n",
       "      <td>male</td>\n",
       "      <td>2</td>\n",
       "      <td>free</td>\n",
       "      <td>little</td>\n",
       "      <td>little</td>\n",
       "      <td>2600</td>\n",
       "      <td>18</td>\n",
       "      <td>radio/TV</td>\n",
       "      <td>1</td>\n",
       "      <td>2007-12-16 20:17:19</td>\n",
       "      <td>624</td>\n",
       "    </tr>\n",
       "    <tr>\n",
       "      <th>996</th>\n",
       "      <td>30</td>\n",
       "      <td>male</td>\n",
       "      <td>3</td>\n",
       "      <td>own</td>\n",
       "      <td>little</td>\n",
       "      <td>moderate</td>\n",
       "      <td>4455</td>\n",
       "      <td>36</td>\n",
       "      <td>business</td>\n",
       "      <td>1</td>\n",
       "      <td>2007-07-12 14:08:58</td>\n",
       "      <td>181</td>\n",
       "    </tr>\n",
       "    <tr>\n",
       "      <th>997</th>\n",
       "      <td>33</td>\n",
       "      <td>male</td>\n",
       "      <td>2</td>\n",
       "      <td>own</td>\n",
       "      <td>little</td>\n",
       "      <td>moderate</td>\n",
       "      <td>6403</td>\n",
       "      <td>24</td>\n",
       "      <td>radio/TV</td>\n",
       "      <td>0</td>\n",
       "      <td>2008-04-08 03:24:26</td>\n",
       "      <td>730</td>\n",
       "    </tr>\n",
       "    <tr>\n",
       "      <th>998</th>\n",
       "      <td>29</td>\n",
       "      <td>female</td>\n",
       "      <td>2</td>\n",
       "      <td>own</td>\n",
       "      <td>None</td>\n",
       "      <td>None</td>\n",
       "      <td>5003</td>\n",
       "      <td>21</td>\n",
       "      <td>car</td>\n",
       "      <td>1</td>\n",
       "      <td>2007-11-29 15:51:45</td>\n",
       "      <td>557</td>\n",
       "    </tr>\n",
       "    <tr>\n",
       "      <th>999</th>\n",
       "      <td>44</td>\n",
       "      <td>male</td>\n",
       "      <td>2</td>\n",
       "      <td>own</td>\n",
       "      <td>moderate</td>\n",
       "      <td>moderate</td>\n",
       "      <td>1804</td>\n",
       "      <td>12</td>\n",
       "      <td>car</td>\n",
       "      <td>0</td>\n",
       "      <td>2007-08-14 09:05:33</td>\n",
       "      <td>23</td>\n",
       "    </tr>\n",
       "  </tbody>\n",
       "</table>\n",
       "<p>1000 rows × 12 columns</p>\n",
       "</div>"
      ],
      "text/plain": [
       "     age     sex  job housing saving_accounts checking_account  credit_amount  \\\n",
       "0     33    male    2     own            None             None           3074   \n",
       "1     43    male    1     own          little           little           1344   \n",
       "2     52    male    2     own      quite rich             None            936   \n",
       "3     35  female    3     own          little             None           1393   \n",
       "4     28    male    2     own          little             None            776   \n",
       "..   ...     ...  ...     ...             ...              ...            ...   \n",
       "995   65    male    2    free          little           little           2600   \n",
       "996   30    male    3     own          little         moderate           4455   \n",
       "997   33    male    2     own          little         moderate           6403   \n",
       "998   29  female    2     own            None             None           5003   \n",
       "999   44    male    2     own        moderate         moderate           1804   \n",
       "\n",
       "     duration    purpose  default         contract_dt  client_id  \n",
       "0           9   radio/TV        0 2008-06-29 18:52:00        210  \n",
       "1          12        car        0 2007-05-20 18:30:19        929  \n",
       "2           9  education        0 2008-04-27 08:23:07        200  \n",
       "3          11        car        0 2007-05-06 10:58:22         45  \n",
       "4          12   radio/TV        0 2007-07-21 13:22:14        358  \n",
       "..        ...        ...      ...                 ...        ...  \n",
       "995        18   radio/TV        1 2007-12-16 20:17:19        624  \n",
       "996        36   business        1 2007-07-12 14:08:58        181  \n",
       "997        24   radio/TV        0 2008-04-08 03:24:26        730  \n",
       "998        21        car        1 2007-11-29 15:51:45        557  \n",
       "999        12        car        0 2007-08-14 09:05:33         23  \n",
       "\n",
       "[1000 rows x 12 columns]"
      ]
     },
     "execution_count": 5,
     "metadata": {},
     "output_type": "execute_result"
    }
   ],
   "source": [
    "sql = '''select * from german_credit t'''\n",
    "select(sql)"
   ]
  },
  {
   "cell_type": "markdown",
   "id": "74a731cf",
   "metadata": {},
   "source": [
    "# 4. Group By"
   ]
  },
  {
   "cell_type": "markdown",
   "id": "3e5b0a71",
   "metadata": {},
   "source": [
    "## 1. Сводная таблица"
   ]
  },
  {
   "cell_type": "markdown",
   "id": "006ca33b",
   "metadata": {},
   "source": [
    "В сводных таблицах всегда дожен быть *count*"
   ]
  },
  {
   "cell_type": "code",
   "execution_count": 6,
   "id": "aa05ae4d",
   "metadata": {},
   "outputs": [],
   "source": [
    "sql = '''select \n",
    "t.sex,\n",
    "\n",
    "count(*) as cnt,\n",
    "\n",
    "-- поля FLOAT должны, поэтому и не точность\n",
    "avg(t.credit_amount * 1.0) as credit_amount_avg\n",
    "\n",
    "from german_credit t\n",
    "group by t.sex\n",
    "'''"
   ]
  },
  {
   "cell_type": "code",
   "execution_count": 7,
   "id": "5175c913",
   "metadata": {},
   "outputs": [
    {
     "data": {
      "text/html": [
       "<div>\n",
       "<style scoped>\n",
       "    .dataframe tbody tr th:only-of-type {\n",
       "        vertical-align: middle;\n",
       "    }\n",
       "\n",
       "    .dataframe tbody tr th {\n",
       "        vertical-align: top;\n",
       "    }\n",
       "\n",
       "    .dataframe thead th {\n",
       "        text-align: right;\n",
       "    }\n",
       "</style>\n",
       "<table border=\"1\" class=\"dataframe\">\n",
       "  <thead>\n",
       "    <tr style=\"text-align: right;\">\n",
       "      <th></th>\n",
       "      <th>sex</th>\n",
       "      <th>cnt</th>\n",
       "      <th>credit_amount_avg</th>\n",
       "    </tr>\n",
       "  </thead>\n",
       "  <tbody>\n",
       "    <tr>\n",
       "      <th>0</th>\n",
       "      <td>female</td>\n",
       "      <td>310</td>\n",
       "      <td>2877.774193</td>\n",
       "    </tr>\n",
       "    <tr>\n",
       "      <th>1</th>\n",
       "      <td>male</td>\n",
       "      <td>690</td>\n",
       "      <td>3448.040579</td>\n",
       "    </tr>\n",
       "  </tbody>\n",
       "</table>\n",
       "</div>"
      ],
      "text/plain": [
       "      sex  cnt  credit_amount_avg\n",
       "0  female  310        2877.774193\n",
       "1    male  690        3448.040579"
      ]
     },
     "execution_count": 7,
     "metadata": {},
     "output_type": "execute_result"
    }
   ],
   "source": [
    "select(sql)"
   ]
  },
  {
   "cell_type": "raw",
   "id": "5ebbf8b9",
   "metadata": {},
   "source": [
    "df.groupby('sex')['credit_amount'].agg(['count','mean'])"
   ]
  },
  {
   "cell_type": "markdown",
   "id": "0b316545",
   "metadata": {},
   "source": [
    "### Уникальные значения:"
   ]
  },
  {
   "cell_type": "code",
   "execution_count": 8,
   "id": "1f92f8e0",
   "metadata": {},
   "outputs": [],
   "source": [
    "sql = '''select \n",
    "count(distinct t.housing), count(t.housing) \n",
    "from german_credit t\n",
    "'''"
   ]
  },
  {
   "cell_type": "code",
   "execution_count": 9,
   "id": "50db2a2d",
   "metadata": {},
   "outputs": [
    {
     "data": {
      "text/html": [
       "<div>\n",
       "<style scoped>\n",
       "    .dataframe tbody tr th:only-of-type {\n",
       "        vertical-align: middle;\n",
       "    }\n",
       "\n",
       "    .dataframe tbody tr th {\n",
       "        vertical-align: top;\n",
       "    }\n",
       "\n",
       "    .dataframe thead th {\n",
       "        text-align: right;\n",
       "    }\n",
       "</style>\n",
       "<table border=\"1\" class=\"dataframe\">\n",
       "  <thead>\n",
       "    <tr style=\"text-align: right;\">\n",
       "      <th></th>\n",
       "      <th></th>\n",
       "      <th></th>\n",
       "    </tr>\n",
       "  </thead>\n",
       "  <tbody>\n",
       "    <tr>\n",
       "      <th>0</th>\n",
       "      <td>3</td>\n",
       "      <td>1000</td>\n",
       "    </tr>\n",
       "  </tbody>\n",
       "</table>\n",
       "</div>"
      ],
      "text/plain": [
       "          \n",
       "0  3  1000"
      ]
     },
     "execution_count": 9,
     "metadata": {},
     "output_type": "execute_result"
    }
   ],
   "source": [
    "select(sql)"
   ]
  },
  {
   "cell_type": "code",
   "execution_count": 10,
   "id": "9790c4f5",
   "metadata": {},
   "outputs": [],
   "source": [
    "sql = '''select \n",
    "t.housing,\n",
    "\n",
    "count(*) as cnt,\n",
    "avg(t.credit_amount * 1.0) as credit_amount_avg\n",
    "\n",
    "from german_credit t\n",
    "group by t.housing\n",
    "'''"
   ]
  },
  {
   "cell_type": "code",
   "execution_count": 11,
   "id": "19132455",
   "metadata": {},
   "outputs": [
    {
     "data": {
      "text/html": [
       "<div>\n",
       "<style scoped>\n",
       "    .dataframe tbody tr th:only-of-type {\n",
       "        vertical-align: middle;\n",
       "    }\n",
       "\n",
       "    .dataframe tbody tr th {\n",
       "        vertical-align: top;\n",
       "    }\n",
       "\n",
       "    .dataframe thead th {\n",
       "        text-align: right;\n",
       "    }\n",
       "</style>\n",
       "<table border=\"1\" class=\"dataframe\">\n",
       "  <thead>\n",
       "    <tr style=\"text-align: right;\">\n",
       "      <th></th>\n",
       "      <th>housing</th>\n",
       "      <th>cnt</th>\n",
       "      <th>credit_amount_avg</th>\n",
       "    </tr>\n",
       "  </thead>\n",
       "  <tbody>\n",
       "    <tr>\n",
       "      <th>0</th>\n",
       "      <td>free</td>\n",
       "      <td>108</td>\n",
       "      <td>4906.212962</td>\n",
       "    </tr>\n",
       "    <tr>\n",
       "      <th>1</th>\n",
       "      <td>own</td>\n",
       "      <td>713</td>\n",
       "      <td>3060.939691</td>\n",
       "    </tr>\n",
       "    <tr>\n",
       "      <th>2</th>\n",
       "      <td>rent</td>\n",
       "      <td>179</td>\n",
       "      <td>3122.553072</td>\n",
       "    </tr>\n",
       "  </tbody>\n",
       "</table>\n",
       "</div>"
      ],
      "text/plain": [
       "  housing  cnt  credit_amount_avg\n",
       "0    free  108        4906.212962\n",
       "1     own  713        3060.939691\n",
       "2    rent  179        3122.553072"
      ]
     },
     "execution_count": 11,
     "metadata": {},
     "output_type": "execute_result"
    }
   ],
   "source": [
    "select(sql) "
   ]
  },
  {
   "cell_type": "markdown",
   "id": "bf311099",
   "metadata": {},
   "source": [
    "## 2. Пропущенные значения (null)"
   ]
  },
  {
   "cell_type": "code",
   "execution_count": 12,
   "id": "80a8e70d",
   "metadata": {},
   "outputs": [],
   "source": [
    "sql = '''select \n",
    "count(t.checking_account), count(0) \n",
    "from german_credit t\n",
    "'''"
   ]
  },
  {
   "cell_type": "code",
   "execution_count": 13,
   "id": "67281749",
   "metadata": {},
   "outputs": [
    {
     "data": {
      "text/html": [
       "<div>\n",
       "<style scoped>\n",
       "    .dataframe tbody tr th:only-of-type {\n",
       "        vertical-align: middle;\n",
       "    }\n",
       "\n",
       "    .dataframe tbody tr th {\n",
       "        vertical-align: top;\n",
       "    }\n",
       "\n",
       "    .dataframe thead th {\n",
       "        text-align: right;\n",
       "    }\n",
       "</style>\n",
       "<table border=\"1\" class=\"dataframe\">\n",
       "  <thead>\n",
       "    <tr style=\"text-align: right;\">\n",
       "      <th></th>\n",
       "      <th></th>\n",
       "      <th></th>\n",
       "    </tr>\n",
       "  </thead>\n",
       "  <tbody>\n",
       "    <tr>\n",
       "      <th>0</th>\n",
       "      <td>606</td>\n",
       "      <td>1000</td>\n",
       "    </tr>\n",
       "  </tbody>\n",
       "</table>\n",
       "</div>"
      ],
      "text/plain": [
       "            \n",
       "0  606  1000"
      ]
     },
     "execution_count": 13,
     "metadata": {},
     "output_type": "execute_result"
    }
   ],
   "source": [
    "select(sql)"
   ]
  },
  {
   "cell_type": "code",
   "execution_count": 14,
   "id": "5db746bc",
   "metadata": {},
   "outputs": [],
   "source": [
    "sql = '''select \n",
    "t.checking_account,\n",
    "\n",
    "count(*) as cnt,\n",
    "avg(t.credit_amount) as credit_amount_avg\n",
    "\n",
    "from german_credit t\n",
    "group by t.checking_account\n",
    "'''"
   ]
  },
  {
   "cell_type": "code",
   "execution_count": 15,
   "id": "00b8578c",
   "metadata": {},
   "outputs": [
    {
     "data": {
      "text/html": [
       "<div>\n",
       "<style scoped>\n",
       "    .dataframe tbody tr th:only-of-type {\n",
       "        vertical-align: middle;\n",
       "    }\n",
       "\n",
       "    .dataframe tbody tr th {\n",
       "        vertical-align: top;\n",
       "    }\n",
       "\n",
       "    .dataframe thead th {\n",
       "        text-align: right;\n",
       "    }\n",
       "</style>\n",
       "<table border=\"1\" class=\"dataframe\">\n",
       "  <thead>\n",
       "    <tr style=\"text-align: right;\">\n",
       "      <th></th>\n",
       "      <th>checking_account</th>\n",
       "      <th>cnt</th>\n",
       "      <th>credit_amount_avg</th>\n",
       "    </tr>\n",
       "  </thead>\n",
       "  <tbody>\n",
       "    <tr>\n",
       "      <th>0</th>\n",
       "      <td>None</td>\n",
       "      <td>394</td>\n",
       "      <td>3133</td>\n",
       "    </tr>\n",
       "    <tr>\n",
       "      <th>1</th>\n",
       "      <td>little</td>\n",
       "      <td>274</td>\n",
       "      <td>3175</td>\n",
       "    </tr>\n",
       "    <tr>\n",
       "      <th>2</th>\n",
       "      <td>moderate</td>\n",
       "      <td>269</td>\n",
       "      <td>3827</td>\n",
       "    </tr>\n",
       "    <tr>\n",
       "      <th>3</th>\n",
       "      <td>rich</td>\n",
       "      <td>63</td>\n",
       "      <td>2177</td>\n",
       "    </tr>\n",
       "  </tbody>\n",
       "</table>\n",
       "</div>"
      ],
      "text/plain": [
       "  checking_account  cnt  credit_amount_avg\n",
       "0             None  394               3133\n",
       "1           little  274               3175\n",
       "2         moderate  269               3827\n",
       "3             rich   63               2177"
      ]
     },
     "execution_count": 15,
     "metadata": {},
     "output_type": "execute_result"
    }
   ],
   "source": [
    "select(sql)"
   ]
  },
  {
   "cell_type": "raw",
   "id": "1f08f60e",
   "metadata": {},
   "source": [
    "df.groupby('checking_account',dropna=False)['credit_amount'].count()"
   ]
  },
  {
   "cell_type": "code",
   "execution_count": 16,
   "id": "69b23cac",
   "metadata": {},
   "outputs": [],
   "source": [
    "sql = '''select \n",
    "sum(case when t.checking_account is null then 1 else 0 end) as is_null,\n",
    "count(case when t.checking_account is null then 1 else null end) as is_null2\n",
    "from german_credit t\n",
    "'''"
   ]
  },
  {
   "cell_type": "code",
   "execution_count": 17,
   "id": "6fceae4e",
   "metadata": {},
   "outputs": [
    {
     "data": {
      "text/html": [
       "<div>\n",
       "<style scoped>\n",
       "    .dataframe tbody tr th:only-of-type {\n",
       "        vertical-align: middle;\n",
       "    }\n",
       "\n",
       "    .dataframe tbody tr th {\n",
       "        vertical-align: top;\n",
       "    }\n",
       "\n",
       "    .dataframe thead th {\n",
       "        text-align: right;\n",
       "    }\n",
       "</style>\n",
       "<table border=\"1\" class=\"dataframe\">\n",
       "  <thead>\n",
       "    <tr style=\"text-align: right;\">\n",
       "      <th></th>\n",
       "      <th>is_null</th>\n",
       "      <th>is_null2</th>\n",
       "    </tr>\n",
       "  </thead>\n",
       "  <tbody>\n",
       "    <tr>\n",
       "      <th>0</th>\n",
       "      <td>394</td>\n",
       "      <td>394</td>\n",
       "    </tr>\n",
       "  </tbody>\n",
       "</table>\n",
       "</div>"
      ],
      "text/plain": [
       "   is_null  is_null2\n",
       "0      394       394"
      ]
     },
     "execution_count": 17,
     "metadata": {},
     "output_type": "execute_result"
    }
   ],
   "source": [
    "select(sql)"
   ]
  },
  {
   "cell_type": "markdown",
   "id": "0cd70971",
   "metadata": {},
   "source": [
    "#### потренируемся:"
   ]
  },
  {
   "cell_type": "code",
   "execution_count": 18,
   "id": "7b76db32",
   "metadata": {},
   "outputs": [],
   "source": [
    "t = pd.DataFrame({'col1':[1,np.nan,2]})\n",
    "t = t.replace({np.nan:None})\n",
    "# t"
   ]
  },
  {
   "cell_type": "code",
   "execution_count": 19,
   "id": "d445e5f7",
   "metadata": {},
   "outputs": [
    {
     "data": {
      "text/html": [
       "<div>\n",
       "<style scoped>\n",
       "    .dataframe tbody tr th:only-of-type {\n",
       "        vertical-align: middle;\n",
       "    }\n",
       "\n",
       "    .dataframe tbody tr th {\n",
       "        vertical-align: top;\n",
       "    }\n",
       "\n",
       "    .dataframe thead th {\n",
       "        text-align: right;\n",
       "    }\n",
       "</style>\n",
       "<table border=\"1\" class=\"dataframe\">\n",
       "  <thead>\n",
       "    <tr style=\"text-align: right;\">\n",
       "      <th></th>\n",
       "      <th>col1</th>\n",
       "    </tr>\n",
       "  </thead>\n",
       "  <tbody>\n",
       "    <tr>\n",
       "      <th>0</th>\n",
       "      <td>1.0</td>\n",
       "    </tr>\n",
       "    <tr>\n",
       "      <th>1</th>\n",
       "      <td>NaN</td>\n",
       "    </tr>\n",
       "    <tr>\n",
       "      <th>2</th>\n",
       "      <td>2.0</td>\n",
       "    </tr>\n",
       "  </tbody>\n",
       "</table>\n",
       "</div>"
      ],
      "text/plain": [
       "   col1\n",
       "0   1.0\n",
       "1   NaN\n",
       "2   2.0"
      ]
     },
     "execution_count": 19,
     "metadata": {},
     "output_type": "execute_result"
    }
   ],
   "source": [
    "cur = conn.cursor()\n",
    "sql = '''\n",
    "drop table if exists null_test;\n",
    "CREATE TABLE null_test (\n",
    "    col1   money\n",
    ");\n",
    "'''\n",
    "cur.execute(sql)\n",
    "conn.commit()\n",
    "\n",
    "for index,row in t.iterrows():\n",
    "    cur.execute('''INSERT INTO null_test(\n",
    "                    [col1]\n",
    "                    ) \n",
    "                    values (?)\n",
    "    ''', \n",
    "                \n",
    "                row['col1']\n",
    "               )\n",
    "    \n",
    "conn.commit()\n",
    "cur.close()\n",
    "\n",
    "sql = '''select * from null_test t'''\n",
    "select(sql)"
   ]
  },
  {
   "cell_type": "code",
   "execution_count": 20,
   "id": "def2a597",
   "metadata": {},
   "outputs": [
    {
     "data": {
      "text/plain": [
       "1.5"
      ]
     },
     "execution_count": 20,
     "metadata": {},
     "output_type": "execute_result"
    }
   ],
   "source": [
    "(1 + 2) / 2"
   ]
  },
  {
   "cell_type": "code",
   "execution_count": 21,
   "id": "231c7ffb",
   "metadata": {},
   "outputs": [
    {
     "data": {
      "text/plain": [
       "1.0"
      ]
     },
     "execution_count": 21,
     "metadata": {},
     "output_type": "execute_result"
    }
   ],
   "source": [
    "(1 + 0 + 2) / 3"
   ]
  },
  {
   "cell_type": "code",
   "execution_count": 22,
   "id": "dc2e69b5",
   "metadata": {},
   "outputs": [],
   "source": [
    "sql = '''select avg(t.col1) from null_test t'''"
   ]
  },
  {
   "cell_type": "code",
   "execution_count": 23,
   "id": "fcf43d93",
   "metadata": {},
   "outputs": [
    {
     "data": {
      "text/html": [
       "<div>\n",
       "<style scoped>\n",
       "    .dataframe tbody tr th:only-of-type {\n",
       "        vertical-align: middle;\n",
       "    }\n",
       "\n",
       "    .dataframe tbody tr th {\n",
       "        vertical-align: top;\n",
       "    }\n",
       "\n",
       "    .dataframe thead th {\n",
       "        text-align: right;\n",
       "    }\n",
       "</style>\n",
       "<table border=\"1\" class=\"dataframe\">\n",
       "  <thead>\n",
       "    <tr style=\"text-align: right;\">\n",
       "      <th></th>\n",
       "      <th></th>\n",
       "    </tr>\n",
       "  </thead>\n",
       "  <tbody>\n",
       "    <tr>\n",
       "      <th>0</th>\n",
       "      <td>1.5</td>\n",
       "    </tr>\n",
       "  </tbody>\n",
       "</table>\n",
       "</div>"
      ],
      "text/plain": [
       "      \n",
       "0  1.5"
      ]
     },
     "execution_count": 23,
     "metadata": {},
     "output_type": "execute_result"
    }
   ],
   "source": [
    "select(sql)"
   ]
  },
  {
   "cell_type": "markdown",
   "id": "7aa1f38c",
   "metadata": {},
   "source": [
    "### заменим пропуски:"
   ]
  },
  {
   "cell_type": "code",
   "execution_count": 24,
   "id": "e0e76cbf",
   "metadata": {},
   "outputs": [],
   "source": [
    "sql = '''select \n",
    "t.checking_account,\n",
    "coalesce(t.checking_account,'no_info')\n",
    "from german_credit t\n",
    "'''"
   ]
  },
  {
   "cell_type": "code",
   "execution_count": 25,
   "id": "3554f947",
   "metadata": {},
   "outputs": [
    {
     "data": {
      "text/html": [
       "<div>\n",
       "<style scoped>\n",
       "    .dataframe tbody tr th:only-of-type {\n",
       "        vertical-align: middle;\n",
       "    }\n",
       "\n",
       "    .dataframe tbody tr th {\n",
       "        vertical-align: top;\n",
       "    }\n",
       "\n",
       "    .dataframe thead th {\n",
       "        text-align: right;\n",
       "    }\n",
       "</style>\n",
       "<table border=\"1\" class=\"dataframe\">\n",
       "  <thead>\n",
       "    <tr style=\"text-align: right;\">\n",
       "      <th></th>\n",
       "      <th>checking_account</th>\n",
       "      <th></th>\n",
       "    </tr>\n",
       "  </thead>\n",
       "  <tbody>\n",
       "    <tr>\n",
       "      <th>0</th>\n",
       "      <td>None</td>\n",
       "      <td>no_info</td>\n",
       "    </tr>\n",
       "    <tr>\n",
       "      <th>1</th>\n",
       "      <td>little</td>\n",
       "      <td>little</td>\n",
       "    </tr>\n",
       "    <tr>\n",
       "      <th>2</th>\n",
       "      <td>None</td>\n",
       "      <td>no_info</td>\n",
       "    </tr>\n",
       "    <tr>\n",
       "      <th>3</th>\n",
       "      <td>None</td>\n",
       "      <td>no_info</td>\n",
       "    </tr>\n",
       "    <tr>\n",
       "      <th>4</th>\n",
       "      <td>None</td>\n",
       "      <td>no_info</td>\n",
       "    </tr>\n",
       "    <tr>\n",
       "      <th>...</th>\n",
       "      <td>...</td>\n",
       "      <td>...</td>\n",
       "    </tr>\n",
       "    <tr>\n",
       "      <th>995</th>\n",
       "      <td>little</td>\n",
       "      <td>little</td>\n",
       "    </tr>\n",
       "    <tr>\n",
       "      <th>996</th>\n",
       "      <td>moderate</td>\n",
       "      <td>moderate</td>\n",
       "    </tr>\n",
       "    <tr>\n",
       "      <th>997</th>\n",
       "      <td>moderate</td>\n",
       "      <td>moderate</td>\n",
       "    </tr>\n",
       "    <tr>\n",
       "      <th>998</th>\n",
       "      <td>None</td>\n",
       "      <td>no_info</td>\n",
       "    </tr>\n",
       "    <tr>\n",
       "      <th>999</th>\n",
       "      <td>moderate</td>\n",
       "      <td>moderate</td>\n",
       "    </tr>\n",
       "  </tbody>\n",
       "</table>\n",
       "<p>1000 rows × 2 columns</p>\n",
       "</div>"
      ],
      "text/plain": [
       "    checking_account          \n",
       "0               None   no_info\n",
       "1             little    little\n",
       "2               None   no_info\n",
       "3               None   no_info\n",
       "4               None   no_info\n",
       "..               ...       ...\n",
       "995           little    little\n",
       "996         moderate  moderate\n",
       "997         moderate  moderate\n",
       "998             None   no_info\n",
       "999         moderate  moderate\n",
       "\n",
       "[1000 rows x 2 columns]"
      ]
     },
     "execution_count": 25,
     "metadata": {},
     "output_type": "execute_result"
    }
   ],
   "source": [
    "select(sql)"
   ]
  },
  {
   "cell_type": "markdown",
   "id": "538252f0",
   "metadata": {},
   "source": [
    "### coalesce:"
   ]
  },
  {
   "cell_type": "code",
   "execution_count": 26,
   "id": "2cce2a06",
   "metadata": {},
   "outputs": [],
   "source": [
    "t = pd.DataFrame({'col1':[1,np.nan,2],\n",
    "                  'col2':[np.nan,np.nan,1],\n",
    "                  'col3':[1,2,3]})\n",
    "t = t.replace({np.nan:None})\n",
    "# t"
   ]
  },
  {
   "cell_type": "code",
   "execution_count": 27,
   "id": "dfaa1b39",
   "metadata": {},
   "outputs": [
    {
     "data": {
      "text/html": [
       "<div>\n",
       "<style scoped>\n",
       "    .dataframe tbody tr th:only-of-type {\n",
       "        vertical-align: middle;\n",
       "    }\n",
       "\n",
       "    .dataframe tbody tr th {\n",
       "        vertical-align: top;\n",
       "    }\n",
       "\n",
       "    .dataframe thead th {\n",
       "        text-align: right;\n",
       "    }\n",
       "</style>\n",
       "<table border=\"1\" class=\"dataframe\">\n",
       "  <thead>\n",
       "    <tr style=\"text-align: right;\">\n",
       "      <th></th>\n",
       "      <th>col1</th>\n",
       "      <th>col2</th>\n",
       "      <th>col3</th>\n",
       "    </tr>\n",
       "  </thead>\n",
       "  <tbody>\n",
       "    <tr>\n",
       "      <th>0</th>\n",
       "      <td>1.0</td>\n",
       "      <td>NaN</td>\n",
       "      <td>1</td>\n",
       "    </tr>\n",
       "    <tr>\n",
       "      <th>1</th>\n",
       "      <td>NaN</td>\n",
       "      <td>NaN</td>\n",
       "      <td>2</td>\n",
       "    </tr>\n",
       "    <tr>\n",
       "      <th>2</th>\n",
       "      <td>2.0</td>\n",
       "      <td>1.0</td>\n",
       "      <td>3</td>\n",
       "    </tr>\n",
       "  </tbody>\n",
       "</table>\n",
       "</div>"
      ],
      "text/plain": [
       "   col1  col2  col3\n",
       "0   1.0   NaN     1\n",
       "1   NaN   NaN     2\n",
       "2   2.0   1.0     3"
      ]
     },
     "execution_count": 27,
     "metadata": {},
     "output_type": "execute_result"
    }
   ],
   "source": [
    "cur = conn.cursor()\n",
    "sql = '''\n",
    "drop table if exists null_test;\n",
    "CREATE TABLE null_test (\n",
    "    col1        INTEGER,\n",
    "    col2        INTEGER,\n",
    "    col3        INTEGER\n",
    ");\n",
    "'''\n",
    "cur.execute(sql)\n",
    "conn.commit()\n",
    "\n",
    "for index,row in t.iterrows():\n",
    "    cur.execute('''INSERT INTO null_test(\n",
    "                    [col1],[col2],[col3]\n",
    "                    ) \n",
    "                    values (?,?,?)\n",
    "    ''', \n",
    "                row['col1'], \n",
    "                row['col2'], \n",
    "                row['col3'],\n",
    "               )\n",
    "    \n",
    "conn.commit()\n",
    "cur.close()\n",
    "\n",
    "sql = '''select * from null_test t'''\n",
    "select(sql)"
   ]
  },
  {
   "cell_type": "code",
   "execution_count": 28,
   "id": "8578708d",
   "metadata": {},
   "outputs": [],
   "source": [
    "sql = '''select t.*, \n",
    "coalesce(t.col1, t.col2, t.col3) as res\n",
    "from null_test t\n",
    "'''"
   ]
  },
  {
   "cell_type": "code",
   "execution_count": 29,
   "id": "d8b27b0e",
   "metadata": {},
   "outputs": [
    {
     "data": {
      "text/html": [
       "<div>\n",
       "<style scoped>\n",
       "    .dataframe tbody tr th:only-of-type {\n",
       "        vertical-align: middle;\n",
       "    }\n",
       "\n",
       "    .dataframe tbody tr th {\n",
       "        vertical-align: top;\n",
       "    }\n",
       "\n",
       "    .dataframe thead th {\n",
       "        text-align: right;\n",
       "    }\n",
       "</style>\n",
       "<table border=\"1\" class=\"dataframe\">\n",
       "  <thead>\n",
       "    <tr style=\"text-align: right;\">\n",
       "      <th></th>\n",
       "      <th>col1</th>\n",
       "      <th>col2</th>\n",
       "      <th>col3</th>\n",
       "      <th>res</th>\n",
       "    </tr>\n",
       "  </thead>\n",
       "  <tbody>\n",
       "    <tr>\n",
       "      <th>0</th>\n",
       "      <td>1.0</td>\n",
       "      <td>NaN</td>\n",
       "      <td>1</td>\n",
       "      <td>1</td>\n",
       "    </tr>\n",
       "    <tr>\n",
       "      <th>1</th>\n",
       "      <td>NaN</td>\n",
       "      <td>NaN</td>\n",
       "      <td>2</td>\n",
       "      <td>2</td>\n",
       "    </tr>\n",
       "    <tr>\n",
       "      <th>2</th>\n",
       "      <td>2.0</td>\n",
       "      <td>1.0</td>\n",
       "      <td>3</td>\n",
       "      <td>2</td>\n",
       "    </tr>\n",
       "  </tbody>\n",
       "</table>\n",
       "</div>"
      ],
      "text/plain": [
       "   col1  col2  col3  res\n",
       "0   1.0   NaN     1    1\n",
       "1   NaN   NaN     2    2\n",
       "2   2.0   1.0     3    2"
      ]
     },
     "execution_count": 29,
     "metadata": {},
     "output_type": "execute_result"
    }
   ],
   "source": [
    "select(sql)"
   ]
  },
  {
   "cell_type": "markdown",
   "id": "1dc009b5",
   "metadata": {},
   "source": [
    "## 3. Дубликаты"
   ]
  },
  {
   "cell_type": "code",
   "execution_count": 30,
   "id": "5b452424",
   "metadata": {},
   "outputs": [],
   "source": [
    "t = pd.DataFrame({'id':[1,1,2],'name':['a','a','b']})\n",
    "# t"
   ]
  },
  {
   "cell_type": "code",
   "execution_count": 31,
   "id": "27007967",
   "metadata": {},
   "outputs": [
    {
     "data": {
      "text/html": [
       "<div>\n",
       "<style scoped>\n",
       "    .dataframe tbody tr th:only-of-type {\n",
       "        vertical-align: middle;\n",
       "    }\n",
       "\n",
       "    .dataframe tbody tr th {\n",
       "        vertical-align: top;\n",
       "    }\n",
       "\n",
       "    .dataframe thead th {\n",
       "        text-align: right;\n",
       "    }\n",
       "</style>\n",
       "<table border=\"1\" class=\"dataframe\">\n",
       "  <thead>\n",
       "    <tr style=\"text-align: right;\">\n",
       "      <th></th>\n",
       "      <th>id</th>\n",
       "      <th>name</th>\n",
       "    </tr>\n",
       "  </thead>\n",
       "  <tbody>\n",
       "    <tr>\n",
       "      <th>0</th>\n",
       "      <td>1</td>\n",
       "      <td>a</td>\n",
       "    </tr>\n",
       "    <tr>\n",
       "      <th>1</th>\n",
       "      <td>1</td>\n",
       "      <td>a</td>\n",
       "    </tr>\n",
       "    <tr>\n",
       "      <th>2</th>\n",
       "      <td>2</td>\n",
       "      <td>b</td>\n",
       "    </tr>\n",
       "  </tbody>\n",
       "</table>\n",
       "</div>"
      ],
      "text/plain": [
       "   id name\n",
       "0   1    a\n",
       "1   1    a\n",
       "2   2    b"
      ]
     },
     "execution_count": 31,
     "metadata": {},
     "output_type": "execute_result"
    }
   ],
   "source": [
    "cur = conn.cursor()\n",
    "sql = '''\n",
    "drop table if exists dupl_test;\n",
    "CREATE TABLE dupl_test (\n",
    "    id        INTEGER,\n",
    "    name      VARCHAR(max)\n",
    ");\n",
    "'''\n",
    "cur.execute(sql)\n",
    "conn.commit()\n",
    "\n",
    "for index,row in t.iterrows():\n",
    "    cur.execute('''INSERT INTO dupl_test(\n",
    "                    [id],[name]\n",
    "                    ) \n",
    "                    values (?,?)\n",
    "    ''', \n",
    "                row['id'], \n",
    "                row['name']\n",
    "               )\n",
    "    \n",
    "conn.commit()\n",
    "cur.close()\n",
    "\n",
    "sql = '''select * from dupl_test t'''\n",
    "select(sql)"
   ]
  },
  {
   "cell_type": "markdown",
   "id": "ef17ebd0",
   "metadata": {},
   "source": [
    "### группируем на все поля и посчитаем строки:"
   ]
  },
  {
   "cell_type": "code",
   "execution_count": 32,
   "id": "b7593809",
   "metadata": {},
   "outputs": [],
   "source": [
    "sql = '''select \n",
    "t.id, t.name, \n",
    "count(1) as cnt \n",
    "from dupl_test t\n",
    "group by t.id, t.name\n",
    "'''"
   ]
  },
  {
   "cell_type": "code",
   "execution_count": 33,
   "id": "2df37820",
   "metadata": {},
   "outputs": [
    {
     "data": {
      "text/html": [
       "<div>\n",
       "<style scoped>\n",
       "    .dataframe tbody tr th:only-of-type {\n",
       "        vertical-align: middle;\n",
       "    }\n",
       "\n",
       "    .dataframe tbody tr th {\n",
       "        vertical-align: top;\n",
       "    }\n",
       "\n",
       "    .dataframe thead th {\n",
       "        text-align: right;\n",
       "    }\n",
       "</style>\n",
       "<table border=\"1\" class=\"dataframe\">\n",
       "  <thead>\n",
       "    <tr style=\"text-align: right;\">\n",
       "      <th></th>\n",
       "      <th>id</th>\n",
       "      <th>name</th>\n",
       "      <th>cnt</th>\n",
       "    </tr>\n",
       "  </thead>\n",
       "  <tbody>\n",
       "    <tr>\n",
       "      <th>0</th>\n",
       "      <td>1</td>\n",
       "      <td>a</td>\n",
       "      <td>2</td>\n",
       "    </tr>\n",
       "    <tr>\n",
       "      <th>1</th>\n",
       "      <td>2</td>\n",
       "      <td>b</td>\n",
       "      <td>1</td>\n",
       "    </tr>\n",
       "  </tbody>\n",
       "</table>\n",
       "</div>"
      ],
      "text/plain": [
       "   id name  cnt\n",
       "0   1    a    2\n",
       "1   2    b    1"
      ]
     },
     "execution_count": 33,
     "metadata": {},
     "output_type": "execute_result"
    }
   ],
   "source": [
    "select(sql)"
   ]
  },
  {
   "cell_type": "code",
   "execution_count": 34,
   "id": "9b41b591",
   "metadata": {},
   "outputs": [],
   "source": [
    "sql = '''select t.id, t.name, \n",
    "count(1) as cnt \n",
    "from dupl_test t\n",
    "group by t.id, t.name\n",
    "having count(1) > 1\n",
    "'''"
   ]
  },
  {
   "cell_type": "code",
   "execution_count": 35,
   "id": "f5dd09cc",
   "metadata": {},
   "outputs": [
    {
     "data": {
      "text/html": [
       "<div>\n",
       "<style scoped>\n",
       "    .dataframe tbody tr th:only-of-type {\n",
       "        vertical-align: middle;\n",
       "    }\n",
       "\n",
       "    .dataframe tbody tr th {\n",
       "        vertical-align: top;\n",
       "    }\n",
       "\n",
       "    .dataframe thead th {\n",
       "        text-align: right;\n",
       "    }\n",
       "</style>\n",
       "<table border=\"1\" class=\"dataframe\">\n",
       "  <thead>\n",
       "    <tr style=\"text-align: right;\">\n",
       "      <th></th>\n",
       "      <th>id</th>\n",
       "      <th>name</th>\n",
       "      <th>cnt</th>\n",
       "    </tr>\n",
       "  </thead>\n",
       "  <tbody>\n",
       "    <tr>\n",
       "      <th>0</th>\n",
       "      <td>1</td>\n",
       "      <td>a</td>\n",
       "      <td>2</td>\n",
       "    </tr>\n",
       "  </tbody>\n",
       "</table>\n",
       "</div>"
      ],
      "text/plain": [
       "   id name  cnt\n",
       "0   1    a    2"
      ]
     },
     "execution_count": 35,
     "metadata": {},
     "output_type": "execute_result"
    }
   ],
   "source": [
    "select(sql)"
   ]
  },
  {
   "cell_type": "markdown",
   "id": "9917617b",
   "metadata": {},
   "source": [
    "### дубликат Id:"
   ]
  },
  {
   "cell_type": "code",
   "execution_count": 36,
   "id": "facf3db6",
   "metadata": {},
   "outputs": [],
   "source": [
    "t = pd.DataFrame({'id':[1,1,2,2,3],\n",
    "                  'name':['a','b','c','d','e']})\n",
    "# t"
   ]
  },
  {
   "cell_type": "code",
   "execution_count": 37,
   "id": "3c5dc33f",
   "metadata": {},
   "outputs": [
    {
     "data": {
      "text/html": [
       "<div>\n",
       "<style scoped>\n",
       "    .dataframe tbody tr th:only-of-type {\n",
       "        vertical-align: middle;\n",
       "    }\n",
       "\n",
       "    .dataframe tbody tr th {\n",
       "        vertical-align: top;\n",
       "    }\n",
       "\n",
       "    .dataframe thead th {\n",
       "        text-align: right;\n",
       "    }\n",
       "</style>\n",
       "<table border=\"1\" class=\"dataframe\">\n",
       "  <thead>\n",
       "    <tr style=\"text-align: right;\">\n",
       "      <th></th>\n",
       "      <th>id</th>\n",
       "      <th>name</th>\n",
       "    </tr>\n",
       "  </thead>\n",
       "  <tbody>\n",
       "    <tr>\n",
       "      <th>0</th>\n",
       "      <td>1</td>\n",
       "      <td>a</td>\n",
       "    </tr>\n",
       "    <tr>\n",
       "      <th>1</th>\n",
       "      <td>1</td>\n",
       "      <td>b</td>\n",
       "    </tr>\n",
       "    <tr>\n",
       "      <th>2</th>\n",
       "      <td>2</td>\n",
       "      <td>c</td>\n",
       "    </tr>\n",
       "    <tr>\n",
       "      <th>3</th>\n",
       "      <td>2</td>\n",
       "      <td>d</td>\n",
       "    </tr>\n",
       "    <tr>\n",
       "      <th>4</th>\n",
       "      <td>3</td>\n",
       "      <td>e</td>\n",
       "    </tr>\n",
       "  </tbody>\n",
       "</table>\n",
       "</div>"
      ],
      "text/plain": [
       "   id name\n",
       "0   1    a\n",
       "1   1    b\n",
       "2   2    c\n",
       "3   2    d\n",
       "4   3    e"
      ]
     },
     "execution_count": 37,
     "metadata": {},
     "output_type": "execute_result"
    }
   ],
   "source": [
    "cur = conn.cursor()\n",
    "sql = '''\n",
    "drop table if exists dupl_test;\n",
    "CREATE TABLE dupl_test (\n",
    "    id        INTEGER,\n",
    "    name      VARCHAR(max)\n",
    ");\n",
    "'''\n",
    "cur.execute(sql)\n",
    "conn.commit()\n",
    "\n",
    "for index,row in t.iterrows():\n",
    "    cur.execute('''INSERT INTO dupl_test(\n",
    "                    [id],[name]\n",
    "                    ) \n",
    "                    values (?,?)\n",
    "    ''', \n",
    "                row['id'], \n",
    "                row['name']\n",
    "               )\n",
    "    \n",
    "conn.commit()\n",
    "cur.close()\n",
    "\n",
    "sql = '''select * from dupl_test t'''\n",
    "select(sql)"
   ]
  },
  {
   "cell_type": "code",
   "execution_count": 38,
   "id": "a75a9250",
   "metadata": {},
   "outputs": [],
   "source": [
    "sql = '''select t.id, \n",
    "count(1) as cnt from dupl_test t\n",
    "group by t.id\n",
    "having count(1) > 1\n",
    "'''"
   ]
  },
  {
   "cell_type": "code",
   "execution_count": 39,
   "id": "ec962959",
   "metadata": {},
   "outputs": [
    {
     "data": {
      "text/html": [
       "<div>\n",
       "<style scoped>\n",
       "    .dataframe tbody tr th:only-of-type {\n",
       "        vertical-align: middle;\n",
       "    }\n",
       "\n",
       "    .dataframe tbody tr th {\n",
       "        vertical-align: top;\n",
       "    }\n",
       "\n",
       "    .dataframe thead th {\n",
       "        text-align: right;\n",
       "    }\n",
       "</style>\n",
       "<table border=\"1\" class=\"dataframe\">\n",
       "  <thead>\n",
       "    <tr style=\"text-align: right;\">\n",
       "      <th></th>\n",
       "      <th>id</th>\n",
       "      <th>cnt</th>\n",
       "    </tr>\n",
       "  </thead>\n",
       "  <tbody>\n",
       "    <tr>\n",
       "      <th>0</th>\n",
       "      <td>1</td>\n",
       "      <td>2</td>\n",
       "    </tr>\n",
       "    <tr>\n",
       "      <th>1</th>\n",
       "      <td>2</td>\n",
       "      <td>2</td>\n",
       "    </tr>\n",
       "  </tbody>\n",
       "</table>\n",
       "</div>"
      ],
      "text/plain": [
       "   id  cnt\n",
       "0   1    2\n",
       "1   2    2"
      ]
     },
     "execution_count": 39,
     "metadata": {},
     "output_type": "execute_result"
    }
   ],
   "source": [
    "select(sql)"
   ]
  },
  {
   "cell_type": "code",
   "execution_count": null,
   "id": "4b21260b",
   "metadata": {},
   "outputs": [],
   "source": [
    "sql = '''\n",
    "select * from dupl_test t\n",
    "where t.id in (1,2)\n",
    "'''"
   ]
  },
  {
   "cell_type": "code",
   "execution_count": null,
   "id": "6e6135fa",
   "metadata": {},
   "outputs": [],
   "source": [
    "select(sql)"
   ]
  },
  {
   "cell_type": "markdown",
   "id": "9cd89ce0",
   "metadata": {},
   "source": [
    "#### Используя подзапросы:"
   ]
  },
  {
   "cell_type": "code",
   "execution_count": 40,
   "id": "d9502bf9",
   "metadata": {},
   "outputs": [],
   "source": [
    "sql = '''select \n",
    "t.id as cnt \n",
    "from dupl_test t\n",
    "group by t.id\n",
    "having count(1) > 1\n",
    "'''"
   ]
  },
  {
   "cell_type": "code",
   "execution_count": 41,
   "id": "d20501e0",
   "metadata": {},
   "outputs": [
    {
     "data": {
      "text/html": [
       "<div>\n",
       "<style scoped>\n",
       "    .dataframe tbody tr th:only-of-type {\n",
       "        vertical-align: middle;\n",
       "    }\n",
       "\n",
       "    .dataframe tbody tr th {\n",
       "        vertical-align: top;\n",
       "    }\n",
       "\n",
       "    .dataframe thead th {\n",
       "        text-align: right;\n",
       "    }\n",
       "</style>\n",
       "<table border=\"1\" class=\"dataframe\">\n",
       "  <thead>\n",
       "    <tr style=\"text-align: right;\">\n",
       "      <th></th>\n",
       "      <th>cnt</th>\n",
       "    </tr>\n",
       "  </thead>\n",
       "  <tbody>\n",
       "    <tr>\n",
       "      <th>0</th>\n",
       "      <td>1</td>\n",
       "    </tr>\n",
       "    <tr>\n",
       "      <th>1</th>\n",
       "      <td>2</td>\n",
       "    </tr>\n",
       "  </tbody>\n",
       "</table>\n",
       "</div>"
      ],
      "text/plain": [
       "   cnt\n",
       "0    1\n",
       "1    2"
      ]
     },
     "execution_count": 41,
     "metadata": {},
     "output_type": "execute_result"
    }
   ],
   "source": [
    "select(sql)"
   ]
  },
  {
   "cell_type": "code",
   "execution_count": 42,
   "id": "ca34aef1",
   "metadata": {},
   "outputs": [],
   "source": [
    "sql = '''select * \n",
    "from dupl_test t\n",
    "where t.id in (\n",
    "    select t.id as cnt from dupl_test t\n",
    "    group by t.id\n",
    "    having count(1) > 1\n",
    ")\n",
    "'''"
   ]
  },
  {
   "cell_type": "code",
   "execution_count": 43,
   "id": "01de2320",
   "metadata": {},
   "outputs": [
    {
     "data": {
      "text/html": [
       "<div>\n",
       "<style scoped>\n",
       "    .dataframe tbody tr th:only-of-type {\n",
       "        vertical-align: middle;\n",
       "    }\n",
       "\n",
       "    .dataframe tbody tr th {\n",
       "        vertical-align: top;\n",
       "    }\n",
       "\n",
       "    .dataframe thead th {\n",
       "        text-align: right;\n",
       "    }\n",
       "</style>\n",
       "<table border=\"1\" class=\"dataframe\">\n",
       "  <thead>\n",
       "    <tr style=\"text-align: right;\">\n",
       "      <th></th>\n",
       "      <th>id</th>\n",
       "      <th>name</th>\n",
       "    </tr>\n",
       "  </thead>\n",
       "  <tbody>\n",
       "    <tr>\n",
       "      <th>0</th>\n",
       "      <td>1</td>\n",
       "      <td>a</td>\n",
       "    </tr>\n",
       "    <tr>\n",
       "      <th>1</th>\n",
       "      <td>1</td>\n",
       "      <td>b</td>\n",
       "    </tr>\n",
       "    <tr>\n",
       "      <th>2</th>\n",
       "      <td>2</td>\n",
       "      <td>c</td>\n",
       "    </tr>\n",
       "    <tr>\n",
       "      <th>3</th>\n",
       "      <td>2</td>\n",
       "      <td>d</td>\n",
       "    </tr>\n",
       "  </tbody>\n",
       "</table>\n",
       "</div>"
      ],
      "text/plain": [
       "   id name\n",
       "0   1    a\n",
       "1   1    b\n",
       "2   2    c\n",
       "3   2    d"
      ]
     },
     "execution_count": 43,
     "metadata": {},
     "output_type": "execute_result"
    }
   ],
   "source": [
    "select(sql)"
   ]
  },
  {
   "cell_type": "markdown",
   "id": "01fc04f7",
   "metadata": {},
   "source": [
    "## 4. Агрегация"
   ]
  },
  {
   "cell_type": "code",
   "execution_count": 44,
   "id": "029b7f72",
   "metadata": {},
   "outputs": [],
   "source": [
    "sql = '''select \n",
    "year(t.contract_dt) as year,  month(t.contract_dt) as month,\n",
    "\n",
    "count(1) as credit_cnt,\n",
    "count(distinct t.client_id) as client_id_unique,\n",
    "sum(t.credit_amount) as credit_amount_sum,\n",
    "avg(t.credit_amount * 1.0) as credit_amount_avg\n",
    "\n",
    "from german_credit t\n",
    "group by year(t.contract_dt),  month(t.contract_dt)\n",
    "order by year(t.contract_dt),  month(t.contract_dt)\n",
    "'''"
   ]
  },
  {
   "cell_type": "code",
   "execution_count": 45,
   "id": "d05953f1",
   "metadata": {},
   "outputs": [
    {
     "data": {
      "text/html": [
       "<div>\n",
       "<style scoped>\n",
       "    .dataframe tbody tr th:only-of-type {\n",
       "        vertical-align: middle;\n",
       "    }\n",
       "\n",
       "    .dataframe tbody tr th {\n",
       "        vertical-align: top;\n",
       "    }\n",
       "\n",
       "    .dataframe thead th {\n",
       "        text-align: right;\n",
       "    }\n",
       "</style>\n",
       "<table border=\"1\" class=\"dataframe\">\n",
       "  <thead>\n",
       "    <tr style=\"text-align: right;\">\n",
       "      <th></th>\n",
       "      <th>year</th>\n",
       "      <th>month</th>\n",
       "      <th>credit_cnt</th>\n",
       "      <th>client_id_unique</th>\n",
       "      <th>credit_amount_sum</th>\n",
       "      <th>credit_amount_avg</th>\n",
       "    </tr>\n",
       "  </thead>\n",
       "  <tbody>\n",
       "    <tr>\n",
       "      <th>0</th>\n",
       "      <td>2007</td>\n",
       "      <td>5</td>\n",
       "      <td>81</td>\n",
       "      <td>81</td>\n",
       "      <td>207663</td>\n",
       "      <td>2563.740740</td>\n",
       "    </tr>\n",
       "    <tr>\n",
       "      <th>1</th>\n",
       "      <td>2007</td>\n",
       "      <td>6</td>\n",
       "      <td>74</td>\n",
       "      <td>74</td>\n",
       "      <td>239594</td>\n",
       "      <td>3237.756756</td>\n",
       "    </tr>\n",
       "    <tr>\n",
       "      <th>2</th>\n",
       "      <td>2007</td>\n",
       "      <td>7</td>\n",
       "      <td>71</td>\n",
       "      <td>71</td>\n",
       "      <td>224333</td>\n",
       "      <td>3159.619718</td>\n",
       "    </tr>\n",
       "    <tr>\n",
       "      <th>3</th>\n",
       "      <td>2007</td>\n",
       "      <td>8</td>\n",
       "      <td>57</td>\n",
       "      <td>57</td>\n",
       "      <td>178569</td>\n",
       "      <td>3132.789473</td>\n",
       "    </tr>\n",
       "    <tr>\n",
       "      <th>4</th>\n",
       "      <td>2007</td>\n",
       "      <td>9</td>\n",
       "      <td>58</td>\n",
       "      <td>58</td>\n",
       "      <td>186909</td>\n",
       "      <td>3222.568965</td>\n",
       "    </tr>\n",
       "    <tr>\n",
       "      <th>5</th>\n",
       "      <td>2007</td>\n",
       "      <td>10</td>\n",
       "      <td>70</td>\n",
       "      <td>70</td>\n",
       "      <td>188534</td>\n",
       "      <td>2693.342857</td>\n",
       "    </tr>\n",
       "    <tr>\n",
       "      <th>6</th>\n",
       "      <td>2007</td>\n",
       "      <td>11</td>\n",
       "      <td>87</td>\n",
       "      <td>87</td>\n",
       "      <td>300504</td>\n",
       "      <td>3454.068965</td>\n",
       "    </tr>\n",
       "    <tr>\n",
       "      <th>7</th>\n",
       "      <td>2007</td>\n",
       "      <td>12</td>\n",
       "      <td>77</td>\n",
       "      <td>77</td>\n",
       "      <td>273973</td>\n",
       "      <td>3558.090909</td>\n",
       "    </tr>\n",
       "    <tr>\n",
       "      <th>8</th>\n",
       "      <td>2008</td>\n",
       "      <td>1</td>\n",
       "      <td>93</td>\n",
       "      <td>93</td>\n",
       "      <td>288080</td>\n",
       "      <td>3097.634408</td>\n",
       "    </tr>\n",
       "    <tr>\n",
       "      <th>9</th>\n",
       "      <td>2008</td>\n",
       "      <td>2</td>\n",
       "      <td>55</td>\n",
       "      <td>55</td>\n",
       "      <td>211128</td>\n",
       "      <td>3838.690909</td>\n",
       "    </tr>\n",
       "    <tr>\n",
       "      <th>10</th>\n",
       "      <td>2008</td>\n",
       "      <td>3</td>\n",
       "      <td>63</td>\n",
       "      <td>63</td>\n",
       "      <td>204944</td>\n",
       "      <td>3253.079365</td>\n",
       "    </tr>\n",
       "    <tr>\n",
       "      <th>11</th>\n",
       "      <td>2008</td>\n",
       "      <td>4</td>\n",
       "      <td>85</td>\n",
       "      <td>85</td>\n",
       "      <td>305409</td>\n",
       "      <td>3593.047058</td>\n",
       "    </tr>\n",
       "    <tr>\n",
       "      <th>12</th>\n",
       "      <td>2008</td>\n",
       "      <td>5</td>\n",
       "      <td>67</td>\n",
       "      <td>67</td>\n",
       "      <td>263043</td>\n",
       "      <td>3926.014925</td>\n",
       "    </tr>\n",
       "    <tr>\n",
       "      <th>13</th>\n",
       "      <td>2008</td>\n",
       "      <td>6</td>\n",
       "      <td>62</td>\n",
       "      <td>62</td>\n",
       "      <td>198575</td>\n",
       "      <td>3202.822580</td>\n",
       "    </tr>\n",
       "  </tbody>\n",
       "</table>\n",
       "</div>"
      ],
      "text/plain": [
       "    year  month  credit_cnt  client_id_unique  credit_amount_sum  \\\n",
       "0   2007      5          81                81             207663   \n",
       "1   2007      6          74                74             239594   \n",
       "2   2007      7          71                71             224333   \n",
       "3   2007      8          57                57             178569   \n",
       "4   2007      9          58                58             186909   \n",
       "5   2007     10          70                70             188534   \n",
       "6   2007     11          87                87             300504   \n",
       "7   2007     12          77                77             273973   \n",
       "8   2008      1          93                93             288080   \n",
       "9   2008      2          55                55             211128   \n",
       "10  2008      3          63                63             204944   \n",
       "11  2008      4          85                85             305409   \n",
       "12  2008      5          67                67             263043   \n",
       "13  2008      6          62                62             198575   \n",
       "\n",
       "    credit_amount_avg  \n",
       "0         2563.740740  \n",
       "1         3237.756756  \n",
       "2         3159.619718  \n",
       "3         3132.789473  \n",
       "4         3222.568965  \n",
       "5         2693.342857  \n",
       "6         3454.068965  \n",
       "7         3558.090909  \n",
       "8         3097.634408  \n",
       "9         3838.690909  \n",
       "10        3253.079365  \n",
       "11        3593.047058  \n",
       "12        3926.014925  \n",
       "13        3202.822580  "
      ]
     },
     "execution_count": 45,
     "metadata": {},
     "output_type": "execute_result"
    }
   ],
   "source": [
    "select(sql)"
   ]
  },
  {
   "cell_type": "markdown",
   "id": "2d9091bf",
   "metadata": {},
   "source": [
    "## 5. Создание интервалов (или бинов или бакетов)"
   ]
  },
  {
   "cell_type": "markdown",
   "id": "9ac606f5",
   "metadata": {},
   "source": [
    "#### Уникальные значения:"
   ]
  },
  {
   "cell_type": "code",
   "execution_count": 46,
   "id": "666ecae7",
   "metadata": {},
   "outputs": [],
   "source": [
    "sql = '''select \n",
    "count(distinct t.credit_amount) \n",
    "from german_credit t\n",
    "'''"
   ]
  },
  {
   "cell_type": "code",
   "execution_count": 47,
   "id": "60f6374e",
   "metadata": {},
   "outputs": [
    {
     "data": {
      "text/html": [
       "<div>\n",
       "<style scoped>\n",
       "    .dataframe tbody tr th:only-of-type {\n",
       "        vertical-align: middle;\n",
       "    }\n",
       "\n",
       "    .dataframe tbody tr th {\n",
       "        vertical-align: top;\n",
       "    }\n",
       "\n",
       "    .dataframe thead th {\n",
       "        text-align: right;\n",
       "    }\n",
       "</style>\n",
       "<table border=\"1\" class=\"dataframe\">\n",
       "  <thead>\n",
       "    <tr style=\"text-align: right;\">\n",
       "      <th></th>\n",
       "      <th></th>\n",
       "    </tr>\n",
       "  </thead>\n",
       "  <tbody>\n",
       "    <tr>\n",
       "      <th>0</th>\n",
       "      <td>921</td>\n",
       "    </tr>\n",
       "  </tbody>\n",
       "</table>\n",
       "</div>"
      ],
      "text/plain": [
       "      \n",
       "0  921"
      ]
     },
     "execution_count": 47,
     "metadata": {},
     "output_type": "execute_result"
    }
   ],
   "source": [
    "select(sql)"
   ]
  },
  {
   "cell_type": "markdown",
   "id": "52211dc6",
   "metadata": {},
   "source": [
    "#### Введём диапозоны:"
   ]
  },
  {
   "cell_type": "code",
   "execution_count": 48,
   "id": "1edf23f3",
   "metadata": {},
   "outputs": [],
   "source": [
    "sql = '''select t.credit_amount,\n",
    "\n",
    "case when t.credit_amount < 1000 then '1. <1000'\n",
    "when t.credit_amount < 2000 then '2. 1000-2000' \n",
    "when t.credit_amount < 3000 then '3. 2000-3000'\n",
    "when t.credit_amount >= 3000 then '4. >= 3000'\n",
    "else 'other' end as credit_amount_bin\n",
    "\n",
    "from german_credit t\n",
    "'''"
   ]
  },
  {
   "cell_type": "code",
   "execution_count": 49,
   "id": "bc9d3d8c",
   "metadata": {},
   "outputs": [
    {
     "data": {
      "text/html": [
       "<div>\n",
       "<style scoped>\n",
       "    .dataframe tbody tr th:only-of-type {\n",
       "        vertical-align: middle;\n",
       "    }\n",
       "\n",
       "    .dataframe tbody tr th {\n",
       "        vertical-align: top;\n",
       "    }\n",
       "\n",
       "    .dataframe thead th {\n",
       "        text-align: right;\n",
       "    }\n",
       "</style>\n",
       "<table border=\"1\" class=\"dataframe\">\n",
       "  <thead>\n",
       "    <tr style=\"text-align: right;\">\n",
       "      <th></th>\n",
       "      <th>credit_amount</th>\n",
       "      <th>credit_amount_bin</th>\n",
       "    </tr>\n",
       "  </thead>\n",
       "  <tbody>\n",
       "    <tr>\n",
       "      <th>0</th>\n",
       "      <td>3074</td>\n",
       "      <td>4. &gt;= 3000</td>\n",
       "    </tr>\n",
       "    <tr>\n",
       "      <th>1</th>\n",
       "      <td>1344</td>\n",
       "      <td>2. 1000-2000</td>\n",
       "    </tr>\n",
       "    <tr>\n",
       "      <th>2</th>\n",
       "      <td>936</td>\n",
       "      <td>1. &lt;1000</td>\n",
       "    </tr>\n",
       "    <tr>\n",
       "      <th>3</th>\n",
       "      <td>1393</td>\n",
       "      <td>2. 1000-2000</td>\n",
       "    </tr>\n",
       "    <tr>\n",
       "      <th>4</th>\n",
       "      <td>776</td>\n",
       "      <td>1. &lt;1000</td>\n",
       "    </tr>\n",
       "    <tr>\n",
       "      <th>...</th>\n",
       "      <td>...</td>\n",
       "      <td>...</td>\n",
       "    </tr>\n",
       "    <tr>\n",
       "      <th>995</th>\n",
       "      <td>2600</td>\n",
       "      <td>3. 2000-3000</td>\n",
       "    </tr>\n",
       "    <tr>\n",
       "      <th>996</th>\n",
       "      <td>4455</td>\n",
       "      <td>4. &gt;= 3000</td>\n",
       "    </tr>\n",
       "    <tr>\n",
       "      <th>997</th>\n",
       "      <td>6403</td>\n",
       "      <td>4. &gt;= 3000</td>\n",
       "    </tr>\n",
       "    <tr>\n",
       "      <th>998</th>\n",
       "      <td>5003</td>\n",
       "      <td>4. &gt;= 3000</td>\n",
       "    </tr>\n",
       "    <tr>\n",
       "      <th>999</th>\n",
       "      <td>1804</td>\n",
       "      <td>2. 1000-2000</td>\n",
       "    </tr>\n",
       "  </tbody>\n",
       "</table>\n",
       "<p>1000 rows × 2 columns</p>\n",
       "</div>"
      ],
      "text/plain": [
       "     credit_amount credit_amount_bin\n",
       "0             3074        4. >= 3000\n",
       "1             1344      2. 1000-2000\n",
       "2              936          1. <1000\n",
       "3             1393      2. 1000-2000\n",
       "4              776          1. <1000\n",
       "..             ...               ...\n",
       "995           2600      3. 2000-3000\n",
       "996           4455        4. >= 3000\n",
       "997           6403        4. >= 3000\n",
       "998           5003        4. >= 3000\n",
       "999           1804      2. 1000-2000\n",
       "\n",
       "[1000 rows x 2 columns]"
      ]
     },
     "execution_count": 49,
     "metadata": {},
     "output_type": "execute_result"
    }
   ],
   "source": [
    "select(sql)"
   ]
  },
  {
   "cell_type": "code",
   "execution_count": 50,
   "id": "45de99dc",
   "metadata": {},
   "outputs": [],
   "source": [
    "sql = '''select \n",
    "\n",
    "case \n",
    "when t.credit_amount < 1000 then '1. <1000'\n",
    "when t.credit_amount < 2000 then '2. 1000-2000' \n",
    "when t.credit_amount < 3000 then '3. 2000-3000'\n",
    "when t.credit_amount >= 3000 then '4. >= 3000'\n",
    "else 'other' end as credit_amount_bin,\n",
    "\n",
    "count(1) as credit_cnt\n",
    "\n",
    "from german_credit t\n",
    "\n",
    "group by case \n",
    "when t.credit_amount < 1000 then '1. <1000'\n",
    "when t.credit_amount < 2000 then '2. 1000-2000' \n",
    "when t.credit_amount < 3000 then '3. 2000-3000'\n",
    "when t.credit_amount >= 3000 then '4. >= 3000'\n",
    "else 'other' end\n",
    "\n",
    "order by case \n",
    "when t.credit_amount < 1000 then '1. <1000'\n",
    "when t.credit_amount < 2000 then '2. 1000-2000' \n",
    "when t.credit_amount < 3000 then '3. 2000-3000'\n",
    "when t.credit_amount >= 3000 then '4. >= 3000'\n",
    "else 'other' end\n",
    "'''"
   ]
  },
  {
   "cell_type": "code",
   "execution_count": 51,
   "id": "2ced5c7e",
   "metadata": {},
   "outputs": [
    {
     "data": {
      "text/html": [
       "<div>\n",
       "<style scoped>\n",
       "    .dataframe tbody tr th:only-of-type {\n",
       "        vertical-align: middle;\n",
       "    }\n",
       "\n",
       "    .dataframe tbody tr th {\n",
       "        vertical-align: top;\n",
       "    }\n",
       "\n",
       "    .dataframe thead th {\n",
       "        text-align: right;\n",
       "    }\n",
       "</style>\n",
       "<table border=\"1\" class=\"dataframe\">\n",
       "  <thead>\n",
       "    <tr style=\"text-align: right;\">\n",
       "      <th></th>\n",
       "      <th>credit_amount_bin</th>\n",
       "      <th>credit_cnt</th>\n",
       "    </tr>\n",
       "  </thead>\n",
       "  <tbody>\n",
       "    <tr>\n",
       "      <th>0</th>\n",
       "      <td>1. &lt;1000</td>\n",
       "      <td>116</td>\n",
       "    </tr>\n",
       "    <tr>\n",
       "      <th>1</th>\n",
       "      <td>2. 1000-2000</td>\n",
       "      <td>316</td>\n",
       "    </tr>\n",
       "    <tr>\n",
       "      <th>2</th>\n",
       "      <td>3. 2000-3000</td>\n",
       "      <td>188</td>\n",
       "    </tr>\n",
       "    <tr>\n",
       "      <th>3</th>\n",
       "      <td>4. &gt;= 3000</td>\n",
       "      <td>380</td>\n",
       "    </tr>\n",
       "  </tbody>\n",
       "</table>\n",
       "</div>"
      ],
      "text/plain": [
       "  credit_amount_bin  credit_cnt\n",
       "0          1. <1000         116\n",
       "1      2. 1000-2000         316\n",
       "2      3. 2000-3000         188\n",
       "3        4. >= 3000         380"
      ]
     },
     "execution_count": 51,
     "metadata": {},
     "output_type": "execute_result"
    }
   ],
   "source": [
    "select(sql)"
   ]
  },
  {
   "cell_type": "markdown",
   "id": "20140865",
   "metadata": {},
   "source": [
    "## 6. Переменные в столбцах сводной таблицы"
   ]
  },
  {
   "cell_type": "markdown",
   "id": "db574e20",
   "metadata": {},
   "source": [
    "### Pivot таблицы:"
   ]
  },
  {
   "cell_type": "code",
   "execution_count": 52,
   "id": "aa53d7ff",
   "metadata": {},
   "outputs": [],
   "source": [
    "sql = '''select \n",
    "t.housing, \n",
    "\n",
    "count(case when t.sex = 'female' then 1 else null end) as female,\n",
    "count(case when t.sex = 'male' then 1 else null end) as male,\n",
    "\n",
    "count(1) as cnt \n",
    "\n",
    "from german_credit t\n",
    "group  by t.housing\n",
    "'''"
   ]
  },
  {
   "cell_type": "code",
   "execution_count": 53,
   "id": "7cb446b8",
   "metadata": {},
   "outputs": [
    {
     "data": {
      "text/html": [
       "<div>\n",
       "<style scoped>\n",
       "    .dataframe tbody tr th:only-of-type {\n",
       "        vertical-align: middle;\n",
       "    }\n",
       "\n",
       "    .dataframe tbody tr th {\n",
       "        vertical-align: top;\n",
       "    }\n",
       "\n",
       "    .dataframe thead th {\n",
       "        text-align: right;\n",
       "    }\n",
       "</style>\n",
       "<table border=\"1\" class=\"dataframe\">\n",
       "  <thead>\n",
       "    <tr style=\"text-align: right;\">\n",
       "      <th></th>\n",
       "      <th>housing</th>\n",
       "      <th>female</th>\n",
       "      <th>male</th>\n",
       "      <th>cnt</th>\n",
       "    </tr>\n",
       "  </thead>\n",
       "  <tbody>\n",
       "    <tr>\n",
       "      <th>0</th>\n",
       "      <td>free</td>\n",
       "      <td>19</td>\n",
       "      <td>89</td>\n",
       "      <td>108</td>\n",
       "    </tr>\n",
       "    <tr>\n",
       "      <th>1</th>\n",
       "      <td>own</td>\n",
       "      <td>196</td>\n",
       "      <td>517</td>\n",
       "      <td>713</td>\n",
       "    </tr>\n",
       "    <tr>\n",
       "      <th>2</th>\n",
       "      <td>rent</td>\n",
       "      <td>95</td>\n",
       "      <td>84</td>\n",
       "      <td>179</td>\n",
       "    </tr>\n",
       "  </tbody>\n",
       "</table>\n",
       "</div>"
      ],
      "text/plain": [
       "  housing  female  male  cnt\n",
       "0    free      19    89  108\n",
       "1     own     196   517  713\n",
       "2    rent      95    84  179"
      ]
     },
     "execution_count": 53,
     "metadata": {},
     "output_type": "execute_result"
    }
   ],
   "source": [
    "select(sql)"
   ]
  },
  {
   "cell_type": "markdown",
   "id": "6279981f",
   "metadata": {},
   "source": [
    "#### автоматизируем в Python:"
   ]
  },
  {
   "cell_type": "code",
   "execution_count": 54,
   "id": "4f691fce",
   "metadata": {},
   "outputs": [],
   "source": [
    "sql = '''select distinct \n",
    "t.purpose \n",
    "from german_credit t\n",
    "'''"
   ]
  },
  {
   "cell_type": "code",
   "execution_count": 55,
   "id": "816266cf",
   "metadata": {},
   "outputs": [
    {
     "data": {
      "text/html": [
       "<div>\n",
       "<style scoped>\n",
       "    .dataframe tbody tr th:only-of-type {\n",
       "        vertical-align: middle;\n",
       "    }\n",
       "\n",
       "    .dataframe tbody tr th {\n",
       "        vertical-align: top;\n",
       "    }\n",
       "\n",
       "    .dataframe thead th {\n",
       "        text-align: right;\n",
       "    }\n",
       "</style>\n",
       "<table border=\"1\" class=\"dataframe\">\n",
       "  <thead>\n",
       "    <tr style=\"text-align: right;\">\n",
       "      <th></th>\n",
       "      <th>purpose</th>\n",
       "    </tr>\n",
       "  </thead>\n",
       "  <tbody>\n",
       "    <tr>\n",
       "      <th>0</th>\n",
       "      <td>business</td>\n",
       "    </tr>\n",
       "    <tr>\n",
       "      <th>1</th>\n",
       "      <td>car</td>\n",
       "    </tr>\n",
       "    <tr>\n",
       "      <th>2</th>\n",
       "      <td>domestic appliances</td>\n",
       "    </tr>\n",
       "    <tr>\n",
       "      <th>3</th>\n",
       "      <td>education</td>\n",
       "    </tr>\n",
       "    <tr>\n",
       "      <th>4</th>\n",
       "      <td>furniture/equipment</td>\n",
       "    </tr>\n",
       "    <tr>\n",
       "      <th>5</th>\n",
       "      <td>radio/TV</td>\n",
       "    </tr>\n",
       "    <tr>\n",
       "      <th>6</th>\n",
       "      <td>repairs</td>\n",
       "    </tr>\n",
       "    <tr>\n",
       "      <th>7</th>\n",
       "      <td>vacation/others</td>\n",
       "    </tr>\n",
       "  </tbody>\n",
       "</table>\n",
       "</div>"
      ],
      "text/plain": [
       "               purpose\n",
       "0             business\n",
       "1                  car\n",
       "2  domestic appliances\n",
       "3            education\n",
       "4  furniture/equipment\n",
       "5             radio/TV\n",
       "6              repairs\n",
       "7      vacation/others"
      ]
     },
     "execution_count": 55,
     "metadata": {},
     "output_type": "execute_result"
    }
   ],
   "source": [
    "select(sql)"
   ]
  },
  {
   "cell_type": "code",
   "execution_count": 56,
   "id": "13afe9ab",
   "metadata": {},
   "outputs": [
    {
     "data": {
      "text/plain": [
       "['business',\n",
       " 'car',\n",
       " 'domestic appliances',\n",
       " 'education',\n",
       " 'furniture/equipment',\n",
       " 'radio/TV',\n",
       " 'repairs',\n",
       " 'vacation/others']"
      ]
     },
     "execution_count": 56,
     "metadata": {},
     "output_type": "execute_result"
    }
   ],
   "source": [
    "purpose = list(select(sql)['purpose'].values)\n",
    "purpose"
   ]
  },
  {
   "cell_type": "code",
   "execution_count": 57,
   "id": "df453832",
   "metadata": {},
   "outputs": [
    {
     "name": "stdout",
     "output_type": "stream",
     "text": [
      "count(case when t.purpose = 'business' then 1 else null end) as business,\n",
      "count(case when t.purpose = 'car' then 1 else null end) as car,\n",
      "count(case when t.purpose = 'domestic appliances' then 1 else null end) as domesticappliances,\n",
      "count(case when t.purpose = 'education' then 1 else null end) as education,\n",
      "count(case when t.purpose = 'furniture/equipment' then 1 else null end) as furnitureequipment,\n",
      "count(case when t.purpose = 'radio/TV' then 1 else null end) as radiotv,\n",
      "count(case when t.purpose = 'repairs' then 1 else null end) as repairs,\n",
      "count(case when t.purpose = 'vacation/others' then 1 else null end) as vacationothers,\n"
     ]
    }
   ],
   "source": [
    "for p in purpose:\n",
    "  print(f\"count(case when t.purpose = '{p}' then 1 else null end) as {p.lower().replace(' ','').replace('/','')},\")"
   ]
  },
  {
   "cell_type": "code",
   "execution_count": 58,
   "id": "82ec3b2d",
   "metadata": {},
   "outputs": [],
   "source": [
    "sql = '''select t.housing, \n",
    "\n",
    "count(case when t.purpose = 'radio/TV' then 1 else null end) as radiotv,\n",
    "count(case when t.purpose = 'car' then 1 else null end) as car,\n",
    "count(case when t.purpose = 'education' then 1 else null end) as education,\n",
    "count(case when t.purpose = 'furniture/equipment' then 1 else null end) as furnitureequipment,\n",
    "count(case when t.purpose = 'repairs' then 1 else null end) as repairs,\n",
    "count(case when t.purpose = 'business' then 1 else null end) as business,\n",
    "count(case when t.purpose = 'domestic appliances' then 1 else null end) as domesticappliances,\n",
    "count(case when t.purpose = 'vacation/others' then 1 else null end) as vacationothers,\n",
    "count(1) as cnt \n",
    "\n",
    "from german_credit t\n",
    "group  by t.housing\n",
    "'''"
   ]
  },
  {
   "cell_type": "code",
   "execution_count": 59,
   "id": "f37fff48",
   "metadata": {},
   "outputs": [
    {
     "data": {
      "text/html": [
       "<div>\n",
       "<style scoped>\n",
       "    .dataframe tbody tr th:only-of-type {\n",
       "        vertical-align: middle;\n",
       "    }\n",
       "\n",
       "    .dataframe tbody tr th {\n",
       "        vertical-align: top;\n",
       "    }\n",
       "\n",
       "    .dataframe thead th {\n",
       "        text-align: right;\n",
       "    }\n",
       "</style>\n",
       "<table border=\"1\" class=\"dataframe\">\n",
       "  <thead>\n",
       "    <tr style=\"text-align: right;\">\n",
       "      <th></th>\n",
       "      <th>housing</th>\n",
       "      <th>radiotv</th>\n",
       "      <th>car</th>\n",
       "      <th>education</th>\n",
       "      <th>furnitureequipment</th>\n",
       "      <th>repairs</th>\n",
       "      <th>business</th>\n",
       "      <th>domesticappliances</th>\n",
       "      <th>vacationothers</th>\n",
       "      <th>cnt</th>\n",
       "    </tr>\n",
       "  </thead>\n",
       "  <tbody>\n",
       "    <tr>\n",
       "      <th>0</th>\n",
       "      <td>free</td>\n",
       "      <td>15</td>\n",
       "      <td>55</td>\n",
       "      <td>15</td>\n",
       "      <td>11</td>\n",
       "      <td>3</td>\n",
       "      <td>5</td>\n",
       "      <td>0</td>\n",
       "      <td>4</td>\n",
       "      <td>108</td>\n",
       "    </tr>\n",
       "    <tr>\n",
       "      <th>1</th>\n",
       "      <td>own</td>\n",
       "      <td>227</td>\n",
       "      <td>219</td>\n",
       "      <td>34</td>\n",
       "      <td>122</td>\n",
       "      <td>17</td>\n",
       "      <td>76</td>\n",
       "      <td>10</td>\n",
       "      <td>8</td>\n",
       "      <td>713</td>\n",
       "    </tr>\n",
       "    <tr>\n",
       "      <th>2</th>\n",
       "      <td>rent</td>\n",
       "      <td>38</td>\n",
       "      <td>63</td>\n",
       "      <td>10</td>\n",
       "      <td>48</td>\n",
       "      <td>2</td>\n",
       "      <td>16</td>\n",
       "      <td>2</td>\n",
       "      <td>0</td>\n",
       "      <td>179</td>\n",
       "    </tr>\n",
       "  </tbody>\n",
       "</table>\n",
       "</div>"
      ],
      "text/plain": [
       "  housing  radiotv  car  education  furnitureequipment  repairs  business  \\\n",
       "0    free       15   55         15                  11        3         5   \n",
       "1     own      227  219         34                 122       17        76   \n",
       "2    rent       38   63         10                  48        2        16   \n",
       "\n",
       "   domesticappliances  vacationothers  cnt  \n",
       "0                   0               4  108  \n",
       "1                  10               8  713  \n",
       "2                   2               0  179  "
      ]
     },
     "execution_count": 59,
     "metadata": {},
     "output_type": "execute_result"
    }
   ],
   "source": [
    "select(sql)"
   ]
  },
  {
   "cell_type": "markdown",
   "id": "da65ace0",
   "metadata": {},
   "source": [
    "## 7. Создание категорий из текстовых данных (like)"
   ]
  },
  {
   "cell_type": "markdown",
   "id": "20488786",
   "metadata": {},
   "source": [
    "#### пример разрозненных данных:"
   ]
  },
  {
   "cell_type": "code",
   "execution_count": 60,
   "id": "a7763d8a",
   "metadata": {},
   "outputs": [],
   "source": [
    "t = pd.DataFrame({'purpose':['машина','машина','машина','на машину','на покупку машины',\n",
    "                             'автомобиль','на возвращение 2007', \n",
    "                             'на свадьбу','свадьба','свадьба','свадьба','для свадьбы',\n",
    "                             'недвижимость','на покупку недвижимости']})\n",
    "# t"
   ]
  },
  {
   "cell_type": "code",
   "execution_count": 61,
   "id": "87c267ec",
   "metadata": {},
   "outputs": [
    {
     "data": {
      "text/html": [
       "<div>\n",
       "<style scoped>\n",
       "    .dataframe tbody tr th:only-of-type {\n",
       "        vertical-align: middle;\n",
       "    }\n",
       "\n",
       "    .dataframe tbody tr th {\n",
       "        vertical-align: top;\n",
       "    }\n",
       "\n",
       "    .dataframe thead th {\n",
       "        text-align: right;\n",
       "    }\n",
       "</style>\n",
       "<table border=\"1\" class=\"dataframe\">\n",
       "  <thead>\n",
       "    <tr style=\"text-align: right;\">\n",
       "      <th></th>\n",
       "      <th>purpose</th>\n",
       "    </tr>\n",
       "  </thead>\n",
       "  <tbody>\n",
       "    <tr>\n",
       "      <th>0</th>\n",
       "      <td>машина</td>\n",
       "    </tr>\n",
       "    <tr>\n",
       "      <th>1</th>\n",
       "      <td>машина</td>\n",
       "    </tr>\n",
       "    <tr>\n",
       "      <th>2</th>\n",
       "      <td>машина</td>\n",
       "    </tr>\n",
       "    <tr>\n",
       "      <th>3</th>\n",
       "      <td>на машину</td>\n",
       "    </tr>\n",
       "    <tr>\n",
       "      <th>4</th>\n",
       "      <td>на покупку машины</td>\n",
       "    </tr>\n",
       "    <tr>\n",
       "      <th>5</th>\n",
       "      <td>автомобиль</td>\n",
       "    </tr>\n",
       "    <tr>\n",
       "      <th>6</th>\n",
       "      <td>на возвращение 2007</td>\n",
       "    </tr>\n",
       "    <tr>\n",
       "      <th>7</th>\n",
       "      <td>на свадьбу</td>\n",
       "    </tr>\n",
       "    <tr>\n",
       "      <th>8</th>\n",
       "      <td>свадьба</td>\n",
       "    </tr>\n",
       "    <tr>\n",
       "      <th>9</th>\n",
       "      <td>свадьба</td>\n",
       "    </tr>\n",
       "    <tr>\n",
       "      <th>10</th>\n",
       "      <td>свадьба</td>\n",
       "    </tr>\n",
       "    <tr>\n",
       "      <th>11</th>\n",
       "      <td>для свадьбы</td>\n",
       "    </tr>\n",
       "    <tr>\n",
       "      <th>12</th>\n",
       "      <td>недвижимость</td>\n",
       "    </tr>\n",
       "    <tr>\n",
       "      <th>13</th>\n",
       "      <td>на покупку недвижимости</td>\n",
       "    </tr>\n",
       "  </tbody>\n",
       "</table>\n",
       "</div>"
      ],
      "text/plain": [
       "                    purpose\n",
       "0                    машина\n",
       "1                    машина\n",
       "2                    машина\n",
       "3                 на машину\n",
       "4         на покупку машины\n",
       "5                автомобиль\n",
       "6       на возвращение 2007\n",
       "7                на свадьбу\n",
       "8                   свадьба\n",
       "9                   свадьба\n",
       "10                  свадьба\n",
       "11              для свадьбы\n",
       "12             недвижимость\n",
       "13  на покупку недвижимости"
      ]
     },
     "execution_count": 61,
     "metadata": {},
     "output_type": "execute_result"
    }
   ],
   "source": [
    "cur = conn.cursor()\n",
    "sql = '''\n",
    "drop table if exists purpose;\n",
    "CREATE TABLE purpose (\n",
    "    purpose      VARCHAR(max)\n",
    ");\n",
    "'''\n",
    "cur.execute(sql)\n",
    "conn.commit()\n",
    "\n",
    "for index,row in t.iterrows():\n",
    "    cur.execute('''INSERT INTO purpose(\n",
    "                    [purpose]\n",
    "                    ) \n",
    "                    values (?)\n",
    "    ''', \n",
    "                    row['purpose']\n",
    "               )\n",
    "    \n",
    "conn.commit()\n",
    "cur.close()\n",
    "\n",
    "sql = '''select * from purpose t'''\n",
    "select(sql)"
   ]
  },
  {
   "cell_type": "markdown",
   "id": "0078f9e1",
   "metadata": {},
   "source": [
    "#### проверим на уникальные значения:"
   ]
  },
  {
   "cell_type": "code",
   "execution_count": 62,
   "id": "f2382363",
   "metadata": {},
   "outputs": [],
   "source": [
    "sql = '''select \n",
    "t.purpose, count(1) from purpose t\n",
    "group by t.purpose\n",
    "order by count(1) desc\n",
    "'''"
   ]
  },
  {
   "cell_type": "code",
   "execution_count": 63,
   "id": "761dd328",
   "metadata": {},
   "outputs": [
    {
     "data": {
      "text/html": [
       "<div>\n",
       "<style scoped>\n",
       "    .dataframe tbody tr th:only-of-type {\n",
       "        vertical-align: middle;\n",
       "    }\n",
       "\n",
       "    .dataframe tbody tr th {\n",
       "        vertical-align: top;\n",
       "    }\n",
       "\n",
       "    .dataframe thead th {\n",
       "        text-align: right;\n",
       "    }\n",
       "</style>\n",
       "<table border=\"1\" class=\"dataframe\">\n",
       "  <thead>\n",
       "    <tr style=\"text-align: right;\">\n",
       "      <th></th>\n",
       "      <th>purpose</th>\n",
       "      <th></th>\n",
       "    </tr>\n",
       "  </thead>\n",
       "  <tbody>\n",
       "    <tr>\n",
       "      <th>0</th>\n",
       "      <td>машина</td>\n",
       "      <td>3</td>\n",
       "    </tr>\n",
       "    <tr>\n",
       "      <th>1</th>\n",
       "      <td>свадьба</td>\n",
       "      <td>3</td>\n",
       "    </tr>\n",
       "    <tr>\n",
       "      <th>2</th>\n",
       "      <td>автомобиль</td>\n",
       "      <td>1</td>\n",
       "    </tr>\n",
       "    <tr>\n",
       "      <th>3</th>\n",
       "      <td>для свадьбы</td>\n",
       "      <td>1</td>\n",
       "    </tr>\n",
       "    <tr>\n",
       "      <th>4</th>\n",
       "      <td>на возвращение 2007</td>\n",
       "      <td>1</td>\n",
       "    </tr>\n",
       "    <tr>\n",
       "      <th>5</th>\n",
       "      <td>на машину</td>\n",
       "      <td>1</td>\n",
       "    </tr>\n",
       "    <tr>\n",
       "      <th>6</th>\n",
       "      <td>на покупку машины</td>\n",
       "      <td>1</td>\n",
       "    </tr>\n",
       "    <tr>\n",
       "      <th>7</th>\n",
       "      <td>на покупку недвижимости</td>\n",
       "      <td>1</td>\n",
       "    </tr>\n",
       "    <tr>\n",
       "      <th>8</th>\n",
       "      <td>на свадьбу</td>\n",
       "      <td>1</td>\n",
       "    </tr>\n",
       "    <tr>\n",
       "      <th>9</th>\n",
       "      <td>недвижимость</td>\n",
       "      <td>1</td>\n",
       "    </tr>\n",
       "  </tbody>\n",
       "</table>\n",
       "</div>"
      ],
      "text/plain": [
       "                   purpose   \n",
       "0                   машина  3\n",
       "1                  свадьба  3\n",
       "2               автомобиль  1\n",
       "3              для свадьбы  1\n",
       "4      на возвращение 2007  1\n",
       "5                на машину  1\n",
       "6        на покупку машины  1\n",
       "7  на покупку недвижимости  1\n",
       "8               на свадьбу  1\n",
       "9             недвижимость  1"
      ]
     },
     "execution_count": 63,
     "metadata": {},
     "output_type": "execute_result"
    }
   ],
   "source": [
    "select(sql)"
   ]
  },
  {
   "cell_type": "markdown",
   "id": "4a822738",
   "metadata": {},
   "source": [
    "#### выберем общее:"
   ]
  },
  {
   "cell_type": "code",
   "execution_count": 64,
   "id": "3ba86a3a",
   "metadata": {},
   "outputs": [],
   "source": [
    "cat = '''select t.purpose,\n",
    "\n",
    "case when t.purpose like '%свадьб%' then 'свадьба'\n",
    "when t.purpose like '%машин%' or t.purpose like '%авто%' then 'машина'\n",
    "when t.purpose like '%недвиж%' then 'недвижимость'\n",
    "\n",
    "else 'другое' end as purpose_cat\n",
    "\n",
    "from purpose t\n",
    "'''"
   ]
  },
  {
   "cell_type": "code",
   "execution_count": 65,
   "id": "35fa1be5",
   "metadata": {},
   "outputs": [
    {
     "data": {
      "text/html": [
       "<div>\n",
       "<style scoped>\n",
       "    .dataframe tbody tr th:only-of-type {\n",
       "        vertical-align: middle;\n",
       "    }\n",
       "\n",
       "    .dataframe tbody tr th {\n",
       "        vertical-align: top;\n",
       "    }\n",
       "\n",
       "    .dataframe thead th {\n",
       "        text-align: right;\n",
       "    }\n",
       "</style>\n",
       "<table border=\"1\" class=\"dataframe\">\n",
       "  <thead>\n",
       "    <tr style=\"text-align: right;\">\n",
       "      <th></th>\n",
       "      <th>purpose</th>\n",
       "      <th>purpose_cat</th>\n",
       "    </tr>\n",
       "  </thead>\n",
       "  <tbody>\n",
       "    <tr>\n",
       "      <th>0</th>\n",
       "      <td>машина</td>\n",
       "      <td>машина</td>\n",
       "    </tr>\n",
       "    <tr>\n",
       "      <th>1</th>\n",
       "      <td>машина</td>\n",
       "      <td>машина</td>\n",
       "    </tr>\n",
       "    <tr>\n",
       "      <th>2</th>\n",
       "      <td>машина</td>\n",
       "      <td>машина</td>\n",
       "    </tr>\n",
       "    <tr>\n",
       "      <th>3</th>\n",
       "      <td>на машину</td>\n",
       "      <td>машина</td>\n",
       "    </tr>\n",
       "    <tr>\n",
       "      <th>4</th>\n",
       "      <td>на покупку машины</td>\n",
       "      <td>машина</td>\n",
       "    </tr>\n",
       "    <tr>\n",
       "      <th>5</th>\n",
       "      <td>автомобиль</td>\n",
       "      <td>машина</td>\n",
       "    </tr>\n",
       "    <tr>\n",
       "      <th>6</th>\n",
       "      <td>на возвращение 2007</td>\n",
       "      <td>другое</td>\n",
       "    </tr>\n",
       "    <tr>\n",
       "      <th>7</th>\n",
       "      <td>на свадьбу</td>\n",
       "      <td>свадьба</td>\n",
       "    </tr>\n",
       "    <tr>\n",
       "      <th>8</th>\n",
       "      <td>свадьба</td>\n",
       "      <td>свадьба</td>\n",
       "    </tr>\n",
       "    <tr>\n",
       "      <th>9</th>\n",
       "      <td>свадьба</td>\n",
       "      <td>свадьба</td>\n",
       "    </tr>\n",
       "    <tr>\n",
       "      <th>10</th>\n",
       "      <td>свадьба</td>\n",
       "      <td>свадьба</td>\n",
       "    </tr>\n",
       "    <tr>\n",
       "      <th>11</th>\n",
       "      <td>для свадьбы</td>\n",
       "      <td>свадьба</td>\n",
       "    </tr>\n",
       "    <tr>\n",
       "      <th>12</th>\n",
       "      <td>недвижимость</td>\n",
       "      <td>недвижимость</td>\n",
       "    </tr>\n",
       "    <tr>\n",
       "      <th>13</th>\n",
       "      <td>на покупку недвижимости</td>\n",
       "      <td>недвижимость</td>\n",
       "    </tr>\n",
       "  </tbody>\n",
       "</table>\n",
       "</div>"
      ],
      "text/plain": [
       "                    purpose   purpose_cat\n",
       "0                    машина        машина\n",
       "1                    машина        машина\n",
       "2                    машина        машина\n",
       "3                 на машину        машина\n",
       "4         на покупку машины        машина\n",
       "5                автомобиль        машина\n",
       "6       на возвращение 2007        другое\n",
       "7                на свадьбу       свадьба\n",
       "8                   свадьба       свадьба\n",
       "9                   свадьба       свадьба\n",
       "10                  свадьба       свадьба\n",
       "11              для свадьбы       свадьба\n",
       "12             недвижимость  недвижимость\n",
       "13  на покупку недвижимости  недвижимость"
      ]
     },
     "execution_count": 65,
     "metadata": {},
     "output_type": "execute_result"
    }
   ],
   "source": [
    "select(cat)"
   ]
  },
  {
   "cell_type": "code",
   "execution_count": 66,
   "id": "1c083bef",
   "metadata": {},
   "outputs": [],
   "source": [
    "sql = f'''select \n",
    "t.purpose_cat,\n",
    "\n",
    "count(1)\n",
    "\n",
    "from (\n",
    "    select t.purpose,\n",
    "\n",
    "    case when t.purpose like '%свадьб%' then 'свадьба'\n",
    "    when t.purpose like '%машин%' or t.purpose like '%авто%' then 'машина'\n",
    "    when t.purpose like '%недвиж%' then 'недвижимость'\n",
    "\n",
    "    else 'другое' end as purpose_cat\n",
    "\n",
    "    from purpose t\n",
    ") t\n",
    "group by t.purpose_cat\n",
    "'''"
   ]
  },
  {
   "cell_type": "code",
   "execution_count": 67,
   "id": "56abe6f9",
   "metadata": {},
   "outputs": [
    {
     "data": {
      "text/html": [
       "<div>\n",
       "<style scoped>\n",
       "    .dataframe tbody tr th:only-of-type {\n",
       "        vertical-align: middle;\n",
       "    }\n",
       "\n",
       "    .dataframe tbody tr th {\n",
       "        vertical-align: top;\n",
       "    }\n",
       "\n",
       "    .dataframe thead th {\n",
       "        text-align: right;\n",
       "    }\n",
       "</style>\n",
       "<table border=\"1\" class=\"dataframe\">\n",
       "  <thead>\n",
       "    <tr style=\"text-align: right;\">\n",
       "      <th></th>\n",
       "      <th>purpose_cat</th>\n",
       "      <th></th>\n",
       "    </tr>\n",
       "  </thead>\n",
       "  <tbody>\n",
       "    <tr>\n",
       "      <th>0</th>\n",
       "      <td>другое</td>\n",
       "      <td>1</td>\n",
       "    </tr>\n",
       "    <tr>\n",
       "      <th>1</th>\n",
       "      <td>машина</td>\n",
       "      <td>6</td>\n",
       "    </tr>\n",
       "    <tr>\n",
       "      <th>2</th>\n",
       "      <td>недвижимость</td>\n",
       "      <td>2</td>\n",
       "    </tr>\n",
       "    <tr>\n",
       "      <th>3</th>\n",
       "      <td>свадьба</td>\n",
       "      <td>5</td>\n",
       "    </tr>\n",
       "  </tbody>\n",
       "</table>\n",
       "</div>"
      ],
      "text/plain": [
       "    purpose_cat   \n",
       "0        другое  1\n",
       "1        машина  6\n",
       "2  недвижимость  2\n",
       "3       свадьба  5"
      ]
     },
     "execution_count": 67,
     "metadata": {},
     "output_type": "execute_result"
    }
   ],
   "source": [
    "select(sql)"
   ]
  },
  {
   "cell_type": "code",
   "execution_count": 68,
   "id": "a7ad0636",
   "metadata": {},
   "outputs": [],
   "source": [
    "sql = f'''select \n",
    "t.purpose_cat,\n",
    "count(1)\n",
    "\n",
    "from ({cat}) t\n",
    "group by t.purpose_cat\n",
    "'''"
   ]
  },
  {
   "cell_type": "code",
   "execution_count": 69,
   "id": "38232c00",
   "metadata": {},
   "outputs": [
    {
     "data": {
      "text/html": [
       "<div>\n",
       "<style scoped>\n",
       "    .dataframe tbody tr th:only-of-type {\n",
       "        vertical-align: middle;\n",
       "    }\n",
       "\n",
       "    .dataframe tbody tr th {\n",
       "        vertical-align: top;\n",
       "    }\n",
       "\n",
       "    .dataframe thead th {\n",
       "        text-align: right;\n",
       "    }\n",
       "</style>\n",
       "<table border=\"1\" class=\"dataframe\">\n",
       "  <thead>\n",
       "    <tr style=\"text-align: right;\">\n",
       "      <th></th>\n",
       "      <th>purpose_cat</th>\n",
       "      <th></th>\n",
       "    </tr>\n",
       "  </thead>\n",
       "  <tbody>\n",
       "    <tr>\n",
       "      <th>0</th>\n",
       "      <td>другое</td>\n",
       "      <td>1</td>\n",
       "    </tr>\n",
       "    <tr>\n",
       "      <th>1</th>\n",
       "      <td>машина</td>\n",
       "      <td>6</td>\n",
       "    </tr>\n",
       "    <tr>\n",
       "      <th>2</th>\n",
       "      <td>недвижимость</td>\n",
       "      <td>2</td>\n",
       "    </tr>\n",
       "    <tr>\n",
       "      <th>3</th>\n",
       "      <td>свадьба</td>\n",
       "      <td>5</td>\n",
       "    </tr>\n",
       "  </tbody>\n",
       "</table>\n",
       "</div>"
      ],
      "text/plain": [
       "    purpose_cat   \n",
       "0        другое  1\n",
       "1        машина  6\n",
       "2  недвижимость  2\n",
       "3       свадьба  5"
      ]
     },
     "execution_count": 69,
     "metadata": {},
     "output_type": "execute_result"
    }
   ],
   "source": [
    "select(sql)"
   ]
  },
  {
   "cell_type": "code",
   "execution_count": 70,
   "id": "d6b7f67a",
   "metadata": {},
   "outputs": [],
   "source": [
    "sql = f'''select \n",
    "t.purpose, \n",
    "count(1) \n",
    "\n",
    "from ({cat}) t\n",
    "where t.purpose_cat = 'другое'\n",
    "\n",
    "group by t.purpose\n",
    "order by count(1) desc'''"
   ]
  },
  {
   "cell_type": "code",
   "execution_count": 71,
   "id": "f9a66942",
   "metadata": {},
   "outputs": [
    {
     "data": {
      "text/html": [
       "<div>\n",
       "<style scoped>\n",
       "    .dataframe tbody tr th:only-of-type {\n",
       "        vertical-align: middle;\n",
       "    }\n",
       "\n",
       "    .dataframe tbody tr th {\n",
       "        vertical-align: top;\n",
       "    }\n",
       "\n",
       "    .dataframe thead th {\n",
       "        text-align: right;\n",
       "    }\n",
       "</style>\n",
       "<table border=\"1\" class=\"dataframe\">\n",
       "  <thead>\n",
       "    <tr style=\"text-align: right;\">\n",
       "      <th></th>\n",
       "      <th>purpose</th>\n",
       "      <th></th>\n",
       "    </tr>\n",
       "  </thead>\n",
       "  <tbody>\n",
       "    <tr>\n",
       "      <th>0</th>\n",
       "      <td>на возвращение 2007</td>\n",
       "      <td>1</td>\n",
       "    </tr>\n",
       "  </tbody>\n",
       "</table>\n",
       "</div>"
      ],
      "text/plain": [
       "               purpose   \n",
       "0  на возвращение 2007  1"
      ]
     },
     "execution_count": 71,
     "metadata": {},
     "output_type": "execute_result"
    }
   ],
   "source": [
    "select(sql)"
   ]
  },
  {
   "cell_type": "markdown",
   "id": "8d335dc3",
   "metadata": {},
   "source": [
    "----------------"
   ]
  },
  {
   "cell_type": "code",
   "execution_count": 72,
   "id": "aab2adec",
   "metadata": {},
   "outputs": [],
   "source": [
    "conn.close()"
   ]
  },
  {
   "cell_type": "code",
   "execution_count": null,
   "id": "be0d2b80",
   "metadata": {},
   "outputs": [],
   "source": []
  }
 ],
 "metadata": {
  "kernelspec": {
   "display_name": "Python 3 (ipykernel)",
   "language": "python",
   "name": "python3"
  },
  "language_info": {
   "codemirror_mode": {
    "name": "ipython",
    "version": 3
   },
   "file_extension": ".py",
   "mimetype": "text/x-python",
   "name": "python",
   "nbconvert_exporter": "python",
   "pygments_lexer": "ipython3",
   "version": "3.9.13"
  }
 },
 "nbformat": 4,
 "nbformat_minor": 5
}
